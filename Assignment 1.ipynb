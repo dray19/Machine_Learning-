{
 "cells": [
  {
   "cell_type": "markdown",
   "metadata": {},
   "source": [
    "## Qustion 1"
   ]
  },
  {
   "cell_type": "markdown",
   "metadata": {},
   "source": [
    "- Imported needed library’s and created a data frame to do normalization techniques on."
   ]
  },
  {
   "cell_type": "code",
   "execution_count": 1,
   "metadata": {},
   "outputs": [
    {
     "data": {
      "text/html": [
       "<div>\n",
       "<style scoped>\n",
       "    .dataframe tbody tr th:only-of-type {\n",
       "        vertical-align: middle;\n",
       "    }\n",
       "\n",
       "    .dataframe tbody tr th {\n",
       "        vertical-align: top;\n",
       "    }\n",
       "\n",
       "    .dataframe thead th {\n",
       "        text-align: right;\n",
       "    }\n",
       "</style>\n",
       "<table border=\"1\" class=\"dataframe\">\n",
       "  <thead>\n",
       "    <tr style=\"text-align: right;\">\n",
       "      <th></th>\n",
       "      <th>A</th>\n",
       "      <th>B</th>\n",
       "      <th>C</th>\n",
       "      <th>D</th>\n",
       "      <th>E</th>\n",
       "    </tr>\n",
       "  </thead>\n",
       "  <tbody>\n",
       "    <tr>\n",
       "      <th>0</th>\n",
       "      <td>37</td>\n",
       "      <td>41</td>\n",
       "      <td>7</td>\n",
       "      <td>74</td>\n",
       "      <td>2</td>\n",
       "    </tr>\n",
       "    <tr>\n",
       "      <th>1</th>\n",
       "      <td>11</td>\n",
       "      <td>17</td>\n",
       "      <td>21</td>\n",
       "      <td>88</td>\n",
       "      <td>2</td>\n",
       "    </tr>\n",
       "    <tr>\n",
       "      <th>2</th>\n",
       "      <td>70</td>\n",
       "      <td>9</td>\n",
       "      <td>36</td>\n",
       "      <td>85</td>\n",
       "      <td>2</td>\n",
       "    </tr>\n",
       "    <tr>\n",
       "      <th>3</th>\n",
       "      <td>39</td>\n",
       "      <td>5</td>\n",
       "      <td>94</td>\n",
       "      <td>86</td>\n",
       "      <td>2</td>\n",
       "    </tr>\n",
       "    <tr>\n",
       "      <th>4</th>\n",
       "      <td>65</td>\n",
       "      <td>70</td>\n",
       "      <td>90</td>\n",
       "      <td>31</td>\n",
       "      <td>2</td>\n",
       "    </tr>\n",
       "  </tbody>\n",
       "</table>\n",
       "</div>"
      ],
      "text/plain": [
       "    A   B   C   D  E\n",
       "0  37  41   7  74  2\n",
       "1  11  17  21  88  2\n",
       "2  70   9  36  85  2\n",
       "3  39   5  94  86  2\n",
       "4  65  70  90  31  2"
      ]
     },
     "execution_count": 1,
     "metadata": {},
     "output_type": "execute_result"
    }
   ],
   "source": [
    "import pandas as pd\n",
    "import numpy as np\n",
    "df = pd.DataFrame(np.random.randint(0,100,size=(25, 4)), columns=list('ABCD'))\n",
    "df['E'] = 2\n",
    "df.head()"
   ]
  },
  {
   "cell_type": "markdown",
   "metadata": {},
   "source": [
    "- Created a z score function so I could normalize the data. If the standard deviation is zero that means the values are constant and the original values are returned."
   ]
  },
  {
   "cell_type": "code",
   "execution_count": 2,
   "metadata": {},
   "outputs": [],
   "source": [
    "def z_score(x):\n",
    "    mean = np.mean(x)\n",
    "    std = np.std(x)\n",
    "    if std == 0:\n",
    "        return(x)\n",
    "    else:\n",
    "        y = (x - mean)/std\n",
    "        return(y)"
   ]
  },
  {
   "cell_type": "code",
   "execution_count": 3,
   "metadata": {},
   "outputs": [
    {
     "data": {
      "text/plain": [
       "0    2\n",
       "1    2\n",
       "2    2\n",
       "3    2\n",
       "4    2\n",
       "Name: E, dtype: int64"
      ]
     },
     "execution_count": 3,
     "metadata": {},
     "output_type": "execute_result"
    }
   ],
   "source": [
    "z_score(df.E).head(5)"
   ]
  },
  {
   "cell_type": "markdown",
   "metadata": {},
   "source": [
    "- When implementing column E in the z_score function the result was NaN. Python doesn’t allow for numbers to  be divided by zero. But the z_score for a constant value in a column will be zero because all values are the same. The standard deviation will be zero and the x-value minus the mean will be zero also. For column E the original data was returned. \n",
    "\n"
   ]
  },
  {
   "cell_type": "markdown",
   "metadata": {},
   "source": [
    "- Using the apply function I normalized the data with the z score function I created above"
   ]
  },
  {
   "cell_type": "code",
   "execution_count": 4,
   "metadata": {},
   "outputs": [
    {
     "data": {
      "text/html": [
       "<div>\n",
       "<style scoped>\n",
       "    .dataframe tbody tr th:only-of-type {\n",
       "        vertical-align: middle;\n",
       "    }\n",
       "\n",
       "    .dataframe tbody tr th {\n",
       "        vertical-align: top;\n",
       "    }\n",
       "\n",
       "    .dataframe thead th {\n",
       "        text-align: right;\n",
       "    }\n",
       "</style>\n",
       "<table border=\"1\" class=\"dataframe\">\n",
       "  <thead>\n",
       "    <tr style=\"text-align: right;\">\n",
       "      <th></th>\n",
       "      <th>A</th>\n",
       "      <th>B</th>\n",
       "      <th>C</th>\n",
       "      <th>D</th>\n",
       "      <th>E</th>\n",
       "    </tr>\n",
       "  </thead>\n",
       "  <tbody>\n",
       "    <tr>\n",
       "      <th>0</th>\n",
       "      <td>-0.189412</td>\n",
       "      <td>0.061086</td>\n",
       "      <td>-1.139337</td>\n",
       "      <td>0.721514</td>\n",
       "      <td>2</td>\n",
       "    </tr>\n",
       "    <tr>\n",
       "      <th>1</th>\n",
       "      <td>-0.983721</td>\n",
       "      <td>-0.811568</td>\n",
       "      <td>-0.692788</td>\n",
       "      <td>1.201609</td>\n",
       "      <td>2</td>\n",
       "    </tr>\n",
       "    <tr>\n",
       "      <th>2</th>\n",
       "      <td>0.818749</td>\n",
       "      <td>-1.102452</td>\n",
       "      <td>-0.214343</td>\n",
       "      <td>1.098731</td>\n",
       "      <td>2</td>\n",
       "    </tr>\n",
       "    <tr>\n",
       "      <th>3</th>\n",
       "      <td>-0.128311</td>\n",
       "      <td>-1.247895</td>\n",
       "      <td>1.635643</td>\n",
       "      <td>1.133024</td>\n",
       "      <td>2</td>\n",
       "    </tr>\n",
       "    <tr>\n",
       "      <th>4</th>\n",
       "      <td>0.665997</td>\n",
       "      <td>1.115542</td>\n",
       "      <td>1.508058</td>\n",
       "      <td>-0.753063</td>\n",
       "      <td>2</td>\n",
       "    </tr>\n",
       "    <tr>\n",
       "      <th>5</th>\n",
       "      <td>-0.892070</td>\n",
       "      <td>1.733672</td>\n",
       "      <td>0.997717</td>\n",
       "      <td>0.104249</td>\n",
       "      <td>2</td>\n",
       "    </tr>\n",
       "    <tr>\n",
       "      <th>6</th>\n",
       "      <td>-0.617117</td>\n",
       "      <td>-0.484323</td>\n",
       "      <td>-0.724684</td>\n",
       "      <td>0.344297</td>\n",
       "      <td>2</td>\n",
       "    </tr>\n",
       "    <tr>\n",
       "      <th>7</th>\n",
       "      <td>-0.861520</td>\n",
       "      <td>0.933739</td>\n",
       "      <td>0.710650</td>\n",
       "      <td>0.790099</td>\n",
       "      <td>2</td>\n",
       "    </tr>\n",
       "    <tr>\n",
       "      <th>8</th>\n",
       "      <td>-0.922620</td>\n",
       "      <td>-1.393337</td>\n",
       "      <td>-1.330714</td>\n",
       "      <td>-0.821648</td>\n",
       "      <td>2</td>\n",
       "    </tr>\n",
       "    <tr>\n",
       "      <th>9</th>\n",
       "      <td>1.521407</td>\n",
       "      <td>0.133807</td>\n",
       "      <td>-1.011751</td>\n",
       "      <td>0.069957</td>\n",
       "      <td>2</td>\n",
       "    </tr>\n",
       "  </tbody>\n",
       "</table>\n",
       "</div>"
      ],
      "text/plain": [
       "          A         B         C         D  E\n",
       "0 -0.189412  0.061086 -1.139337  0.721514  2\n",
       "1 -0.983721 -0.811568 -0.692788  1.201609  2\n",
       "2  0.818749 -1.102452 -0.214343  1.098731  2\n",
       "3 -0.128311 -1.247895  1.635643  1.133024  2\n",
       "4  0.665997  1.115542  1.508058 -0.753063  2\n",
       "5 -0.892070  1.733672  0.997717  0.104249  2\n",
       "6 -0.617117 -0.484323 -0.724684  0.344297  2\n",
       "7 -0.861520  0.933739  0.710650  0.790099  2\n",
       "8 -0.922620 -1.393337 -1.330714 -0.821648  2\n",
       "9  1.521407  0.133807 -1.011751  0.069957  2"
      ]
     },
     "execution_count": 4,
     "metadata": {},
     "output_type": "execute_result"
    }
   ],
   "source": [
    "zscore_df = df[['A','B','C','D','E']].apply(z_score)\n",
    "zscore_df.head(10)"
   ]
  },
  {
   "cell_type": "markdown",
   "metadata": {},
   "source": [
    "- Created a min,max normalization function so I could normalize the data. If the min and the max are equal the values are constant and the original values are returned."
   ]
  },
  {
   "cell_type": "code",
   "execution_count": 6,
   "metadata": {},
   "outputs": [],
   "source": [
    "def max_min_nor(x):\n",
    "    max1 = np.max(x)\n",
    "    min1 = np.min(x)\n",
    "    if min1 == max1:\n",
    "        return(x)\n",
    "    else:\n",
    "        y = (x - min1)/(max1 - min1)\n",
    "        return(y)"
   ]
  },
  {
   "cell_type": "code",
   "execution_count": 7,
   "metadata": {},
   "outputs": [
    {
     "data": {
      "text/plain": [
       "0    2\n",
       "1    2\n",
       "2    2\n",
       "3    2\n",
       "4    2\n",
       "Name: E, dtype: int64"
      ]
     },
     "execution_count": 7,
     "metadata": {},
     "output_type": "execute_result"
    }
   ],
   "source": [
    "max_min_nor(df.E).head()"
   ]
  },
  {
   "cell_type": "markdown",
   "metadata": {},
   "source": [
    "- When implementing column E in the max-min normalization function the results were NaN. Python doesn’t allow for numbers to be divided by zero. But the max-min normalization for a constant value in a column will be zero because all values are the same. The max and the min for this case will be 2 and when put in the function the score is zero or NaN. Once again the original data was returned for column E. \n",
    "\n",
    "\n"
   ]
  },
  {
   "cell_type": "markdown",
   "metadata": {},
   "source": [
    "- Using the apply function I normalized the data with the min,max normalization function I created above."
   ]
  },
  {
   "cell_type": "code",
   "execution_count": 8,
   "metadata": {},
   "outputs": [
    {
     "data": {
      "text/html": [
       "<div>\n",
       "<style scoped>\n",
       "    .dataframe tbody tr th:only-of-type {\n",
       "        vertical-align: middle;\n",
       "    }\n",
       "\n",
       "    .dataframe tbody tr th {\n",
       "        vertical-align: top;\n",
       "    }\n",
       "\n",
       "    .dataframe thead th {\n",
       "        text-align: right;\n",
       "    }\n",
       "</style>\n",
       "<table border=\"1\" class=\"dataframe\">\n",
       "  <thead>\n",
       "    <tr style=\"text-align: right;\">\n",
       "      <th></th>\n",
       "      <th>A</th>\n",
       "      <th>B</th>\n",
       "      <th>C</th>\n",
       "      <th>D</th>\n",
       "      <th>E</th>\n",
       "    </tr>\n",
       "  </thead>\n",
       "  <tbody>\n",
       "    <tr>\n",
       "      <th>0</th>\n",
       "      <td>0.375000</td>\n",
       "      <td>0.431579</td>\n",
       "      <td>0.062500</td>\n",
       "      <td>0.756098</td>\n",
       "      <td>2</td>\n",
       "    </tr>\n",
       "    <tr>\n",
       "      <th>1</th>\n",
       "      <td>0.104167</td>\n",
       "      <td>0.178947</td>\n",
       "      <td>0.208333</td>\n",
       "      <td>0.926829</td>\n",
       "      <td>2</td>\n",
       "    </tr>\n",
       "    <tr>\n",
       "      <th>2</th>\n",
       "      <td>0.718750</td>\n",
       "      <td>0.094737</td>\n",
       "      <td>0.364583</td>\n",
       "      <td>0.890244</td>\n",
       "      <td>2</td>\n",
       "    </tr>\n",
       "    <tr>\n",
       "      <th>3</th>\n",
       "      <td>0.395833</td>\n",
       "      <td>0.052632</td>\n",
       "      <td>0.968750</td>\n",
       "      <td>0.902439</td>\n",
       "      <td>2</td>\n",
       "    </tr>\n",
       "    <tr>\n",
       "      <th>4</th>\n",
       "      <td>0.666667</td>\n",
       "      <td>0.736842</td>\n",
       "      <td>0.927083</td>\n",
       "      <td>0.231707</td>\n",
       "      <td>2</td>\n",
       "    </tr>\n",
       "    <tr>\n",
       "      <th>5</th>\n",
       "      <td>0.135417</td>\n",
       "      <td>0.915789</td>\n",
       "      <td>0.760417</td>\n",
       "      <td>0.536585</td>\n",
       "      <td>2</td>\n",
       "    </tr>\n",
       "    <tr>\n",
       "      <th>6</th>\n",
       "      <td>0.229167</td>\n",
       "      <td>0.273684</td>\n",
       "      <td>0.197917</td>\n",
       "      <td>0.621951</td>\n",
       "      <td>2</td>\n",
       "    </tr>\n",
       "    <tr>\n",
       "      <th>7</th>\n",
       "      <td>0.145833</td>\n",
       "      <td>0.684211</td>\n",
       "      <td>0.666667</td>\n",
       "      <td>0.780488</td>\n",
       "      <td>2</td>\n",
       "    </tr>\n",
       "    <tr>\n",
       "      <th>8</th>\n",
       "      <td>0.125000</td>\n",
       "      <td>0.010526</td>\n",
       "      <td>0.000000</td>\n",
       "      <td>0.207317</td>\n",
       "      <td>2</td>\n",
       "    </tr>\n",
       "    <tr>\n",
       "      <th>9</th>\n",
       "      <td>0.958333</td>\n",
       "      <td>0.452632</td>\n",
       "      <td>0.104167</td>\n",
       "      <td>0.524390</td>\n",
       "      <td>2</td>\n",
       "    </tr>\n",
       "  </tbody>\n",
       "</table>\n",
       "</div>"
      ],
      "text/plain": [
       "          A         B         C         D  E\n",
       "0  0.375000  0.431579  0.062500  0.756098  2\n",
       "1  0.104167  0.178947  0.208333  0.926829  2\n",
       "2  0.718750  0.094737  0.364583  0.890244  2\n",
       "3  0.395833  0.052632  0.968750  0.902439  2\n",
       "4  0.666667  0.736842  0.927083  0.231707  2\n",
       "5  0.135417  0.915789  0.760417  0.536585  2\n",
       "6  0.229167  0.273684  0.197917  0.621951  2\n",
       "7  0.145833  0.684211  0.666667  0.780488  2\n",
       "8  0.125000  0.010526  0.000000  0.207317  2\n",
       "9  0.958333  0.452632  0.104167  0.524390  2"
      ]
     },
     "execution_count": 8,
     "metadata": {},
     "output_type": "execute_result"
    }
   ],
   "source": [
    "max_min_df = df[['A','B','C','D','E']].apply(max_min_nor)\n",
    "max_min_df.head(10)"
   ]
  },
  {
   "cell_type": "markdown",
   "metadata": {},
   "source": [
    "## Qustion 2"
   ]
  },
  {
   "cell_type": "markdown",
   "metadata": {},
   "source": [
    "#### Continuous:"
   ]
  },
  {
   "cell_type": "markdown",
   "metadata": {},
   "source": [
    "- Created a data frame for the continuous data given"
   ]
  },
  {
   "cell_type": "code",
   "execution_count": 9,
   "metadata": {},
   "outputs": [
    {
     "data": {
      "text/html": [
       "<div>\n",
       "<style scoped>\n",
       "    .dataframe tbody tr th:only-of-type {\n",
       "        vertical-align: middle;\n",
       "    }\n",
       "\n",
       "    .dataframe tbody tr th {\n",
       "        vertical-align: top;\n",
       "    }\n",
       "\n",
       "    .dataframe thead th {\n",
       "        text-align: right;\n",
       "    }\n",
       "</style>\n",
       "<table border=\"1\" class=\"dataframe\">\n",
       "  <thead>\n",
       "    <tr style=\"text-align: right;\">\n",
       "      <th></th>\n",
       "      <th>Pred</th>\n",
       "      <th>Act</th>\n",
       "    </tr>\n",
       "  </thead>\n",
       "  <tbody>\n",
       "    <tr>\n",
       "      <th>0</th>\n",
       "      <td>2.0</td>\n",
       "      <td>2.1</td>\n",
       "    </tr>\n",
       "    <tr>\n",
       "      <th>1</th>\n",
       "      <td>0.5</td>\n",
       "      <td>0.5</td>\n",
       "    </tr>\n",
       "    <tr>\n",
       "      <th>2</th>\n",
       "      <td>0.7</td>\n",
       "      <td>0.6</td>\n",
       "    </tr>\n",
       "    <tr>\n",
       "      <th>3</th>\n",
       "      <td>0.3</td>\n",
       "      <td>0.3</td>\n",
       "    </tr>\n",
       "    <tr>\n",
       "      <th>4</th>\n",
       "      <td>0.6</td>\n",
       "      <td>0.6</td>\n",
       "    </tr>\n",
       "    <tr>\n",
       "      <th>5</th>\n",
       "      <td>1.0</td>\n",
       "      <td>1.2</td>\n",
       "    </tr>\n",
       "    <tr>\n",
       "      <th>6</th>\n",
       "      <td>3.0</td>\n",
       "      <td>2.8</td>\n",
       "    </tr>\n",
       "    <tr>\n",
       "      <th>7</th>\n",
       "      <td>4.0</td>\n",
       "      <td>4.0</td>\n",
       "    </tr>\n",
       "    <tr>\n",
       "      <th>8</th>\n",
       "      <td>0.2</td>\n",
       "      <td>0.1</td>\n",
       "    </tr>\n",
       "    <tr>\n",
       "      <th>9</th>\n",
       "      <td>0.8</td>\n",
       "      <td>0.7</td>\n",
       "    </tr>\n",
       "    <tr>\n",
       "      <th>10</th>\n",
       "      <td>2.2</td>\n",
       "      <td>2.2</td>\n",
       "    </tr>\n",
       "    <tr>\n",
       "      <th>11</th>\n",
       "      <td>3.5</td>\n",
       "      <td>3.5</td>\n",
       "    </tr>\n",
       "  </tbody>\n",
       "</table>\n",
       "</div>"
      ],
      "text/plain": [
       "    Pred  Act\n",
       "0    2.0  2.1\n",
       "1    0.5  0.5\n",
       "2    0.7  0.6\n",
       "3    0.3  0.3\n",
       "4    0.6  0.6\n",
       "5    1.0  1.2\n",
       "6    3.0  2.8\n",
       "7    4.0  4.0\n",
       "8    0.2  0.1\n",
       "9    0.8  0.7\n",
       "10   2.2  2.2\n",
       "11   3.5  3.5"
      ]
     },
     "execution_count": 9,
     "metadata": {},
     "output_type": "execute_result"
    }
   ],
   "source": [
    "Pred = [2, 0.5, 0.7, 0.3, 0.6, 1, 3, 4, 0.2, 0.8, 2.2, 3.5]\n",
    "Act = [2.1, 0.5, 0.6, 0.3, 0.6, 1.2, 2.8, 4, 0.1, 0.7, 2.2, 3.5]\n",
    "df2 = pd.DataFrame({\"Pred\": Pred, \"Act\":Act})\n",
    "df2"
   ]
  },
  {
   "cell_type": "markdown",
   "metadata": {},
   "source": [
    "### Mean Squared Error"
   ]
  },
  {
   "cell_type": "markdown",
   "metadata": {},
   "source": [
    "- n = Number of training examples\n",
    "- i = ith training example in a data set\n",
    "- y = Actual in training Example\n",
    "- y_pred = Prediction in training example\n",
    "- Summation = Sum of all instances\n",
    "\n",
    "**MSE = Summation(( y_pred**i - **y**i **)^2) /n**\n",
    "\n",
    "\n"
   ]
  },
  {
   "cell_type": "markdown",
   "metadata": {},
   "source": [
    "- Created a new column called squared error which is the difference between Pred and Act squared. Then found the mean to get the Mean Squared Error."
   ]
  },
  {
   "cell_type": "code",
   "execution_count": 10,
   "metadata": {},
   "outputs": [
    {
     "name": "stdout",
     "output_type": "stream",
     "text": [
      "MSE: 0.010000000000000007\n"
     ]
    }
   ],
   "source": [
    "df2[\"squared_error\"] = (df2[\"Pred\"] - df2[\"Act\"])**2\n",
    "print(\"MSE:\", np.mean(df2.squared_error))"
   ]
  },
  {
   "cell_type": "markdown",
   "metadata": {},
   "source": [
    "### Mean Absolute Error"
   ]
  },
  {
   "cell_type": "markdown",
   "metadata": {},
   "source": [
    "- n = Number of training examples\n",
    "- i = ith training example in a data set\n",
    "- y = Actual in training Example\n",
    "- y_pred = Prediction in training example\n",
    "- Summation = Sum of all instances\n",
    "\n",
    "**MAE = Summation(abs( y_pred**i - **y**i **)) /n**\n",
    "\n",
    "\n"
   ]
  },
  {
   "cell_type": "markdown",
   "metadata": {},
   "source": [
    " - Created a new column called Abs_error which is the absolute difference between Act and Pred. Then found the mean to get the Mean Absolute Error."
   ]
  },
  {
   "cell_type": "code",
   "execution_count": 11,
   "metadata": {},
   "outputs": [
    {
     "name": "stdout",
     "output_type": "stream",
     "text": [
      "MAE: 0.0666666666666667\n"
     ]
    }
   ],
   "source": [
    "df2[\"Abs_error\"] = abs(df2[\"Pred\"] - df2[\"Act\"])\n",
    "print(\"MAE:\", np.mean(df2.Abs_error))"
   ]
  },
  {
   "cell_type": "markdown",
   "metadata": {},
   "source": [
    "### Root Mean Squared Error"
   ]
  },
  {
   "cell_type": "markdown",
   "metadata": {},
   "source": [
    "- n = Number of training examples\n",
    "- i = ith training example in a data set\n",
    "- y = Actual in training Example\n",
    "- y_pred = Prediction in training example\n",
    "- Summation = Sum of all instances\n",
    "\n",
    "**RMSE = Square_root( Summation(( y_pred**i - **y**i )**^2) /n )**\n",
    "\n"
   ]
  },
  {
   "cell_type": "markdown",
   "metadata": {},
   "source": [
    " - Took the mean of the squared error and then used the square root function on the mean to get the Root Mean Squared Error. "
   ]
  },
  {
   "cell_type": "code",
   "execution_count": 12,
   "metadata": {},
   "outputs": [
    {
     "name": "stdout",
     "output_type": "stream",
     "text": [
      "RMSE: 0.10000000000000003\n"
     ]
    }
   ],
   "source": [
    "mse = np.mean(df2.squared_error)\n",
    "print(\"RMSE:\", np.sqrt(mse))"
   ]
  },
  {
   "cell_type": "markdown",
   "metadata": {},
   "source": [
    "### Mean Bias Error"
   ]
  },
  {
   "cell_type": "markdown",
   "metadata": {},
   "source": [
    "- n = Number of training examples\n",
    "- i = ith training example in a data set\n",
    "- y = Actual in training Example\n",
    "- y_pred = Prediction in training example\n",
    "- Summation = Sum of all instances\n",
    "\n",
    "**MBE = Summation( y_pred**i - **y**i )**/n**\n",
    "\n"
   ]
  },
  {
   "cell_type": "markdown",
   "metadata": {},
   "source": [
    " - Created a new column called Error which is the difference between Pred and Act. Next I found the mean of the error column to get the Mean Bias Error."
   ]
  },
  {
   "cell_type": "code",
   "execution_count": 13,
   "metadata": {},
   "outputs": [],
   "source": [
    "df2[\"Error\"] = df2[\"Pred\"] - df2[\"Act\"]"
   ]
  },
  {
   "cell_type": "code",
   "execution_count": 14,
   "metadata": {},
   "outputs": [
    {
     "name": "stdout",
     "output_type": "stream",
     "text": [
      "MBE: 0.016666666666666684\n"
     ]
    }
   ],
   "source": [
    "print(\"MBE:\", np.mean(df2.Error))"
   ]
  },
  {
   "cell_type": "markdown",
   "metadata": {},
   "source": [
    "##### Binary Classification:"
   ]
  },
  {
   "cell_type": "code",
   "execution_count": 15,
   "metadata": {},
   "outputs": [],
   "source": [
    "# Create a data frame with the binary classification data.\n",
    "Predicted = [1,0,0,1,1,1,1,0,0,0,1,0,1,1,0,1,0,0]\n",
    "Actual = [1,1,0,0,1,1,1,1,0,0,1,0,1,1,1,0,0,0]"
   ]
  },
  {
   "cell_type": "code",
   "execution_count": 16,
   "metadata": {},
   "outputs": [
    {
     "data": {
      "text/html": [
       "<div>\n",
       "<style scoped>\n",
       "    .dataframe tbody tr th:only-of-type {\n",
       "        vertical-align: middle;\n",
       "    }\n",
       "\n",
       "    .dataframe tbody tr th {\n",
       "        vertical-align: top;\n",
       "    }\n",
       "\n",
       "    .dataframe thead th {\n",
       "        text-align: right;\n",
       "    }\n",
       "</style>\n",
       "<table border=\"1\" class=\"dataframe\">\n",
       "  <thead>\n",
       "    <tr style=\"text-align: right;\">\n",
       "      <th></th>\n",
       "      <th>Predicted</th>\n",
       "      <th>Actual</th>\n",
       "    </tr>\n",
       "  </thead>\n",
       "  <tbody>\n",
       "    <tr>\n",
       "      <th>0</th>\n",
       "      <td>1</td>\n",
       "      <td>1</td>\n",
       "    </tr>\n",
       "    <tr>\n",
       "      <th>1</th>\n",
       "      <td>0</td>\n",
       "      <td>1</td>\n",
       "    </tr>\n",
       "    <tr>\n",
       "      <th>2</th>\n",
       "      <td>0</td>\n",
       "      <td>0</td>\n",
       "    </tr>\n",
       "    <tr>\n",
       "      <th>3</th>\n",
       "      <td>1</td>\n",
       "      <td>0</td>\n",
       "    </tr>\n",
       "    <tr>\n",
       "      <th>4</th>\n",
       "      <td>1</td>\n",
       "      <td>1</td>\n",
       "    </tr>\n",
       "  </tbody>\n",
       "</table>\n",
       "</div>"
      ],
      "text/plain": [
       "   Predicted  Actual\n",
       "0          1       1\n",
       "1          0       1\n",
       "2          0       0\n",
       "3          1       0\n",
       "4          1       1"
      ]
     },
     "execution_count": 16,
     "metadata": {},
     "output_type": "execute_result"
    }
   ],
   "source": [
    "df3 = pd.DataFrame({\"Predicted\": Predicted, \"Actual\":Actual})\n",
    "df3.head()"
   ]
  },
  {
   "cell_type": "markdown",
   "metadata": {},
   "source": [
    "- Computed the mean squared error for the binary classification data. In a binary classification problem the mean squared error is the same as the error rate which is 1 - accuracy. If there are more than two levels being classified the mean squared error does not equal the error rate. "
   ]
  },
  {
   "cell_type": "code",
   "execution_count": 17,
   "metadata": {},
   "outputs": [
    {
     "name": "stdout",
     "output_type": "stream",
     "text": [
      "MSE: 0.2777777777777778\n"
     ]
    }
   ],
   "source": [
    "df3[\"squared_error\"] = (df3[\"Predicted\"] - df3[\"Actual\"])**2\n",
    "print(\"MSE:\", np.mean(df3.squared_error))"
   ]
  },
  {
   "cell_type": "markdown",
   "metadata": {},
   "source": [
    "## Qustion 3"
   ]
  },
  {
   "cell_type": "markdown",
   "metadata": {},
   "source": [
    "### Leakage"
   ]
  },
  {
   "cell_type": "markdown",
   "metadata": {},
   "source": [
    "Leakage is when unexpected additional information from outside the training data set is used to create the machine learning model. The unexpected information allows the model to learn something that the model should not have learned, which would invalidate the model that is being created. Leakage makes the model look accurate up intell the time of actually making decisions with the model and then the model becomes inaccurate.  "
   ]
  },
  {
   "cell_type": "markdown",
   "metadata": {},
   "source": [
    "### Bias"
   ]
  },
  {
   "cell_type": "markdown",
   "metadata": {},
   "source": [
    "Bias in machine learning occurs when a machine learning algorithm that shows results that are prejdiced because of assumptions made when in the machine learning process. The bias can come from people who favor something consciously or unconsciously that may go undetected until the algorithm is being used. Other kinds of bias are sample bias which is when the data that is training the machine learning algorithm does not accurately represent the whole of the data. Having sample bias will cause the model to be bias to one type of situation. For example with a self-driving car they only have videos during the day to train the model, which makes the model bias to the day because they never trained with night videos. "
   ]
  },
  {
   "cell_type": "markdown",
   "metadata": {},
   "source": [
    "### Non-Stationary"
   ]
  },
  {
   "cell_type": "markdown",
   "metadata": {},
   "source": [
    "Non-stationary is data that has means, variances, and covariances that change over time. Non-Stationary data happens in time series data and is very difficult to model. Before forecasting this data the non-stationary data needs to be converted into stationary data. This is done because if the series is always increasing over time, the mean and variance will be growing with the size of the sample, and that could cause an underestimated mean and variance in coming time periods. Stationary data has a constant mean and variance independent of time.   "
   ]
  },
  {
   "cell_type": "markdown",
   "metadata": {},
   "source": [
    "## Qustion 4 "
   ]
  },
  {
   "cell_type": "markdown",
   "metadata": {},
   "source": [
    "### A"
   ]
  },
  {
   "cell_type": "markdown",
   "metadata": {},
   "source": [
    " - Imported one of python’s visualization librarys"
   ]
  },
  {
   "cell_type": "code",
   "execution_count": 18,
   "metadata": {},
   "outputs": [],
   "source": [
    "import matplotlib.pyplot as plt"
   ]
  },
  {
   "cell_type": "markdown",
   "metadata": {},
   "source": [
    " - Created a data frame with the two arrays given"
   ]
  },
  {
   "cell_type": "code",
   "execution_count": 19,
   "metadata": {},
   "outputs": [
    {
     "data": {
      "text/html": [
       "<div>\n",
       "<style scoped>\n",
       "    .dataframe tbody tr th:only-of-type {\n",
       "        vertical-align: middle;\n",
       "    }\n",
       "\n",
       "    .dataframe tbody tr th {\n",
       "        vertical-align: top;\n",
       "    }\n",
       "\n",
       "    .dataframe thead th {\n",
       "        text-align: right;\n",
       "    }\n",
       "</style>\n",
       "<table border=\"1\" class=\"dataframe\">\n",
       "  <thead>\n",
       "    <tr style=\"text-align: right;\">\n",
       "      <th></th>\n",
       "      <th>x</th>\n",
       "      <th>f_x</th>\n",
       "    </tr>\n",
       "  </thead>\n",
       "  <tbody>\n",
       "    <tr>\n",
       "      <th>0</th>\n",
       "      <td>0.000000</td>\n",
       "      <td>1.229368</td>\n",
       "    </tr>\n",
       "    <tr>\n",
       "      <th>1</th>\n",
       "      <td>0.052632</td>\n",
       "      <td>1.004858</td>\n",
       "    </tr>\n",
       "    <tr>\n",
       "      <th>2</th>\n",
       "      <td>0.105263</td>\n",
       "      <td>1.035028</td>\n",
       "    </tr>\n",
       "    <tr>\n",
       "      <th>3</th>\n",
       "      <td>0.157895</td>\n",
       "      <td>1.022442</td>\n",
       "    </tr>\n",
       "    <tr>\n",
       "      <th>4</th>\n",
       "      <td>0.210526</td>\n",
       "      <td>1.070890</td>\n",
       "    </tr>\n",
       "  </tbody>\n",
       "</table>\n",
       "</div>"
      ],
      "text/plain": [
       "          x       f_x\n",
       "0  0.000000  1.229368\n",
       "1  0.052632  1.004858\n",
       "2  0.105263  1.035028\n",
       "3  0.157895  1.022442\n",
       "4  0.210526  1.070890"
      ]
     },
     "execution_count": 19,
     "metadata": {},
     "output_type": "execute_result"
    }
   ],
   "source": [
    "x = [ 0.00000000,  0.05263158,  0.10526316,  0.15789474,  0.21052632,\n",
    "        0.26315789,  0.31578947,  0.36842105,  0.42105263,  0.47368421,\n",
    "        0.52631579,  0.57894737,  0.63157895,  0.68421053,  0.73684211,\n",
    "        0.78947368,  0.84210526,  0.89473684,  0.94736842,  1.00000000]\n",
    "f_x = [ 1.22936814,  1.00485822,  1.035028  ,  1.02244241,  1.07089034,\n",
    "        1.16700912,  1.09192042,  1.17774764,  0.99953525,  1.10983151,\n",
    "        1.07545041,  0.9353099 ,  0.90749053,  1.06833571,  0.92796884,\n",
    "        0.98931315,  0.89613637,  0.87322689,  0.70581373,  0.67569483]\n",
    "df4 = pd.DataFrame({\"x\": x, \"f_x\":f_x})\n",
    "df4.head()"
   ]
  },
  {
   "cell_type": "code",
   "execution_count": 20,
   "metadata": {},
   "outputs": [
    {
     "data": {
      "text/plain": [
       "Text(0.5,1,'Scatter')"
      ]
     },
     "execution_count": 20,
     "metadata": {},
     "output_type": "execute_result"
    },
    {
     "data": {
      "image/png": "[encoded data removed]",
      "text/plain": [
       "<Figure size 432x288 with 1 Axes>"
      ]
     },
     "metadata": {},
     "output_type": "display_data"
    }
   ],
   "source": [
    "# Scatter plot of x vs. f(x)\n",
    "plt.scatter(x = df4.x, y = df4.f_x)\n",
    "plt.title(\"Scatter\")"
   ]
  },
  {
   "cell_type": "markdown",
   "metadata": {},
   "source": [
    "#### Polynomial with 2 degrees with a scatter plot that has a polynomial  line"
   ]
  },
  {
   "cell_type": "code",
   "execution_count": 21,
   "metadata": {},
   "outputs": [
    {
     "name": "stdout",
     "output_type": "stream",
     "text": [
      "Coffcients: \n",
      " Slope = -0.6315807591772846 \n",
      " Intercepts = [0.28208516 1.07319309]\n"
     ]
    }
   ],
   "source": [
    "p2 = np.polyfit(df4.x, df4.f_x,2)\n",
    "print(\"Coffcients: \\n\", \"Slope =\",p2[0],\"\\n\", \"Intercepts =\", p2[1:3])"
   ]
  },
  {
   "cell_type": "code",
   "execution_count": 22,
   "metadata": {
    "scrolled": true
   },
   "outputs": [
    {
     "data": {
      "text/plain": [
       "Text(0.5,1,'Degree = 2')"
      ]
     },
     "execution_count": 22,
     "metadata": {},
     "output_type": "execute_result"
    },
    {
     "data": {
      "image/png": "[encoded data removed]",
      "text/plain": [
       "<Figure size 432x288 with 1 Axes>"
      ]
     },
     "metadata": {},
     "output_type": "display_data"
    }
   ],
   "source": [
    "plt.scatter(x = df4.x, y = df4.f_x)\n",
    "plt.plot(df4.x,np.polyval(p2,df4.x), 'r-')\n",
    "plt.title(\"Degree = 2\")"
   ]
  },
  {
   "cell_type": "markdown",
   "metadata": {},
   "source": [
    " - Underfit a little "
   ]
  },
  {
   "cell_type": "markdown",
   "metadata": {},
   "source": [
    "#### Polynomial  with 3 degrees with a scatter plot that has a polynomial  line "
   ]
  },
  {
   "cell_type": "code",
   "execution_count": 23,
   "metadata": {},
   "outputs": [
    {
     "name": "stdout",
     "output_type": "stream",
     "text": [
      "Coffcients: \n",
      " Slope = -1.1261690032041576 \n",
      "Intercepts = [ 1.05767275 -0.37645854  1.12092269]\n"
     ]
    }
   ],
   "source": [
    "p3 = np.polyfit(df4.x, df4.f_x,3)\n",
    "print(\"Coffcients: \\n\", \"Slope =\",p3[0],\"\\n\" \"Intercepts =\", p3[1:4])"
   ]
  },
  {
   "cell_type": "code",
   "execution_count": 24,
   "metadata": {},
   "outputs": [
    {
     "data": {
      "text/plain": [
       "Text(0.5,1,'Degree = 3')"
      ]
     },
     "execution_count": 24,
     "metadata": {},
     "output_type": "execute_result"
    },
    {
     "data": {
      "image/png": "[encoded data removed]",
      "text/plain": [
       "<Figure size 432x288 with 1 Axes>"
      ]
     },
     "metadata": {},
     "output_type": "display_data"
    }
   ],
   "source": [
    "plt.scatter(x = df4.x, y = df4.f_x)\n",
    "plt.plot(df4.x,np.polyval(p3,df4.x), 'r-')\n",
    "plt.title(\"Degree = 3\")"
   ]
  },
  {
   "cell_type": "markdown",
   "metadata": {},
   "source": [
    " - All most perfect "
   ]
  },
  {
   "cell_type": "markdown",
   "metadata": {},
   "source": [
    "#### Polynomial with 4 degrees with a scatter plot that has a polynomial  line"
   ]
  },
  {
   "cell_type": "code",
   "execution_count": 25,
   "metadata": {},
   "outputs": [
    {
     "name": "stdout",
     "output_type": "stream",
     "text": [
      "Coffcients: \n",
      " Slope = 0.9534074974541532 \n",
      "Intercepts = [-3.032984    2.26386339 -0.62924169  1.13064482]\n"
     ]
    }
   ],
   "source": [
    "p4 = np.polyfit(df4.x, df4.f_x,4)\n",
    "print(\"Coffcients: \\n\", \"Slope =\",p4[0],\"\\n\" \"Intercepts =\", p4[1:5])"
   ]
  },
  {
   "cell_type": "code",
   "execution_count": 26,
   "metadata": {},
   "outputs": [
    {
     "data": {
      "text/plain": [
       "Text(0.5,1,'Degree = 4')"
      ]
     },
     "execution_count": 26,
     "metadata": {},
     "output_type": "execute_result"
    },
    {
     "data": {
      "image/png": "[encoded data removed]",
      "text/plain": [
       "<Figure size 432x288 with 1 Axes>"
      ]
     },
     "metadata": {},
     "output_type": "display_data"
    }
   ],
   "source": [
    "plt.scatter(x = df4.x, y = df4.f_x)\n",
    "plt.plot(df4.x,np.polyval(p4,df4.x), 'r-')\n",
    "plt.title(\"Degree = 4\")"
   ]
  },
  {
   "cell_type": "markdown",
   "metadata": {},
   "source": [
    " - The best fit out of all of the plots"
   ]
  },
  {
   "cell_type": "markdown",
   "metadata": {},
   "source": [
    "#### Polynomial  with 6 degrees with a scatter plot that has a polynomial  line"
   ]
  },
  {
   "cell_type": "code",
   "execution_count": 27,
   "metadata": {},
   "outputs": [
    {
     "name": "stdout",
     "output_type": "stream",
     "text": [
      "Coffcients: \n",
      " Slope = 80.85271924070871 \n",
      " Intercepts = [-269.35143615  341.38208825 -204.54124606   57.43921775   -6.34613005\n",
      "    1.2268951 ]\n"
     ]
    }
   ],
   "source": [
    "p6 = np.polyfit(df4.x, df4.f_x,6)\n",
    "print(\"Coffcients: \\n\", \"Slope =\",p6[0], \"\\n\",\"Intercepts =\", p6[1:7])"
   ]
  },
  {
   "cell_type": "code",
   "execution_count": 28,
   "metadata": {},
   "outputs": [
    {
     "data": {
      "text/plain": [
       "Text(0.5,1,'Degree = 6')"
      ]
     },
     "execution_count": 28,
     "metadata": {},
     "output_type": "execute_result"
    },
    {
     "data": {
      "image/png": "[encoded data removed]",
      "text/plain": [
       "<Figure size 432x288 with 1 Axes>"
      ]
     },
     "metadata": {},
     "output_type": "display_data"
    }
   ],
   "source": [
    "plt.scatter(x = df4.x, y = df4.f_x)\n",
    "plt.plot(df4.x,np.polyval(p6,df4.x), 'r-')\n",
    "plt.title(\"Degree = 6\")"
   ]
  },
  {
   "cell_type": "markdown",
   "metadata": {},
   "source": [
    " - Starting to see some overfiting to the data"
   ]
  },
  {
   "cell_type": "markdown",
   "metadata": {},
   "source": [
    "#### Polynomial  with 8 degrees with a scatter plot that has a polynomial  line"
   ]
  },
  {
   "cell_type": "code",
   "execution_count": 30,
   "metadata": {},
   "outputs": [
    {
     "name": "stdout",
     "output_type": "stream",
     "text": [
      "Coffcients: \n",
      " Slope =  415.90066083702055 \n",
      " Intercepts = [-1.59128242e+03  2.53419686e+03 -2.21765763e+03  1.18544577e+03\n",
      " -3.98386723e+02  7.83306904e+01 -7.10001621e+00  1.22670687e+00]\n"
     ]
    }
   ],
   "source": [
    "p8 = np.polyfit(df4.x, df4.f_x,8)\n",
    "print(\"Coffcients: \\n\",\n",
    "      \"Slope = \",p8[0],\"\\n\",\n",
    "      \"Intercepts =\", p8[1:9])"
   ]
  },
  {
   "cell_type": "code",
   "execution_count": 31,
   "metadata": {},
   "outputs": [
    {
     "data": {
      "text/plain": [
       "Text(0.5,1,'Degree = 8')"
      ]
     },
     "execution_count": 31,
     "metadata": {},
     "output_type": "execute_result"
    },
    {
     "data": {
      "image/png": "[encoded data removed]",
      "text/plain": [
       "<Figure size 432x288 with 1 Axes>"
      ]
     },
     "metadata": {},
     "output_type": "display_data"
    }
   ],
   "source": [
    "plt.scatter(x = df4.x, y = df4.f_x)\n",
    "plt.plot(df4.x,np.polyval(p8,df4.x), 'r-')\n",
    "plt.title(\"Degree = 8\")"
   ]
  },
  {
   "cell_type": "markdown",
   "metadata": {},
   "source": [
    " - Around the same as 6 degrees"
   ]
  },
  {
   "cell_type": "markdown",
   "metadata": {},
   "source": [
    "#### Polynomial  with 15 degrees with a scatter plot that has a polynomial  line"
   ]
  },
  {
   "cell_type": "code",
   "execution_count": 32,
   "metadata": {},
   "outputs": [
    {
     "name": "stdout",
     "output_type": "stream",
     "text": [
      "Coffcients: \n",
      " Slope =  -1618208.782051038 \n",
      " Intercepts = [ 7.00700490e+06 -5.43543164e+06 -2.76024049e+07  9.05611981e+07\n",
      " -1.36359594e+08  1.26740981e+08 -7.87305730e+07  3.35215648e+07\n",
      " -9.77015889e+06  1.90668843e+06 -2.37815334e+05  1.73463171e+04\n",
      " -6.00292697e+02  2.63958244e+00  1.22934301e+00]\n"
     ]
    }
   ],
   "source": [
    "p15 = np.polyfit(df4.x, df4.f_x,15)\n",
    "print(\"Coffcients: \\n\",\n",
    "      \"Slope = \",p15[0],\"\\n\",\n",
    "      \"Intercepts =\", p15[1:16])"
   ]
  },
  {
   "cell_type": "code",
   "execution_count": 33,
   "metadata": {},
   "outputs": [
    {
     "data": {
      "text/plain": [
       "Text(0.5,1,'Degree = 15')"
      ]
     },
     "execution_count": 33,
     "metadata": {},
     "output_type": "execute_result"
    },
    {
     "data": {
      "image/png": "[encoded data removed]",
      "text/plain": [
       "<Figure size 432x288 with 1 Axes>"
      ]
     },
     "metadata": {},
     "output_type": "display_data"
    }
   ],
   "source": [
    "plt.scatter(x = df4.x, y = df4.f_x)\n",
    "plt.plot(df4.x,np.polyval(p15,df4.x), 'r-')\n",
    "plt.title(\"Degree = 15\")"
   ]
  },
  {
   "cell_type": "markdown",
   "metadata": {},
   "source": [
    " - Overfit to the data"
   ]
  },
  {
   "cell_type": "markdown",
   "metadata": {},
   "source": [
    "## B"
   ]
  },
  {
   "cell_type": "markdown",
   "metadata": {},
   "source": [
    " - Created two random arrays x and y for 50 data points that was turned in to a data frame."
   ]
  },
  {
   "cell_type": "code",
   "execution_count": 34,
   "metadata": {},
   "outputs": [],
   "source": [
    "x = np.random.uniform(-1,1, size = 50)\n",
    "noise = np.random.random_sample(50)\n",
    "y = 0.4*x + 3 + noise"
   ]
  },
  {
   "cell_type": "code",
   "execution_count": 35,
   "metadata": {},
   "outputs": [
    {
     "data": {
      "text/html": [
       "<div>\n",
       "<style scoped>\n",
       "    .dataframe tbody tr th:only-of-type {\n",
       "        vertical-align: middle;\n",
       "    }\n",
       "\n",
       "    .dataframe tbody tr th {\n",
       "        vertical-align: top;\n",
       "    }\n",
       "\n",
       "    .dataframe thead th {\n",
       "        text-align: right;\n",
       "    }\n",
       "</style>\n",
       "<table border=\"1\" class=\"dataframe\">\n",
       "  <thead>\n",
       "    <tr style=\"text-align: right;\">\n",
       "      <th></th>\n",
       "      <th>x</th>\n",
       "      <th>y</th>\n",
       "    </tr>\n",
       "  </thead>\n",
       "  <tbody>\n",
       "    <tr>\n",
       "      <th>0</th>\n",
       "      <td>-0.951403</td>\n",
       "      <td>2.654285</td>\n",
       "    </tr>\n",
       "    <tr>\n",
       "      <th>1</th>\n",
       "      <td>-0.526168</td>\n",
       "      <td>3.661387</td>\n",
       "    </tr>\n",
       "    <tr>\n",
       "      <th>2</th>\n",
       "      <td>0.792656</td>\n",
       "      <td>3.941978</td>\n",
       "    </tr>\n",
       "    <tr>\n",
       "      <th>3</th>\n",
       "      <td>-0.965677</td>\n",
       "      <td>3.139740</td>\n",
       "    </tr>\n",
       "    <tr>\n",
       "      <th>4</th>\n",
       "      <td>0.197095</td>\n",
       "      <td>3.286392</td>\n",
       "    </tr>\n",
       "  </tbody>\n",
       "</table>\n",
       "</div>"
      ],
      "text/plain": [
       "          x         y\n",
       "0 -0.951403  2.654285\n",
       "1 -0.526168  3.661387\n",
       "2  0.792656  3.941978\n",
       "3 -0.965677  3.139740\n",
       "4  0.197095  3.286392"
      ]
     },
     "execution_count": 35,
     "metadata": {},
     "output_type": "execute_result"
    }
   ],
   "source": [
    "df5 = pd.DataFrame({\"x\": x, \"y\":y})\n",
    "df5.head()"
   ]
  },
  {
   "cell_type": "code",
   "execution_count": 36,
   "metadata": {},
   "outputs": [],
   "source": [
    "## spliting of the data\n",
    "## 10 points\n",
    "p10 = df5.iloc[0:10]\n",
    "## 20 points\n",
    "p20 = df5.iloc[0:20]\n",
    "## 30 points\n",
    "p30 = df5.iloc[0:30]\n",
    "## 40 points\n",
    "p40 = df5.iloc[0:40]\n",
    "## 50 points\n",
    "p50 = df5.iloc[0:50]"
   ]
  },
  {
   "cell_type": "markdown",
   "metadata": {},
   "source": [
    "#### 10 DATA POINTS"
   ]
  },
  {
   "cell_type": "code",
   "execution_count": 37,
   "metadata": {},
   "outputs": [
    {
     "data": {
      "text/html": [
       "<div>\n",
       "<style scoped>\n",
       "    .dataframe tbody tr th:only-of-type {\n",
       "        vertical-align: middle;\n",
       "    }\n",
       "\n",
       "    .dataframe tbody tr th {\n",
       "        vertical-align: top;\n",
       "    }\n",
       "\n",
       "    .dataframe thead th {\n",
       "        text-align: right;\n",
       "    }\n",
       "</style>\n",
       "<table border=\"1\" class=\"dataframe\">\n",
       "  <thead>\n",
       "    <tr style=\"text-align: right;\">\n",
       "      <th></th>\n",
       "      <th>x</th>\n",
       "      <th>y</th>\n",
       "    </tr>\n",
       "  </thead>\n",
       "  <tbody>\n",
       "    <tr>\n",
       "      <th>0</th>\n",
       "      <td>-0.965677</td>\n",
       "      <td>3.139740</td>\n",
       "    </tr>\n",
       "    <tr>\n",
       "      <th>1</th>\n",
       "      <td>-0.951403</td>\n",
       "      <td>2.654285</td>\n",
       "    </tr>\n",
       "    <tr>\n",
       "      <th>2</th>\n",
       "      <td>-0.643560</td>\n",
       "      <td>2.792478</td>\n",
       "    </tr>\n",
       "    <tr>\n",
       "      <th>3</th>\n",
       "      <td>-0.526168</td>\n",
       "      <td>3.661387</td>\n",
       "    </tr>\n",
       "    <tr>\n",
       "      <th>4</th>\n",
       "      <td>-0.435685</td>\n",
       "      <td>3.453439</td>\n",
       "    </tr>\n",
       "    <tr>\n",
       "      <th>5</th>\n",
       "      <td>0.076717</td>\n",
       "      <td>3.864843</td>\n",
       "    </tr>\n",
       "    <tr>\n",
       "      <th>6</th>\n",
       "      <td>0.084827</td>\n",
       "      <td>3.803327</td>\n",
       "    </tr>\n",
       "    <tr>\n",
       "      <th>7</th>\n",
       "      <td>0.197095</td>\n",
       "      <td>3.286392</td>\n",
       "    </tr>\n",
       "    <tr>\n",
       "      <th>8</th>\n",
       "      <td>0.305464</td>\n",
       "      <td>3.317638</td>\n",
       "    </tr>\n",
       "    <tr>\n",
       "      <th>9</th>\n",
       "      <td>0.792656</td>\n",
       "      <td>3.941978</td>\n",
       "    </tr>\n",
       "  </tbody>\n",
       "</table>\n",
       "</div>"
      ],
      "text/plain": [
       "          x         y\n",
       "0 -0.965677  3.139740\n",
       "1 -0.951403  2.654285\n",
       "2 -0.643560  2.792478\n",
       "3 -0.526168  3.661387\n",
       "4 -0.435685  3.453439\n",
       "5  0.076717  3.864843\n",
       "6  0.084827  3.803327\n",
       "7  0.197095  3.286392\n",
       "8  0.305464  3.317638\n",
       "9  0.792656  3.941978"
      ]
     },
     "execution_count": 37,
     "metadata": {},
     "output_type": "execute_result"
    }
   ],
   "source": [
    "# Created a new data frame 10 points\n",
    "df_1 = p10.sort_values(\"x\").reset_index()\n",
    "df_1 = df_1.drop([\"index\"], axis = 1)\n",
    "df_1"
   ]
  },
  {
   "cell_type": "code",
   "execution_count": 38,
   "metadata": {},
   "outputs": [
    {
     "data": {
      "text/plain": [
       "array([-5.6915447 ,  3.35038484,  8.37842892, -3.32172922, -2.04712484,\n",
       "        3.93752804])"
      ]
     },
     "execution_count": 38,
     "metadata": {},
     "output_type": "execute_result"
    }
   ],
   "source": [
    "# fit of the polynomial line\n",
    "n10 = np.polyfit(df_1.x, df_1.y,5)\n",
    "n10"
   ]
  },
  {
   "cell_type": "code",
   "execution_count": 39,
   "metadata": {},
   "outputs": [
    {
     "data": {
      "text/plain": [
       "([<matplotlib.axis.XTick at 0x110074278>,\n",
       "  <matplotlib.axis.XTick at 0x110072ba8>,\n",
       "  <matplotlib.axis.XTick at 0x1100729e8>],\n",
       " <a list of 3 Text xticklabel objects>)"
      ]
     },
     "execution_count": 39,
     "metadata": {},
     "output_type": "execute_result"
    },
    {
     "data": {
      "image/png": "[encoded data removed]",
      "text/plain": [
       "<Figure size 432x288 with 1 Axes>"
      ]
     },
     "metadata": {},
     "output_type": "display_data"
    }
   ],
   "source": [
    "# Scatter plot with polynomial line\n",
    "plt.scatter(df_1.x,df_1.y)\n",
    "plt.plot(df_1.x, np.polyval(n10,df_1.x), 'r-')\n",
    "plt.title(\"Degree = 5 and N = 10\")\n",
    "plt.xticks([-1,0,1])"
   ]
  },
  {
   "cell_type": "markdown",
   "metadata": {},
   "source": [
    "#### 20 DATA POINTS"
   ]
  },
  {
   "cell_type": "code",
   "execution_count": 40,
   "metadata": {},
   "outputs": [
    {
     "data": {
      "text/html": [
       "<div>\n",
       "<style scoped>\n",
       "    .dataframe tbody tr th:only-of-type {\n",
       "        vertical-align: middle;\n",
       "    }\n",
       "\n",
       "    .dataframe tbody tr th {\n",
       "        vertical-align: top;\n",
       "    }\n",
       "\n",
       "    .dataframe thead th {\n",
       "        text-align: right;\n",
       "    }\n",
       "</style>\n",
       "<table border=\"1\" class=\"dataframe\">\n",
       "  <thead>\n",
       "    <tr style=\"text-align: right;\">\n",
       "      <th></th>\n",
       "      <th>x</th>\n",
       "      <th>y</th>\n",
       "    </tr>\n",
       "  </thead>\n",
       "  <tbody>\n",
       "    <tr>\n",
       "      <th>0</th>\n",
       "      <td>-0.965677</td>\n",
       "      <td>3.139740</td>\n",
       "    </tr>\n",
       "    <tr>\n",
       "      <th>1</th>\n",
       "      <td>-0.951403</td>\n",
       "      <td>2.654285</td>\n",
       "    </tr>\n",
       "    <tr>\n",
       "      <th>2</th>\n",
       "      <td>-0.937780</td>\n",
       "      <td>2.887960</td>\n",
       "    </tr>\n",
       "    <tr>\n",
       "      <th>3</th>\n",
       "      <td>-0.663619</td>\n",
       "      <td>3.702406</td>\n",
       "    </tr>\n",
       "    <tr>\n",
       "      <th>4</th>\n",
       "      <td>-0.643560</td>\n",
       "      <td>2.792478</td>\n",
       "    </tr>\n",
       "  </tbody>\n",
       "</table>\n",
       "</div>"
      ],
      "text/plain": [
       "          x         y\n",
       "0 -0.965677  3.139740\n",
       "1 -0.951403  2.654285\n",
       "2 -0.937780  2.887960\n",
       "3 -0.663619  3.702406\n",
       "4 -0.643560  2.792478"
      ]
     },
     "execution_count": 40,
     "metadata": {},
     "output_type": "execute_result"
    }
   ],
   "source": [
    "# Created a new data frame 20 points\n",
    "df_2 = p20.sort_values(\"x\").reset_index()\n",
    "df_2 = df_2.drop([\"index\"], axis = 1)\n",
    "df_2.head()"
   ]
  },
  {
   "cell_type": "code",
   "execution_count": 41,
   "metadata": {},
   "outputs": [
    {
     "data": {
      "text/plain": [
       "array([ 1.81920591,  2.08585636, -0.01986352, -1.27849909, -0.22186606,\n",
       "        3.54375955])"
      ]
     },
     "execution_count": 41,
     "metadata": {},
     "output_type": "execute_result"
    }
   ],
   "source": [
    "# fit of the polynomial line\n",
    "n20 = np.polyfit(df_2.x, df_2.y,5)\n",
    "n20"
   ]
  },
  {
   "cell_type": "code",
   "execution_count": 42,
   "metadata": {},
   "outputs": [
    {
     "data": {
      "text/plain": [
       "([<matplotlib.axis.XTick at 0x11012af60>,\n",
       "  <matplotlib.axis.XTick at 0x11012a8d0>,\n",
       "  <matplotlib.axis.XTick at 0x11012a630>],\n",
       " <a list of 3 Text xticklabel objects>)"
      ]
     },
     "execution_count": 42,
     "metadata": {},
     "output_type": "execute_result"
    },
    {
     "data": {
      "image/png": "[encoded data removed]",
      "text/plain": [
       "<Figure size 432x288 with 1 Axes>"
      ]
     },
     "metadata": {},
     "output_type": "display_data"
    }
   ],
   "source": [
    "# Scatter plot with polynomial line\n",
    "plt.scatter(df_2.x,df_2.y)\n",
    "plt.plot(df_2.x, np.polyval(n20,df_2.x), 'r-')\n",
    "plt.title(\"Degree = 5 and N = 20\")\n",
    "plt.xticks([-1,0,1])"
   ]
  },
  {
   "cell_type": "markdown",
   "metadata": {},
   "source": [
    "#### 30 DATA POINTS"
   ]
  },
  {
   "cell_type": "code",
   "execution_count": 43,
   "metadata": {},
   "outputs": [
    {
     "data": {
      "text/html": [
       "<div>\n",
       "<style scoped>\n",
       "    .dataframe tbody tr th:only-of-type {\n",
       "        vertical-align: middle;\n",
       "    }\n",
       "\n",
       "    .dataframe tbody tr th {\n",
       "        vertical-align: top;\n",
       "    }\n",
       "\n",
       "    .dataframe thead th {\n",
       "        text-align: right;\n",
       "    }\n",
       "</style>\n",
       "<table border=\"1\" class=\"dataframe\">\n",
       "  <thead>\n",
       "    <tr style=\"text-align: right;\">\n",
       "      <th></th>\n",
       "      <th>x</th>\n",
       "      <th>y</th>\n",
       "    </tr>\n",
       "  </thead>\n",
       "  <tbody>\n",
       "    <tr>\n",
       "      <th>0</th>\n",
       "      <td>-0.974404</td>\n",
       "      <td>3.410058</td>\n",
       "    </tr>\n",
       "    <tr>\n",
       "      <th>1</th>\n",
       "      <td>-0.965677</td>\n",
       "      <td>3.139740</td>\n",
       "    </tr>\n",
       "    <tr>\n",
       "      <th>2</th>\n",
       "      <td>-0.951403</td>\n",
       "      <td>2.654285</td>\n",
       "    </tr>\n",
       "    <tr>\n",
       "      <th>3</th>\n",
       "      <td>-0.937780</td>\n",
       "      <td>2.887960</td>\n",
       "    </tr>\n",
       "    <tr>\n",
       "      <th>4</th>\n",
       "      <td>-0.742159</td>\n",
       "      <td>3.669412</td>\n",
       "    </tr>\n",
       "  </tbody>\n",
       "</table>\n",
       "</div>"
      ],
      "text/plain": [
       "          x         y\n",
       "0 -0.974404  3.410058\n",
       "1 -0.965677  3.139740\n",
       "2 -0.951403  2.654285\n",
       "3 -0.937780  2.887960\n",
       "4 -0.742159  3.669412"
      ]
     },
     "execution_count": 43,
     "metadata": {},
     "output_type": "execute_result"
    }
   ],
   "source": [
    "# Created a new data frame 30 points\n",
    "df_3 = p30.sort_values(\"x\").reset_index()\n",
    "df_3 = df_3.drop([\"index\"], axis = 1)\n",
    "df_3.head()"
   ]
  },
  {
   "cell_type": "code",
   "execution_count": 44,
   "metadata": {},
   "outputs": [
    {
     "data": {
      "text/plain": [
       "array([-1.37657443, -0.62075456,  2.11653193,  0.59264982, -0.31677151,\n",
       "        3.48266374])"
      ]
     },
     "execution_count": 44,
     "metadata": {},
     "output_type": "execute_result"
    }
   ],
   "source": [
    "# fit of the polynomial line\n",
    "n30 = np.polyfit(df_3.x, df_3.y,5)\n",
    "n30"
   ]
  },
  {
   "cell_type": "code",
   "execution_count": 45,
   "metadata": {},
   "outputs": [
    {
     "data": {
      "text/plain": [
       "([<matplotlib.axis.XTick at 0x1101e4c88>,\n",
       "  <matplotlib.axis.XTick at 0x1101e45c0>,\n",
       "  <matplotlib.axis.XTick at 0x1101e4358>],\n",
       " <a list of 3 Text xticklabel objects>)"
      ]
     },
     "execution_count": 45,
     "metadata": {},
     "output_type": "execute_result"
    },
    {
     "data": {
      "image/png": "[encoded data removed]",
      "text/plain": [
       "<Figure size 432x288 with 1 Axes>"
      ]
     },
     "metadata": {},
     "output_type": "display_data"
    }
   ],
   "source": [
    "# Scatter plot with polynomial line\n",
    "plt.scatter(df_3.x,df_3.y)\n",
    "plt.plot(df_3.x, np.polyval(n30,df_3.x), 'r-')\n",
    "plt.title(\"Degree = 5 and N = 30\")\n",
    "plt.xticks([-1,0,1])"
   ]
  },
  {
   "cell_type": "markdown",
   "metadata": {},
   "source": [
    "#### 40 DATA POINTS"
   ]
  },
  {
   "cell_type": "code",
   "execution_count": 46,
   "metadata": {},
   "outputs": [
    {
     "data": {
      "text/html": [
       "<div>\n",
       "<style scoped>\n",
       "    .dataframe tbody tr th:only-of-type {\n",
       "        vertical-align: middle;\n",
       "    }\n",
       "\n",
       "    .dataframe tbody tr th {\n",
       "        vertical-align: top;\n",
       "    }\n",
       "\n",
       "    .dataframe thead th {\n",
       "        text-align: right;\n",
       "    }\n",
       "</style>\n",
       "<table border=\"1\" class=\"dataframe\">\n",
       "  <thead>\n",
       "    <tr style=\"text-align: right;\">\n",
       "      <th></th>\n",
       "      <th>x</th>\n",
       "      <th>y</th>\n",
       "    </tr>\n",
       "  </thead>\n",
       "  <tbody>\n",
       "    <tr>\n",
       "      <th>0</th>\n",
       "      <td>-0.974404</td>\n",
       "      <td>3.410058</td>\n",
       "    </tr>\n",
       "    <tr>\n",
       "      <th>1</th>\n",
       "      <td>-0.965677</td>\n",
       "      <td>3.139740</td>\n",
       "    </tr>\n",
       "    <tr>\n",
       "      <th>2</th>\n",
       "      <td>-0.951403</td>\n",
       "      <td>2.654285</td>\n",
       "    </tr>\n",
       "    <tr>\n",
       "      <th>3</th>\n",
       "      <td>-0.937780</td>\n",
       "      <td>2.887960</td>\n",
       "    </tr>\n",
       "    <tr>\n",
       "      <th>4</th>\n",
       "      <td>-0.852108</td>\n",
       "      <td>3.346032</td>\n",
       "    </tr>\n",
       "  </tbody>\n",
       "</table>\n",
       "</div>"
      ],
      "text/plain": [
       "          x         y\n",
       "0 -0.974404  3.410058\n",
       "1 -0.965677  3.139740\n",
       "2 -0.951403  2.654285\n",
       "3 -0.937780  2.887960\n",
       "4 -0.852108  3.346032"
      ]
     },
     "execution_count": 46,
     "metadata": {},
     "output_type": "execute_result"
    }
   ],
   "source": [
    "# Created a new data frame 40 points\n",
    "df_4 = p40.sort_values(\"x\").reset_index()\n",
    "df_4 = df_4.drop([\"index\"], axis = 1)\n",
    "df_4.head()"
   ]
  },
  {
   "cell_type": "code",
   "execution_count": 47,
   "metadata": {},
   "outputs": [
    {
     "data": {
      "text/plain": [
       "array([-0.79569059, -0.56192762,  1.38401381,  0.48337394, -0.21816782,\n",
       "        3.46618061])"
      ]
     },
     "execution_count": 47,
     "metadata": {},
     "output_type": "execute_result"
    }
   ],
   "source": [
    "# fit of the polynomial line\n",
    "n40 = np.polyfit(df_4.x, df_4.y,5)\n",
    "n40"
   ]
  },
  {
   "cell_type": "code",
   "execution_count": 48,
   "metadata": {},
   "outputs": [
    {
     "data": {
      "text/plain": [
       "([<matplotlib.axis.XTick at 0x110305048>,\n",
       "  <matplotlib.axis.XTick at 0x110301978>,\n",
       "  <matplotlib.axis.XTick at 0x110301780>],\n",
       " <a list of 3 Text xticklabel objects>)"
      ]
     },
     "execution_count": 48,
     "metadata": {},
     "output_type": "execute_result"
    },
    {
     "data": {
      "image/png": "[encoded data removed]",
      "text/plain": [
       "<Figure size 432x288 with 1 Axes>"
      ]
     },
     "metadata": {},
     "output_type": "display_data"
    }
   ],
   "source": [
    "# Scatter plot with polynomial line\n",
    "plt.scatter(df_4.x,df_4.y)\n",
    "plt.plot(df_4.x, np.polyval(n40,df_4.x), 'r-')\n",
    "plt.title(\"Degree = 5 and N = 40\")\n",
    "plt.xticks([-1,0,1])"
   ]
  },
  {
   "cell_type": "markdown",
   "metadata": {},
   "source": [
    "#### 50 DATA POINTS"
   ]
  },
  {
   "cell_type": "code",
   "execution_count": 49,
   "metadata": {},
   "outputs": [
    {
     "data": {
      "text/html": [
       "<div>\n",
       "<style scoped>\n",
       "    .dataframe tbody tr th:only-of-type {\n",
       "        vertical-align: middle;\n",
       "    }\n",
       "\n",
       "    .dataframe tbody tr th {\n",
       "        vertical-align: top;\n",
       "    }\n",
       "\n",
       "    .dataframe thead th {\n",
       "        text-align: right;\n",
       "    }\n",
       "</style>\n",
       "<table border=\"1\" class=\"dataframe\">\n",
       "  <thead>\n",
       "    <tr style=\"text-align: right;\">\n",
       "      <th></th>\n",
       "      <th>x</th>\n",
       "      <th>y</th>\n",
       "    </tr>\n",
       "  </thead>\n",
       "  <tbody>\n",
       "    <tr>\n",
       "      <th>0</th>\n",
       "      <td>-0.974404</td>\n",
       "      <td>3.410058</td>\n",
       "    </tr>\n",
       "    <tr>\n",
       "      <th>1</th>\n",
       "      <td>-0.965677</td>\n",
       "      <td>3.139740</td>\n",
       "    </tr>\n",
       "    <tr>\n",
       "      <th>2</th>\n",
       "      <td>-0.951403</td>\n",
       "      <td>2.654285</td>\n",
       "    </tr>\n",
       "    <tr>\n",
       "      <th>3</th>\n",
       "      <td>-0.937780</td>\n",
       "      <td>2.887960</td>\n",
       "    </tr>\n",
       "    <tr>\n",
       "      <th>4</th>\n",
       "      <td>-0.936290</td>\n",
       "      <td>3.587342</td>\n",
       "    </tr>\n",
       "  </tbody>\n",
       "</table>\n",
       "</div>"
      ],
      "text/plain": [
       "          x         y\n",
       "0 -0.974404  3.410058\n",
       "1 -0.965677  3.139740\n",
       "2 -0.951403  2.654285\n",
       "3 -0.937780  2.887960\n",
       "4 -0.936290  3.587342"
      ]
     },
     "execution_count": 49,
     "metadata": {},
     "output_type": "execute_result"
    }
   ],
   "source": [
    "# Created a new data frame 50 points\n",
    "df_5 = p50.sort_values(\"x\").reset_index()\n",
    "df_5 = df_5.drop([\"index\"], axis = 1)\n",
    "df_5.head()"
   ]
  },
  {
   "cell_type": "code",
   "execution_count": 50,
   "metadata": {},
   "outputs": [
    {
     "data": {
      "text/plain": [
       "array([-0.9246791 , -0.31557974,  1.46881051,  0.29759754, -0.18177277,\n",
       "        3.48097903])"
      ]
     },
     "execution_count": 50,
     "metadata": {},
     "output_type": "execute_result"
    }
   ],
   "source": [
    "# fit of the polynomial line\n",
    "n50 = np.polyfit(df_5.x, df_5.y,5)\n",
    "n50"
   ]
  },
  {
   "cell_type": "code",
   "execution_count": 51,
   "metadata": {},
   "outputs": [
    {
     "data": {
      "text/plain": [
       "([<matplotlib.axis.XTick at 0x11035d3c8>,\n",
       "  <matplotlib.axis.XTick at 0x110359cf8>,\n",
       "  <matplotlib.axis.XTick at 0x110359b00>],\n",
       " <a list of 3 Text xticklabel objects>)"
      ]
     },
     "execution_count": 51,
     "metadata": {},
     "output_type": "execute_result"
    },
    {
     "data": {
      "image/png": "[encoded data removed]",
      "text/plain": [
       "<Figure size 432x288 with 1 Axes>"
      ]
     },
     "metadata": {},
     "output_type": "display_data"
    }
   ],
   "source": [
    "# Scatter plot with polynomial line\n",
    "plt.scatter(df_5.x,df_5.y)\n",
    "plt.plot(df_5.x, np.polyval(n50,df_5.x), 'r-')\n",
    "plt.title(\"Degree = 5 and N = 50\")\n",
    "plt.xticks([-1,0,1])"
   ]
  },
  {
   "cell_type": "code",
   "execution_count": null,
   "metadata": {},
   "outputs": [],
   "source": []
  },
  {
   "cell_type": "code",
   "execution_count": null,
   "metadata": {},
   "outputs": [],
   "source": []
  }
 ],
 "metadata": {
  "kernelspec": {
   "display_name": "Python 3",
   "language": "python",
   "name": "python3"
  },
  "language_info": {
   "codemirror_mode": {
    "name": "ipython",
    "version": 3
   },
   "file_extension": ".py",
   "mimetype": "text/x-python",
   "name": "python",
   "nbconvert_exporter": "python",
   "pygments_lexer": "ipython3",
   "version": "3.6.5"
  }
 },
 "nbformat": 4,
 "nbformat_minor": 2
}
