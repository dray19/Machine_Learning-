{
 "cells": [
  {
   "cell_type": "code",
   "execution_count": 1,
   "metadata": {},
   "outputs": [],
   "source": [
    "# import librarys\n",
    "import numpy as np\n",
    "import pandas as pd\n",
    "import seaborn as sns\n",
    "sns.set_style(\"darkgrid\")\n",
    "import matplotlib.pyplot as plt\n",
    "import warnings\n",
    "warnings.filterwarnings('ignore')"
   ]
  },
  {
   "cell_type": "code",
   "execution_count": 2,
   "metadata": {},
   "outputs": [
    {
     "data": {
      "text/html": [
       "<div>\n",
       "<style scoped>\n",
       "    .dataframe tbody tr th:only-of-type {\n",
       "        vertical-align: middle;\n",
       "    }\n",
       "\n",
       "    .dataframe tbody tr th {\n",
       "        vertical-align: top;\n",
       "    }\n",
       "\n",
       "    .dataframe thead th {\n",
       "        text-align: right;\n",
       "    }\n",
       "</style>\n",
       "<table border=\"1\" class=\"dataframe\">\n",
       "  <thead>\n",
       "    <tr style=\"text-align: right;\">\n",
       "      <th></th>\n",
       "      <th>color</th>\n",
       "      <th>director_name</th>\n",
       "      <th>num_critic_for_reviews</th>\n",
       "      <th>duration</th>\n",
       "      <th>director_facebook_likes</th>\n",
       "      <th>actor_3_facebook_likes</th>\n",
       "      <th>actor_2_name</th>\n",
       "      <th>actor_1_facebook_likes</th>\n",
       "      <th>gross</th>\n",
       "      <th>genres</th>\n",
       "      <th>...</th>\n",
       "      <th>num_user_for_reviews</th>\n",
       "      <th>language</th>\n",
       "      <th>country</th>\n",
       "      <th>content_rating</th>\n",
       "      <th>budget</th>\n",
       "      <th>title_year</th>\n",
       "      <th>actor_2_facebook_likes</th>\n",
       "      <th>imdb_score</th>\n",
       "      <th>aspect_ratio</th>\n",
       "      <th>movie_facebook_likes</th>\n",
       "    </tr>\n",
       "  </thead>\n",
       "  <tbody>\n",
       "    <tr>\n",
       "      <th>0</th>\n",
       "      <td>Color</td>\n",
       "      <td>James Cameron</td>\n",
       "      <td>723.0</td>\n",
       "      <td>178.0</td>\n",
       "      <td>0.0</td>\n",
       "      <td>855.0</td>\n",
       "      <td>Joel David Moore</td>\n",
       "      <td>1000.0</td>\n",
       "      <td>760505847.0</td>\n",
       "      <td>Action|Adventure|Fantasy|Sci-Fi</td>\n",
       "      <td>...</td>\n",
       "      <td>3054.0</td>\n",
       "      <td>English</td>\n",
       "      <td>USA</td>\n",
       "      <td>PG-13</td>\n",
       "      <td>237000000.0</td>\n",
       "      <td>2009.0</td>\n",
       "      <td>936.0</td>\n",
       "      <td>7.9</td>\n",
       "      <td>1.78</td>\n",
       "      <td>33000</td>\n",
       "    </tr>\n",
       "    <tr>\n",
       "      <th>1</th>\n",
       "      <td>Color</td>\n",
       "      <td>Gore Verbinski</td>\n",
       "      <td>302.0</td>\n",
       "      <td>169.0</td>\n",
       "      <td>563.0</td>\n",
       "      <td>1000.0</td>\n",
       "      <td>Orlando Bloom</td>\n",
       "      <td>40000.0</td>\n",
       "      <td>309404152.0</td>\n",
       "      <td>Action|Adventure|Fantasy</td>\n",
       "      <td>...</td>\n",
       "      <td>1238.0</td>\n",
       "      <td>English</td>\n",
       "      <td>USA</td>\n",
       "      <td>PG-13</td>\n",
       "      <td>300000000.0</td>\n",
       "      <td>2007.0</td>\n",
       "      <td>5000.0</td>\n",
       "      <td>7.1</td>\n",
       "      <td>2.35</td>\n",
       "      <td>0</td>\n",
       "    </tr>\n",
       "  </tbody>\n",
       "</table>\n",
       "<p>2 rows × 28 columns</p>\n",
       "</div>"
      ],
      "text/plain": [
       "   color   director_name  num_critic_for_reviews  duration  \\\n",
       "0  Color   James Cameron                   723.0     178.0   \n",
       "1  Color  Gore Verbinski                   302.0     169.0   \n",
       "\n",
       "   director_facebook_likes  actor_3_facebook_likes      actor_2_name  \\\n",
       "0                      0.0                   855.0  Joel David Moore   \n",
       "1                    563.0                  1000.0     Orlando Bloom   \n",
       "\n",
       "   actor_1_facebook_likes        gross                           genres  \\\n",
       "0                  1000.0  760505847.0  Action|Adventure|Fantasy|Sci-Fi   \n",
       "1                 40000.0  309404152.0         Action|Adventure|Fantasy   \n",
       "\n",
       "          ...          num_user_for_reviews language  country  content_rating  \\\n",
       "0         ...                        3054.0  English      USA           PG-13   \n",
       "1         ...                        1238.0  English      USA           PG-13   \n",
       "\n",
       "        budget  title_year actor_2_facebook_likes imdb_score  aspect_ratio  \\\n",
       "0  237000000.0      2009.0                  936.0        7.9          1.78   \n",
       "1  300000000.0      2007.0                 5000.0        7.1          2.35   \n",
       "\n",
       "  movie_facebook_likes  \n",
       "0                33000  \n",
       "1                    0  \n",
       "\n",
       "[2 rows x 28 columns]"
      ]
     },
     "execution_count": 2,
     "metadata": {},
     "output_type": "execute_result"
    }
   ],
   "source": [
    "# importing data \n",
    "df = pd.read_csv(\"movie_metadata.csv\")\n",
    "df.head(2)"
   ]
  },
  {
   "cell_type": "markdown",
   "metadata": {},
   "source": [
    "### EDA"
   ]
  },
  {
   "cell_type": "code",
   "execution_count": 3,
   "metadata": {},
   "outputs": [
    {
     "data": {
      "text/plain": [
       "(5043, 28)"
      ]
     },
     "execution_count": 3,
     "metadata": {},
     "output_type": "execute_result"
    }
   ],
   "source": [
    "# Find the shape of Data\n",
    "df.shape"
   ]
  },
  {
   "cell_type": "code",
   "execution_count": 4,
   "metadata": {},
   "outputs": [
    {
     "name": "stdout",
     "output_type": "stream",
     "text": [
      "<class 'pandas.core.frame.DataFrame'>\n",
      "RangeIndex: 5043 entries, 0 to 5042\n",
      "Data columns (total 28 columns):\n",
      "color                        5024 non-null object\n",
      "director_name                4939 non-null object\n",
      "num_critic_for_reviews       4993 non-null float64\n",
      "duration                     5028 non-null float64\n",
      "director_facebook_likes      4939 non-null float64\n",
      "actor_3_facebook_likes       5020 non-null float64\n",
      "actor_2_name                 5030 non-null object\n",
      "actor_1_facebook_likes       5036 non-null float64\n",
      "gross                        4159 non-null float64\n",
      "genres                       5043 non-null object\n",
      "actor_1_name                 5036 non-null object\n",
      "movie_title                  5043 non-null object\n",
      "num_voted_users              5043 non-null int64\n",
      "cast_total_facebook_likes    5043 non-null int64\n",
      "actor_3_name                 5020 non-null object\n",
      "facenumber_in_poster         5030 non-null float64\n",
      "plot_keywords                4890 non-null object\n",
      "movie_imdb_link              5043 non-null object\n",
      "num_user_for_reviews         5022 non-null float64\n",
      "language                     5031 non-null object\n",
      "country                      5038 non-null object\n",
      "content_rating               4740 non-null object\n",
      "budget                       4551 non-null float64\n",
      "title_year                   4935 non-null float64\n",
      "actor_2_facebook_likes       5030 non-null float64\n",
      "imdb_score                   5043 non-null float64\n",
      "aspect_ratio                 4714 non-null float64\n",
      "movie_facebook_likes         5043 non-null int64\n",
      "dtypes: float64(13), int64(3), object(12)\n",
      "memory usage: 1.1+ MB\n"
     ]
    }
   ],
   "source": [
    "# Basic understand of Data\n",
    "df.info()"
   ]
  },
  {
   "cell_type": "code",
   "execution_count": 5,
   "metadata": {},
   "outputs": [
    {
     "data": {
      "text/plain": [
       "color                         19\n",
       "director_name                104\n",
       "num_critic_for_reviews        50\n",
       "duration                      15\n",
       "director_facebook_likes      104\n",
       "actor_3_facebook_likes        23\n",
       "actor_2_name                  13\n",
       "actor_1_facebook_likes         7\n",
       "gross                        884\n",
       "genres                         0\n",
       "actor_1_name                   7\n",
       "movie_title                    0\n",
       "num_voted_users                0\n",
       "cast_total_facebook_likes      0\n",
       "actor_3_name                  23\n",
       "facenumber_in_poster          13\n",
       "plot_keywords                153\n",
       "movie_imdb_link                0\n",
       "num_user_for_reviews          21\n",
       "language                      12\n",
       "country                        5\n",
       "content_rating               303\n",
       "budget                       492\n",
       "title_year                   108\n",
       "actor_2_facebook_likes        13\n",
       "imdb_score                     0\n",
       "aspect_ratio                 329\n",
       "movie_facebook_likes           0\n",
       "dtype: int64"
      ]
     },
     "execution_count": 5,
     "metadata": {},
     "output_type": "execute_result"
    }
   ],
   "source": [
    "# How many null values are in the data \n",
    "df.isnull().sum()"
   ]
  },
  {
   "cell_type": "code",
   "execution_count": 6,
   "metadata": {},
   "outputs": [
    {
     "data": {
      "text/plain": [
       "Text(0.5,1,'Missing Values')"
      ]
     },
     "execution_count": 6,
     "metadata": {},
     "output_type": "execute_result"
    },
    {
     "data": {
      "image/png": "[encoded data removed]",
      "text/plain": [
       "<Figure size 864x504 with 1 Axes>"
      ]
     },
     "metadata": {},
     "output_type": "display_data"
    }
   ],
   "source": [
    "# plot of the null values \n",
    "fig, ax = plt.subplots(figsize = (12,7))\n",
    "sns.set(font_scale = 2)\n",
    "sns.heatmap(df.isnull(), yticklabels=False, cbar = False, cmap = 'tab20c_r')\n",
    "plt.title(\"Missing Values\")"
   ]
  },
  {
   "cell_type": "code",
   "execution_count": 7,
   "metadata": {},
   "outputs": [
    {
     "data": {
      "text/plain": [
       "(3756, 28)"
      ]
     },
     "execution_count": 7,
     "metadata": {},
     "output_type": "execute_result"
    }
   ],
   "source": [
    "# drop the null values\n",
    "df2 = df.dropna()\n",
    "df2.shape"
   ]
  },
  {
   "cell_type": "code",
   "execution_count": 8,
   "metadata": {},
   "outputs": [
    {
     "data": {
      "text/html": [
       "<div>\n",
       "<style scoped>\n",
       "    .dataframe tbody tr th:only-of-type {\n",
       "        vertical-align: middle;\n",
       "    }\n",
       "\n",
       "    .dataframe tbody tr th {\n",
       "        vertical-align: top;\n",
       "    }\n",
       "\n",
       "    .dataframe thead th {\n",
       "        text-align: right;\n",
       "    }\n",
       "</style>\n",
       "<table border=\"1\" class=\"dataframe\">\n",
       "  <thead>\n",
       "    <tr style=\"text-align: right;\">\n",
       "      <th></th>\n",
       "      <th>num_critic_for_reviews</th>\n",
       "      <th>duration</th>\n",
       "      <th>director_facebook_likes</th>\n",
       "      <th>actor_3_facebook_likes</th>\n",
       "      <th>actor_1_facebook_likes</th>\n",
       "      <th>gross</th>\n",
       "      <th>num_voted_users</th>\n",
       "      <th>cast_total_facebook_likes</th>\n",
       "      <th>facenumber_in_poster</th>\n",
       "      <th>num_user_for_reviews</th>\n",
       "      <th>budget</th>\n",
       "      <th>title_year</th>\n",
       "      <th>actor_2_facebook_likes</th>\n",
       "      <th>imdb_score</th>\n",
       "      <th>aspect_ratio</th>\n",
       "      <th>movie_facebook_likes</th>\n",
       "    </tr>\n",
       "  </thead>\n",
       "  <tbody>\n",
       "    <tr>\n",
       "      <th>count</th>\n",
       "      <td>3756.000000</td>\n",
       "      <td>3756.000000</td>\n",
       "      <td>3756.000000</td>\n",
       "      <td>3756.000000</td>\n",
       "      <td>3756.000000</td>\n",
       "      <td>3.756000e+03</td>\n",
       "      <td>3.756000e+03</td>\n",
       "      <td>3756.000000</td>\n",
       "      <td>3756.000000</td>\n",
       "      <td>3756.000000</td>\n",
       "      <td>3.756000e+03</td>\n",
       "      <td>3756.000000</td>\n",
       "      <td>3756.000000</td>\n",
       "      <td>3756.000000</td>\n",
       "      <td>3756.000000</td>\n",
       "      <td>3756.000000</td>\n",
       "    </tr>\n",
       "    <tr>\n",
       "      <th>mean</th>\n",
       "      <td>167.378328</td>\n",
       "      <td>110.257987</td>\n",
       "      <td>807.336528</td>\n",
       "      <td>771.279553</td>\n",
       "      <td>7751.338658</td>\n",
       "      <td>5.261282e+07</td>\n",
       "      <td>1.058267e+05</td>\n",
       "      <td>11527.101970</td>\n",
       "      <td>1.377263</td>\n",
       "      <td>336.843184</td>\n",
       "      <td>4.623685e+07</td>\n",
       "      <td>2002.976571</td>\n",
       "      <td>2021.775825</td>\n",
       "      <td>6.465282</td>\n",
       "      <td>2.111014</td>\n",
       "      <td>9353.829340</td>\n",
       "    </tr>\n",
       "    <tr>\n",
       "      <th>std</th>\n",
       "      <td>123.452040</td>\n",
       "      <td>22.646717</td>\n",
       "      <td>3068.171683</td>\n",
       "      <td>1894.249869</td>\n",
       "      <td>15519.339621</td>\n",
       "      <td>7.031787e+07</td>\n",
       "      <td>1.520354e+05</td>\n",
       "      <td>19122.176905</td>\n",
       "      <td>2.041541</td>\n",
       "      <td>411.227368</td>\n",
       "      <td>2.260103e+08</td>\n",
       "      <td>9.888108</td>\n",
       "      <td>4544.908236</td>\n",
       "      <td>1.056247</td>\n",
       "      <td>0.353068</td>\n",
       "      <td>21462.889123</td>\n",
       "    </tr>\n",
       "    <tr>\n",
       "      <th>min</th>\n",
       "      <td>2.000000</td>\n",
       "      <td>37.000000</td>\n",
       "      <td>0.000000</td>\n",
       "      <td>0.000000</td>\n",
       "      <td>0.000000</td>\n",
       "      <td>1.620000e+02</td>\n",
       "      <td>9.100000e+01</td>\n",
       "      <td>0.000000</td>\n",
       "      <td>0.000000</td>\n",
       "      <td>4.000000</td>\n",
       "      <td>2.180000e+02</td>\n",
       "      <td>1927.000000</td>\n",
       "      <td>0.000000</td>\n",
       "      <td>1.600000</td>\n",
       "      <td>1.180000</td>\n",
       "      <td>0.000000</td>\n",
       "    </tr>\n",
       "    <tr>\n",
       "      <th>25%</th>\n",
       "      <td>77.000000</td>\n",
       "      <td>96.000000</td>\n",
       "      <td>11.000000</td>\n",
       "      <td>194.000000</td>\n",
       "      <td>745.000000</td>\n",
       "      <td>8.270233e+06</td>\n",
       "      <td>1.966700e+04</td>\n",
       "      <td>1919.750000</td>\n",
       "      <td>0.000000</td>\n",
       "      <td>110.000000</td>\n",
       "      <td>1.000000e+07</td>\n",
       "      <td>1999.000000</td>\n",
       "      <td>384.750000</td>\n",
       "      <td>5.900000</td>\n",
       "      <td>1.850000</td>\n",
       "      <td>0.000000</td>\n",
       "    </tr>\n",
       "    <tr>\n",
       "      <th>50%</th>\n",
       "      <td>138.500000</td>\n",
       "      <td>106.000000</td>\n",
       "      <td>64.000000</td>\n",
       "      <td>436.000000</td>\n",
       "      <td>1000.000000</td>\n",
       "      <td>3.009311e+07</td>\n",
       "      <td>5.397350e+04</td>\n",
       "      <td>4059.500000</td>\n",
       "      <td>1.000000</td>\n",
       "      <td>210.000000</td>\n",
       "      <td>2.500000e+07</td>\n",
       "      <td>2004.000000</td>\n",
       "      <td>685.500000</td>\n",
       "      <td>6.600000</td>\n",
       "      <td>2.350000</td>\n",
       "      <td>227.000000</td>\n",
       "    </tr>\n",
       "    <tr>\n",
       "      <th>75%</th>\n",
       "      <td>224.000000</td>\n",
       "      <td>120.000000</td>\n",
       "      <td>235.000000</td>\n",
       "      <td>691.000000</td>\n",
       "      <td>13000.000000</td>\n",
       "      <td>6.688194e+07</td>\n",
       "      <td>1.286020e+05</td>\n",
       "      <td>16240.000000</td>\n",
       "      <td>2.000000</td>\n",
       "      <td>398.250000</td>\n",
       "      <td>5.000000e+07</td>\n",
       "      <td>2010.000000</td>\n",
       "      <td>976.000000</td>\n",
       "      <td>7.200000</td>\n",
       "      <td>2.350000</td>\n",
       "      <td>11000.000000</td>\n",
       "    </tr>\n",
       "    <tr>\n",
       "      <th>max</th>\n",
       "      <td>813.000000</td>\n",
       "      <td>330.000000</td>\n",
       "      <td>23000.000000</td>\n",
       "      <td>23000.000000</td>\n",
       "      <td>640000.000000</td>\n",
       "      <td>7.605058e+08</td>\n",
       "      <td>1.689764e+06</td>\n",
       "      <td>656730.000000</td>\n",
       "      <td>43.000000</td>\n",
       "      <td>5060.000000</td>\n",
       "      <td>1.221550e+10</td>\n",
       "      <td>2016.000000</td>\n",
       "      <td>137000.000000</td>\n",
       "      <td>9.300000</td>\n",
       "      <td>16.000000</td>\n",
       "      <td>349000.000000</td>\n",
       "    </tr>\n",
       "  </tbody>\n",
       "</table>\n",
       "</div>"
      ],
      "text/plain": [
       "       num_critic_for_reviews     duration  director_facebook_likes  \\\n",
       "count             3756.000000  3756.000000              3756.000000   \n",
       "mean               167.378328   110.257987               807.336528   \n",
       "std                123.452040    22.646717              3068.171683   \n",
       "min                  2.000000    37.000000                 0.000000   \n",
       "25%                 77.000000    96.000000                11.000000   \n",
       "50%                138.500000   106.000000                64.000000   \n",
       "75%                224.000000   120.000000               235.000000   \n",
       "max                813.000000   330.000000             23000.000000   \n",
       "\n",
       "       actor_3_facebook_likes  actor_1_facebook_likes         gross  \\\n",
       "count             3756.000000             3756.000000  3.756000e+03   \n",
       "mean               771.279553             7751.338658  5.261282e+07   \n",
       "std               1894.249869            15519.339621  7.031787e+07   \n",
       "min                  0.000000                0.000000  1.620000e+02   \n",
       "25%                194.000000              745.000000  8.270233e+06   \n",
       "50%                436.000000             1000.000000  3.009311e+07   \n",
       "75%                691.000000            13000.000000  6.688194e+07   \n",
       "max              23000.000000           640000.000000  7.605058e+08   \n",
       "\n",
       "       num_voted_users  cast_total_facebook_likes  facenumber_in_poster  \\\n",
       "count     3.756000e+03                3756.000000           3756.000000   \n",
       "mean      1.058267e+05               11527.101970              1.377263   \n",
       "std       1.520354e+05               19122.176905              2.041541   \n",
       "min       9.100000e+01                   0.000000              0.000000   \n",
       "25%       1.966700e+04                1919.750000              0.000000   \n",
       "50%       5.397350e+04                4059.500000              1.000000   \n",
       "75%       1.286020e+05               16240.000000              2.000000   \n",
       "max       1.689764e+06              656730.000000             43.000000   \n",
       "\n",
       "       num_user_for_reviews        budget   title_year  \\\n",
       "count           3756.000000  3.756000e+03  3756.000000   \n",
       "mean             336.843184  4.623685e+07  2002.976571   \n",
       "std              411.227368  2.260103e+08     9.888108   \n",
       "min                4.000000  2.180000e+02  1927.000000   \n",
       "25%              110.000000  1.000000e+07  1999.000000   \n",
       "50%              210.000000  2.500000e+07  2004.000000   \n",
       "75%              398.250000  5.000000e+07  2010.000000   \n",
       "max             5060.000000  1.221550e+10  2016.000000   \n",
       "\n",
       "       actor_2_facebook_likes   imdb_score  aspect_ratio  movie_facebook_likes  \n",
       "count             3756.000000  3756.000000   3756.000000           3756.000000  \n",
       "mean              2021.775825     6.465282      2.111014           9353.829340  \n",
       "std               4544.908236     1.056247      0.353068          21462.889123  \n",
       "min                  0.000000     1.600000      1.180000              0.000000  \n",
       "25%                384.750000     5.900000      1.850000              0.000000  \n",
       "50%                685.500000     6.600000      2.350000            227.000000  \n",
       "75%                976.000000     7.200000      2.350000          11000.000000  \n",
       "max             137000.000000     9.300000     16.000000         349000.000000  "
      ]
     },
     "execution_count": 8,
     "metadata": {},
     "output_type": "execute_result"
    }
   ],
   "source": [
    "# basic stats of numeric columns\n",
    "df2.describe()"
   ]
  },
  {
   "cell_type": "code",
   "execution_count": 9,
   "metadata": {},
   "outputs": [
    {
     "data": {
      "text/plain": [
       "title_year\n",
       "1997.0    101\n",
       "1998.0    115\n",
       "1999.0    157\n",
       "2000.0    159\n",
       "2001.0    179\n",
       "2002.0    190\n",
       "2003.0    145\n",
       "2004.0    181\n",
       "2005.0    182\n",
       "2006.0    189\n",
       "2007.0    152\n",
       "2008.0    182\n",
       "2009.0    182\n",
       "2010.0    168\n",
       "2011.0    168\n",
       "2012.0    158\n",
       "2013.0    163\n",
       "2014.0    145\n",
       "2015.0    128\n",
       "2016.0     59\n",
       "Name: title_year, dtype: int64"
      ]
     },
     "execution_count": 9,
     "metadata": {},
     "output_type": "execute_result"
    }
   ],
   "source": [
    "# last 20 years of movies count\n",
    "df2.groupby([\"title_year\"]).title_year.count().tail(20)"
   ]
  },
  {
   "cell_type": "code",
   "execution_count": 10,
   "metadata": {},
   "outputs": [
    {
     "data": {
      "text/html": [
       "<div>\n",
       "<style scoped>\n",
       "    .dataframe tbody tr th:only-of-type {\n",
       "        vertical-align: middle;\n",
       "    }\n",
       "\n",
       "    .dataframe tbody tr th {\n",
       "        vertical-align: top;\n",
       "    }\n",
       "\n",
       "    .dataframe thead th {\n",
       "        text-align: right;\n",
       "    }\n",
       "</style>\n",
       "<table border=\"1\" class=\"dataframe\">\n",
       "  <thead>\n",
       "    <tr style=\"text-align: right;\">\n",
       "      <th></th>\n",
       "      <th>num_critic_for_reviews</th>\n",
       "      <th>duration</th>\n",
       "      <th>director_facebook_likes</th>\n",
       "      <th>actor_3_facebook_likes</th>\n",
       "      <th>actor_1_facebook_likes</th>\n",
       "      <th>gross</th>\n",
       "      <th>num_voted_users</th>\n",
       "      <th>cast_total_facebook_likes</th>\n",
       "      <th>facenumber_in_poster</th>\n",
       "      <th>num_user_for_reviews</th>\n",
       "      <th>budget</th>\n",
       "      <th>title_year</th>\n",
       "      <th>actor_2_facebook_likes</th>\n",
       "      <th>imdb_score</th>\n",
       "      <th>aspect_ratio</th>\n",
       "      <th>movie_facebook_likes</th>\n",
       "    </tr>\n",
       "  </thead>\n",
       "  <tbody>\n",
       "    <tr>\n",
       "      <th>num_critic_for_reviews</th>\n",
       "      <td>1.000000</td>\n",
       "      <td>0.228631</td>\n",
       "      <td>0.175128</td>\n",
       "      <td>0.252782</td>\n",
       "      <td>0.165986</td>\n",
       "      <td>0.464187</td>\n",
       "      <td>0.592473</td>\n",
       "      <td>0.236533</td>\n",
       "      <td>-0.034365</td>\n",
       "      <td>0.563684</td>\n",
       "      <td>0.104717</td>\n",
       "      <td>0.420202</td>\n",
       "      <td>0.253125</td>\n",
       "      <td>0.347886</td>\n",
       "      <td>0.180230</td>\n",
       "      <td>0.705226</td>\n",
       "    </tr>\n",
       "    <tr>\n",
       "      <th>duration</th>\n",
       "      <td>0.228631</td>\n",
       "      <td>1.000000</td>\n",
       "      <td>0.180644</td>\n",
       "      <td>0.125797</td>\n",
       "      <td>0.083632</td>\n",
       "      <td>0.245726</td>\n",
       "      <td>0.339592</td>\n",
       "      <td>0.120179</td>\n",
       "      <td>0.026919</td>\n",
       "      <td>0.351595</td>\n",
       "      <td>0.068012</td>\n",
       "      <td>-0.130211</td>\n",
       "      <td>0.128935</td>\n",
       "      <td>0.366221</td>\n",
       "      <td>0.153027</td>\n",
       "      <td>0.215303</td>\n",
       "    </tr>\n",
       "    <tr>\n",
       "      <th>director_facebook_likes</th>\n",
       "      <td>0.175128</td>\n",
       "      <td>0.180644</td>\n",
       "      <td>1.000000</td>\n",
       "      <td>0.117405</td>\n",
       "      <td>0.089630</td>\n",
       "      <td>0.138351</td>\n",
       "      <td>0.299624</td>\n",
       "      <td>0.118547</td>\n",
       "      <td>-0.048067</td>\n",
       "      <td>0.217103</td>\n",
       "      <td>0.018167</td>\n",
       "      <td>-0.044656</td>\n",
       "      <td>0.116058</td>\n",
       "      <td>0.192314</td>\n",
       "      <td>0.037528</td>\n",
       "      <td>0.161962</td>\n",
       "    </tr>\n",
       "    <tr>\n",
       "      <th>actor_3_facebook_likes</th>\n",
       "      <td>0.252782</td>\n",
       "      <td>0.125797</td>\n",
       "      <td>0.117405</td>\n",
       "      <td>1.000000</td>\n",
       "      <td>0.252408</td>\n",
       "      <td>0.299864</td>\n",
       "      <td>0.267762</td>\n",
       "      <td>0.489795</td>\n",
       "      <td>0.106189</td>\n",
       "      <td>0.205343</td>\n",
       "      <td>0.039966</td>\n",
       "      <td>0.117475</td>\n",
       "      <td>0.553755</td>\n",
       "      <td>0.065544</td>\n",
       "      <td>0.046356</td>\n",
       "      <td>0.271508</td>\n",
       "    </tr>\n",
       "    <tr>\n",
       "      <th>actor_1_facebook_likes</th>\n",
       "      <td>0.165986</td>\n",
       "      <td>0.083632</td>\n",
       "      <td>0.089630</td>\n",
       "      <td>0.252408</td>\n",
       "      <td>1.000000</td>\n",
       "      <td>0.144010</td>\n",
       "      <td>0.179590</td>\n",
       "      <td>0.944813</td>\n",
       "      <td>0.057387</td>\n",
       "      <td>0.121935</td>\n",
       "      <td>0.016418</td>\n",
       "      <td>0.096194</td>\n",
       "      <td>0.391166</td>\n",
       "      <td>0.093597</td>\n",
       "      <td>0.056946</td>\n",
       "      <td>0.130300</td>\n",
       "    </tr>\n",
       "    <tr>\n",
       "      <th>gross</th>\n",
       "      <td>0.464187</td>\n",
       "      <td>0.245726</td>\n",
       "      <td>0.138351</td>\n",
       "      <td>0.299864</td>\n",
       "      <td>0.144010</td>\n",
       "      <td>1.000000</td>\n",
       "      <td>0.624949</td>\n",
       "      <td>0.235601</td>\n",
       "      <td>-0.032025</td>\n",
       "      <td>0.544674</td>\n",
       "      <td>0.099496</td>\n",
       "      <td>0.054808</td>\n",
       "      <td>0.252842</td>\n",
       "      <td>0.214740</td>\n",
       "      <td>0.063946</td>\n",
       "      <td>0.366933</td>\n",
       "    </tr>\n",
       "    <tr>\n",
       "      <th>num_voted_users</th>\n",
       "      <td>0.592473</td>\n",
       "      <td>0.339592</td>\n",
       "      <td>0.299624</td>\n",
       "      <td>0.267762</td>\n",
       "      <td>0.179590</td>\n",
       "      <td>0.624949</td>\n",
       "      <td>1.000000</td>\n",
       "      <td>0.249119</td>\n",
       "      <td>-0.032209</td>\n",
       "      <td>0.778881</td>\n",
       "      <td>0.065927</td>\n",
       "      <td>0.023687</td>\n",
       "      <td>0.244822</td>\n",
       "      <td>0.482430</td>\n",
       "      <td>0.084626</td>\n",
       "      <td>0.517751</td>\n",
       "    </tr>\n",
       "    <tr>\n",
       "      <th>cast_total_facebook_likes</th>\n",
       "      <td>0.236533</td>\n",
       "      <td>0.120179</td>\n",
       "      <td>0.118547</td>\n",
       "      <td>0.489795</td>\n",
       "      <td>0.944813</td>\n",
       "      <td>0.235601</td>\n",
       "      <td>0.249119</td>\n",
       "      <td>1.000000</td>\n",
       "      <td>0.080687</td>\n",
       "      <td>0.178675</td>\n",
       "      <td>0.028682</td>\n",
       "      <td>0.127045</td>\n",
       "      <td>0.642991</td>\n",
       "      <td>0.106803</td>\n",
       "      <td>0.068952</td>\n",
       "      <td>0.205564</td>\n",
       "    </tr>\n",
       "    <tr>\n",
       "      <th>facenumber_in_poster</th>\n",
       "      <td>-0.034365</td>\n",
       "      <td>0.026919</td>\n",
       "      <td>-0.048067</td>\n",
       "      <td>0.106189</td>\n",
       "      <td>0.057387</td>\n",
       "      <td>-0.032025</td>\n",
       "      <td>-0.032209</td>\n",
       "      <td>0.080687</td>\n",
       "      <td>1.000000</td>\n",
       "      <td>-0.080971</td>\n",
       "      <td>-0.021673</td>\n",
       "      <td>0.070093</td>\n",
       "      <td>0.073098</td>\n",
       "      <td>-0.065493</td>\n",
       "      <td>0.018988</td>\n",
       "      <td>0.015185</td>\n",
       "    </tr>\n",
       "    <tr>\n",
       "      <th>num_user_for_reviews</th>\n",
       "      <td>0.563684</td>\n",
       "      <td>0.351595</td>\n",
       "      <td>0.217103</td>\n",
       "      <td>0.205343</td>\n",
       "      <td>0.121935</td>\n",
       "      <td>0.544674</td>\n",
       "      <td>0.778881</td>\n",
       "      <td>0.178675</td>\n",
       "      <td>-0.080971</td>\n",
       "      <td>1.000000</td>\n",
       "      <td>0.070372</td>\n",
       "      <td>0.019470</td>\n",
       "      <td>0.187016</td>\n",
       "      <td>0.325003</td>\n",
       "      <td>0.098109</td>\n",
       "      <td>0.370465</td>\n",
       "    </tr>\n",
       "    <tr>\n",
       "      <th>budget</th>\n",
       "      <td>0.104717</td>\n",
       "      <td>0.068012</td>\n",
       "      <td>0.018167</td>\n",
       "      <td>0.039966</td>\n",
       "      <td>0.016418</td>\n",
       "      <td>0.099496</td>\n",
       "      <td>0.065927</td>\n",
       "      <td>0.028682</td>\n",
       "      <td>-0.021673</td>\n",
       "      <td>0.070372</td>\n",
       "      <td>1.000000</td>\n",
       "      <td>0.047138</td>\n",
       "      <td>0.035715</td>\n",
       "      <td>0.029190</td>\n",
       "      <td>0.025264</td>\n",
       "      <td>0.052490</td>\n",
       "    </tr>\n",
       "    <tr>\n",
       "      <th>title_year</th>\n",
       "      <td>0.420202</td>\n",
       "      <td>-0.130211</td>\n",
       "      <td>-0.044656</td>\n",
       "      <td>0.117475</td>\n",
       "      <td>0.096194</td>\n",
       "      <td>0.054808</td>\n",
       "      <td>0.023687</td>\n",
       "      <td>0.127045</td>\n",
       "      <td>0.070093</td>\n",
       "      <td>0.019470</td>\n",
       "      <td>0.047138</td>\n",
       "      <td>1.000000</td>\n",
       "      <td>0.122410</td>\n",
       "      <td>-0.134982</td>\n",
       "      <td>0.216614</td>\n",
       "      <td>0.306987</td>\n",
       "    </tr>\n",
       "    <tr>\n",
       "      <th>actor_2_facebook_likes</th>\n",
       "      <td>0.253125</td>\n",
       "      <td>0.128935</td>\n",
       "      <td>0.116058</td>\n",
       "      <td>0.553755</td>\n",
       "      <td>0.391166</td>\n",
       "      <td>0.252842</td>\n",
       "      <td>0.244822</td>\n",
       "      <td>0.642991</td>\n",
       "      <td>0.073098</td>\n",
       "      <td>0.187016</td>\n",
       "      <td>0.035715</td>\n",
       "      <td>0.122410</td>\n",
       "      <td>1.000000</td>\n",
       "      <td>0.102372</td>\n",
       "      <td>0.063951</td>\n",
       "      <td>0.232769</td>\n",
       "    </tr>\n",
       "    <tr>\n",
       "      <th>imdb_score</th>\n",
       "      <td>0.347886</td>\n",
       "      <td>0.366221</td>\n",
       "      <td>0.192314</td>\n",
       "      <td>0.065544</td>\n",
       "      <td>0.093597</td>\n",
       "      <td>0.214740</td>\n",
       "      <td>0.482430</td>\n",
       "      <td>0.106803</td>\n",
       "      <td>-0.065493</td>\n",
       "      <td>0.325003</td>\n",
       "      <td>0.029190</td>\n",
       "      <td>-0.134982</td>\n",
       "      <td>0.102372</td>\n",
       "      <td>1.000000</td>\n",
       "      <td>0.029979</td>\n",
       "      <td>0.281155</td>\n",
       "    </tr>\n",
       "    <tr>\n",
       "      <th>aspect_ratio</th>\n",
       "      <td>0.180230</td>\n",
       "      <td>0.153027</td>\n",
       "      <td>0.037528</td>\n",
       "      <td>0.046356</td>\n",
       "      <td>0.056946</td>\n",
       "      <td>0.063946</td>\n",
       "      <td>0.084626</td>\n",
       "      <td>0.068952</td>\n",
       "      <td>0.018988</td>\n",
       "      <td>0.098109</td>\n",
       "      <td>0.025264</td>\n",
       "      <td>0.216614</td>\n",
       "      <td>0.063951</td>\n",
       "      <td>0.029979</td>\n",
       "      <td>1.000000</td>\n",
       "      <td>0.110118</td>\n",
       "    </tr>\n",
       "    <tr>\n",
       "      <th>movie_facebook_likes</th>\n",
       "      <td>0.705226</td>\n",
       "      <td>0.215303</td>\n",
       "      <td>0.161962</td>\n",
       "      <td>0.271508</td>\n",
       "      <td>0.130300</td>\n",
       "      <td>0.366933</td>\n",
       "      <td>0.517751</td>\n",
       "      <td>0.205564</td>\n",
       "      <td>0.015185</td>\n",
       "      <td>0.370465</td>\n",
       "      <td>0.052490</td>\n",
       "      <td>0.306987</td>\n",
       "      <td>0.232769</td>\n",
       "      <td>0.281155</td>\n",
       "      <td>0.110118</td>\n",
       "      <td>1.000000</td>\n",
       "    </tr>\n",
       "  </tbody>\n",
       "</table>\n",
       "</div>"
      ],
      "text/plain": [
       "                           num_critic_for_reviews  duration  \\\n",
       "num_critic_for_reviews                   1.000000  0.228631   \n",
       "duration                                 0.228631  1.000000   \n",
       "director_facebook_likes                  0.175128  0.180644   \n",
       "actor_3_facebook_likes                   0.252782  0.125797   \n",
       "actor_1_facebook_likes                   0.165986  0.083632   \n",
       "gross                                    0.464187  0.245726   \n",
       "num_voted_users                          0.592473  0.339592   \n",
       "cast_total_facebook_likes                0.236533  0.120179   \n",
       "facenumber_in_poster                    -0.034365  0.026919   \n",
       "num_user_for_reviews                     0.563684  0.351595   \n",
       "budget                                   0.104717  0.068012   \n",
       "title_year                               0.420202 -0.130211   \n",
       "actor_2_facebook_likes                   0.253125  0.128935   \n",
       "imdb_score                               0.347886  0.366221   \n",
       "aspect_ratio                             0.180230  0.153027   \n",
       "movie_facebook_likes                     0.705226  0.215303   \n",
       "\n",
       "                           director_facebook_likes  actor_3_facebook_likes  \\\n",
       "num_critic_for_reviews                    0.175128                0.252782   \n",
       "duration                                  0.180644                0.125797   \n",
       "director_facebook_likes                   1.000000                0.117405   \n",
       "actor_3_facebook_likes                    0.117405                1.000000   \n",
       "actor_1_facebook_likes                    0.089630                0.252408   \n",
       "gross                                     0.138351                0.299864   \n",
       "num_voted_users                           0.299624                0.267762   \n",
       "cast_total_facebook_likes                 0.118547                0.489795   \n",
       "facenumber_in_poster                     -0.048067                0.106189   \n",
       "num_user_for_reviews                      0.217103                0.205343   \n",
       "budget                                    0.018167                0.039966   \n",
       "title_year                               -0.044656                0.117475   \n",
       "actor_2_facebook_likes                    0.116058                0.553755   \n",
       "imdb_score                                0.192314                0.065544   \n",
       "aspect_ratio                              0.037528                0.046356   \n",
       "movie_facebook_likes                      0.161962                0.271508   \n",
       "\n",
       "                           actor_1_facebook_likes     gross  num_voted_users  \\\n",
       "num_critic_for_reviews                   0.165986  0.464187         0.592473   \n",
       "duration                                 0.083632  0.245726         0.339592   \n",
       "director_facebook_likes                  0.089630  0.138351         0.299624   \n",
       "actor_3_facebook_likes                   0.252408  0.299864         0.267762   \n",
       "actor_1_facebook_likes                   1.000000  0.144010         0.179590   \n",
       "gross                                    0.144010  1.000000         0.624949   \n",
       "num_voted_users                          0.179590  0.624949         1.000000   \n",
       "cast_total_facebook_likes                0.944813  0.235601         0.249119   \n",
       "facenumber_in_poster                     0.057387 -0.032025        -0.032209   \n",
       "num_user_for_reviews                     0.121935  0.544674         0.778881   \n",
       "budget                                   0.016418  0.099496         0.065927   \n",
       "title_year                               0.096194  0.054808         0.023687   \n",
       "actor_2_facebook_likes                   0.391166  0.252842         0.244822   \n",
       "imdb_score                               0.093597  0.214740         0.482430   \n",
       "aspect_ratio                             0.056946  0.063946         0.084626   \n",
       "movie_facebook_likes                     0.130300  0.366933         0.517751   \n",
       "\n",
       "                           cast_total_facebook_likes  facenumber_in_poster  \\\n",
       "num_critic_for_reviews                      0.236533             -0.034365   \n",
       "duration                                    0.120179              0.026919   \n",
       "director_facebook_likes                     0.118547             -0.048067   \n",
       "actor_3_facebook_likes                      0.489795              0.106189   \n",
       "actor_1_facebook_likes                      0.944813              0.057387   \n",
       "gross                                       0.235601             -0.032025   \n",
       "num_voted_users                             0.249119             -0.032209   \n",
       "cast_total_facebook_likes                   1.000000              0.080687   \n",
       "facenumber_in_poster                        0.080687              1.000000   \n",
       "num_user_for_reviews                        0.178675             -0.080971   \n",
       "budget                                      0.028682             -0.021673   \n",
       "title_year                                  0.127045              0.070093   \n",
       "actor_2_facebook_likes                      0.642991              0.073098   \n",
       "imdb_score                                  0.106803             -0.065493   \n",
       "aspect_ratio                                0.068952              0.018988   \n",
       "movie_facebook_likes                        0.205564              0.015185   \n",
       "\n",
       "                           num_user_for_reviews    budget  title_year  \\\n",
       "num_critic_for_reviews                 0.563684  0.104717    0.420202   \n",
       "duration                               0.351595  0.068012   -0.130211   \n",
       "director_facebook_likes                0.217103  0.018167   -0.044656   \n",
       "actor_3_facebook_likes                 0.205343  0.039966    0.117475   \n",
       "actor_1_facebook_likes                 0.121935  0.016418    0.096194   \n",
       "gross                                  0.544674  0.099496    0.054808   \n",
       "num_voted_users                        0.778881  0.065927    0.023687   \n",
       "cast_total_facebook_likes              0.178675  0.028682    0.127045   \n",
       "facenumber_in_poster                  -0.080971 -0.021673    0.070093   \n",
       "num_user_for_reviews                   1.000000  0.070372    0.019470   \n",
       "budget                                 0.070372  1.000000    0.047138   \n",
       "title_year                             0.019470  0.047138    1.000000   \n",
       "actor_2_facebook_likes                 0.187016  0.035715    0.122410   \n",
       "imdb_score                             0.325003  0.029190   -0.134982   \n",
       "aspect_ratio                           0.098109  0.025264    0.216614   \n",
       "movie_facebook_likes                   0.370465  0.052490    0.306987   \n",
       "\n",
       "                           actor_2_facebook_likes  imdb_score  aspect_ratio  \\\n",
       "num_critic_for_reviews                   0.253125    0.347886      0.180230   \n",
       "duration                                 0.128935    0.366221      0.153027   \n",
       "director_facebook_likes                  0.116058    0.192314      0.037528   \n",
       "actor_3_facebook_likes                   0.553755    0.065544      0.046356   \n",
       "actor_1_facebook_likes                   0.391166    0.093597      0.056946   \n",
       "gross                                    0.252842    0.214740      0.063946   \n",
       "num_voted_users                          0.244822    0.482430      0.084626   \n",
       "cast_total_facebook_likes                0.642991    0.106803      0.068952   \n",
       "facenumber_in_poster                     0.073098   -0.065493      0.018988   \n",
       "num_user_for_reviews                     0.187016    0.325003      0.098109   \n",
       "budget                                   0.035715    0.029190      0.025264   \n",
       "title_year                               0.122410   -0.134982      0.216614   \n",
       "actor_2_facebook_likes                   1.000000    0.102372      0.063951   \n",
       "imdb_score                               0.102372    1.000000      0.029979   \n",
       "aspect_ratio                             0.063951    0.029979      1.000000   \n",
       "movie_facebook_likes                     0.232769    0.281155      0.110118   \n",
       "\n",
       "                           movie_facebook_likes  \n",
       "num_critic_for_reviews                 0.705226  \n",
       "duration                               0.215303  \n",
       "director_facebook_likes                0.161962  \n",
       "actor_3_facebook_likes                 0.271508  \n",
       "actor_1_facebook_likes                 0.130300  \n",
       "gross                                  0.366933  \n",
       "num_voted_users                        0.517751  \n",
       "cast_total_facebook_likes              0.205564  \n",
       "facenumber_in_poster                   0.015185  \n",
       "num_user_for_reviews                   0.370465  \n",
       "budget                                 0.052490  \n",
       "title_year                             0.306987  \n",
       "actor_2_facebook_likes                 0.232769  \n",
       "imdb_score                             0.281155  \n",
       "aspect_ratio                           0.110118  \n",
       "movie_facebook_likes                   1.000000  "
      ]
     },
     "execution_count": 10,
     "metadata": {},
     "output_type": "execute_result"
    }
   ],
   "source": [
    "# correlation of numeric variables \n",
    "corr = df2.corr()\n",
    "corr"
   ]
  },
  {
   "cell_type": "code",
   "execution_count": 11,
   "metadata": {},
   "outputs": [
    {
     "data": {
      "text/plain": [
       "Text(0.5,1,'Correlation')"
      ]
     },
     "execution_count": 11,
     "metadata": {},
     "output_type": "execute_result"
    },
    {
     "data": {
      "image/png": "[encoded data removed]",
      "text/plain": [
       "<Figure size 864x504 with 2 Axes>"
      ]
     },
     "metadata": {},
     "output_type": "display_data"
    }
   ],
   "source": [
    "fig, ax = plt.subplots(figsize = (12,7))\n",
    "sns.heatmap(corr)\n",
    "ax.set_title(\"Correlation\")"
   ]
  },
  {
   "cell_type": "code",
   "execution_count": 12,
   "metadata": {},
   "outputs": [
    {
     "data": {
      "text/plain": [
       "0.2147397121760224"
      ]
     },
     "execution_count": 12,
     "metadata": {},
     "output_type": "execute_result"
    }
   ],
   "source": [
    "# correlation between gross and imdb_score\n",
    "df2[\"gross\"].corr(df2[\"imdb_score\"])"
   ]
  },
  {
   "cell_type": "code",
   "execution_count": 13,
   "metadata": {},
   "outputs": [
    {
     "name": "stdout",
     "output_type": "stream",
     "text": [
      "Mean Gross Sales:  52612824.23748669\n",
      "Mean IMDB Rating:  6.4652822151224525\n"
     ]
    }
   ],
   "source": [
    "# mean of gross and imdb_score\n",
    "print(\"Mean Gross Sales: \", df2.gross.mean())\n",
    "print(\"Mean IMDB Rating: \", df2.imdb_score.mean())"
   ]
  },
  {
   "cell_type": "markdown",
   "metadata": {},
   "source": [
    "#### Top and Bottem for gross sales"
   ]
  },
  {
   "cell_type": "code",
   "execution_count": 14,
   "metadata": {},
   "outputs": [
    {
     "data": {
      "text/html": [
       "<div>\n",
       "<style scoped>\n",
       "    .dataframe tbody tr th:only-of-type {\n",
       "        vertical-align: middle;\n",
       "    }\n",
       "\n",
       "    .dataframe tbody tr th {\n",
       "        vertical-align: top;\n",
       "    }\n",
       "\n",
       "    .dataframe thead th {\n",
       "        text-align: right;\n",
       "    }\n",
       "</style>\n",
       "<table border=\"1\" class=\"dataframe\">\n",
       "  <thead>\n",
       "    <tr style=\"text-align: right;\">\n",
       "      <th></th>\n",
       "      <th>movie_title</th>\n",
       "      <th>director_name</th>\n",
       "      <th>gross</th>\n",
       "    </tr>\n",
       "  </thead>\n",
       "  <tbody>\n",
       "    <tr>\n",
       "      <th>0</th>\n",
       "      <td>Avatar</td>\n",
       "      <td>James Cameron</td>\n",
       "      <td>760505847.0</td>\n",
       "    </tr>\n",
       "  </tbody>\n",
       "</table>\n",
       "</div>"
      ],
      "text/plain": [
       "  movie_title  director_name        gross\n",
       "0     Avatar   James Cameron  760505847.0"
      ]
     },
     "execution_count": 14,
     "metadata": {},
     "output_type": "execute_result"
    }
   ],
   "source": [
    "# Top\n",
    "df2.loc[df2['gross'] == df2.gross.max(), (\"movie_title\",'director_name', \"gross\")]"
   ]
  },
  {
   "cell_type": "code",
   "execution_count": 15,
   "metadata": {},
   "outputs": [
    {
     "data": {
      "text/html": [
       "<div>\n",
       "<style scoped>\n",
       "    .dataframe tbody tr th:only-of-type {\n",
       "        vertical-align: middle;\n",
       "    }\n",
       "\n",
       "    .dataframe tbody tr th {\n",
       "        vertical-align: top;\n",
       "    }\n",
       "\n",
       "    .dataframe thead th {\n",
       "        text-align: right;\n",
       "    }\n",
       "</style>\n",
       "<table border=\"1\" class=\"dataframe\">\n",
       "  <thead>\n",
       "    <tr style=\"text-align: right;\">\n",
       "      <th></th>\n",
       "      <th>movie_title</th>\n",
       "      <th>director_name</th>\n",
       "      <th>gross</th>\n",
       "    </tr>\n",
       "  </thead>\n",
       "  <tbody>\n",
       "    <tr>\n",
       "      <th>3330</th>\n",
       "      <td>Skin Trade</td>\n",
       "      <td>Ekachai Uekrongtham</td>\n",
       "      <td>162.0</td>\n",
       "    </tr>\n",
       "  </tbody>\n",
       "</table>\n",
       "</div>"
      ],
      "text/plain": [
       "      movie_title        director_name  gross\n",
       "3330  Skin Trade   Ekachai Uekrongtham  162.0"
      ]
     },
     "execution_count": 15,
     "metadata": {},
     "output_type": "execute_result"
    }
   ],
   "source": [
    "#Bottem\n",
    "df2.loc[df2['gross'] == df2.gross.min(), (\"movie_title\",'director_name', \"gross\")]"
   ]
  },
  {
   "cell_type": "markdown",
   "metadata": {},
   "source": [
    "#### Top and Bottem for IMDB Score"
   ]
  },
  {
   "cell_type": "code",
   "execution_count": 16,
   "metadata": {},
   "outputs": [
    {
     "data": {
      "text/html": [
       "<div>\n",
       "<style scoped>\n",
       "    .dataframe tbody tr th:only-of-type {\n",
       "        vertical-align: middle;\n",
       "    }\n",
       "\n",
       "    .dataframe tbody tr th {\n",
       "        vertical-align: top;\n",
       "    }\n",
       "\n",
       "    .dataframe thead th {\n",
       "        text-align: right;\n",
       "    }\n",
       "</style>\n",
       "<table border=\"1\" class=\"dataframe\">\n",
       "  <thead>\n",
       "    <tr style=\"text-align: right;\">\n",
       "      <th></th>\n",
       "      <th>movie_title</th>\n",
       "      <th>director_name</th>\n",
       "      <th>imdb_score</th>\n",
       "    </tr>\n",
       "  </thead>\n",
       "  <tbody>\n",
       "    <tr>\n",
       "      <th>1937</th>\n",
       "      <td>The Shawshank Redemption</td>\n",
       "      <td>Frank Darabont</td>\n",
       "      <td>9.3</td>\n",
       "    </tr>\n",
       "  </tbody>\n",
       "</table>\n",
       "</div>"
      ],
      "text/plain": [
       "                    movie_title   director_name  imdb_score\n",
       "1937  The Shawshank Redemption   Frank Darabont         9.3"
      ]
     },
     "execution_count": 16,
     "metadata": {},
     "output_type": "execute_result"
    }
   ],
   "source": [
    "# Top\n",
    "df2.loc[df2['imdb_score'] == df2.imdb_score.max(), (\"movie_title\",'director_name', \"imdb_score\")]"
   ]
  },
  {
   "cell_type": "code",
   "execution_count": 17,
   "metadata": {},
   "outputs": [
    {
     "data": {
      "text/html": [
       "<div>\n",
       "<style scoped>\n",
       "    .dataframe tbody tr th:only-of-type {\n",
       "        vertical-align: middle;\n",
       "    }\n",
       "\n",
       "    .dataframe tbody tr th {\n",
       "        vertical-align: top;\n",
       "    }\n",
       "\n",
       "    .dataframe thead th {\n",
       "        text-align: right;\n",
       "    }\n",
       "</style>\n",
       "<table border=\"1\" class=\"dataframe\">\n",
       "  <thead>\n",
       "    <tr style=\"text-align: right;\">\n",
       "      <th></th>\n",
       "      <th>movie_title</th>\n",
       "      <th>director_name</th>\n",
       "      <th>imdb_score</th>\n",
       "    </tr>\n",
       "  </thead>\n",
       "  <tbody>\n",
       "    <tr>\n",
       "      <th>2834</th>\n",
       "      <td>Justin Bieber: Never Say Never</td>\n",
       "      <td>Jon M. Chu</td>\n",
       "      <td>1.6</td>\n",
       "    </tr>\n",
       "  </tbody>\n",
       "</table>\n",
       "</div>"
      ],
      "text/plain": [
       "                          movie_title director_name  imdb_score\n",
       "2834  Justin Bieber: Never Say Never     Jon M. Chu         1.6"
      ]
     },
     "execution_count": 17,
     "metadata": {},
     "output_type": "execute_result"
    }
   ],
   "source": [
    "# Bottem\n",
    "df2.loc[df2['imdb_score'] == df2.imdb_score.min(), (\"movie_title\",'director_name', \"imdb_score\")]"
   ]
  },
  {
   "cell_type": "markdown",
   "metadata": {},
   "source": [
    "Histogram of gross sales and imdb score \n",
    "- x axis is hunders of million "
   ]
  },
  {
   "cell_type": "code",
   "execution_count": 18,
   "metadata": {},
   "outputs": [
    {
     "data": {
      "text/plain": [
       "array([[<matplotlib.axes._subplots.AxesSubplot object at 0x1a18627ef0>,\n",
       "        <matplotlib.axes._subplots.AxesSubplot object at 0x1a18a624e0>]],\n",
       "      dtype=object)"
      ]
     },
     "execution_count": 18,
     "metadata": {},
     "output_type": "execute_result"
    },
    {
     "data": {
      "image/png": "[encoded data removed]",
      "text/plain": [
       "<Figure size 1080x432 with 2 Axes>"
      ]
     },
     "metadata": {},
     "output_type": "display_data"
    }
   ],
   "source": [
    "col = ['imdb_score', 'gross']\n",
    "df2[col].hist(figsize=(15,6))"
   ]
  },
  {
   "cell_type": "markdown",
   "metadata": {},
   "source": [
    "#### Scatter plot of Gross sales vs. IMDB Score"
   ]
  },
  {
   "cell_type": "code",
   "execution_count": 19,
   "metadata": {},
   "outputs": [
    {
     "data": {
      "text/plain": [
       "Text(0.5,1,'IMDB Rating vs. Gross Sales Revenue')"
      ]
     },
     "execution_count": 19,
     "metadata": {},
     "output_type": "execute_result"
    },
    {
     "data": {
      "image/png": "[encoded data removed]",
      "text/plain": [
       "<Figure size 864x504 with 1 Axes>"
      ]
     },
     "metadata": {},
     "output_type": "display_data"
    }
   ],
   "source": [
    "plt.figure(figsize=(12,7))\n",
    "plt.scatter(df2[\"gross\"], df2[\"imdb_score\"])\n",
    "plt.xlabel(\"Gross Sales Revenue (hunderds of million)\")\n",
    "plt.ylabel(\"IMDB rating \")\n",
    "plt.title(\"IMDB Rating vs. Gross Sales Revenue\")"
   ]
  },
  {
   "cell_type": "code",
   "execution_count": 20,
   "metadata": {},
   "outputs": [
    {
     "data": {
      "text/html": [
       "<div>\n",
       "<style scoped>\n",
       "    .dataframe tbody tr th:only-of-type {\n",
       "        vertical-align: middle;\n",
       "    }\n",
       "\n",
       "    .dataframe tbody tr th {\n",
       "        vertical-align: top;\n",
       "    }\n",
       "\n",
       "    .dataframe thead th {\n",
       "        text-align: right;\n",
       "    }\n",
       "</style>\n",
       "<table border=\"1\" class=\"dataframe\">\n",
       "  <thead>\n",
       "    <tr style=\"text-align: right;\">\n",
       "      <th></th>\n",
       "      <th>gross</th>\n",
       "      <th>imdb_score</th>\n",
       "    </tr>\n",
       "  </thead>\n",
       "  <tbody>\n",
       "    <tr>\n",
       "      <th>0</th>\n",
       "      <td>760505847.0</td>\n",
       "      <td>7.9</td>\n",
       "    </tr>\n",
       "    <tr>\n",
       "      <th>1</th>\n",
       "      <td>309404152.0</td>\n",
       "      <td>7.1</td>\n",
       "    </tr>\n",
       "    <tr>\n",
       "      <th>2</th>\n",
       "      <td>200074175.0</td>\n",
       "      <td>6.8</td>\n",
       "    </tr>\n",
       "    <tr>\n",
       "      <th>3</th>\n",
       "      <td>448130642.0</td>\n",
       "      <td>8.5</td>\n",
       "    </tr>\n",
       "    <tr>\n",
       "      <th>4</th>\n",
       "      <td>NaN</td>\n",
       "      <td>7.1</td>\n",
       "    </tr>\n",
       "  </tbody>\n",
       "</table>\n",
       "</div>"
      ],
      "text/plain": [
       "         gross  imdb_score\n",
       "0  760505847.0         7.9\n",
       "1  309404152.0         7.1\n",
       "2  200074175.0         6.8\n",
       "3  448130642.0         8.5\n",
       "4          NaN         7.1"
      ]
     },
     "execution_count": 20,
     "metadata": {},
     "output_type": "execute_result"
    }
   ],
   "source": [
    "# taking to columns for simple linear regression\n",
    "df3 = df[[\"gross\", \"imdb_score\"]]\n",
    "df3.head()"
   ]
  },
  {
   "cell_type": "code",
   "execution_count": 21,
   "metadata": {},
   "outputs": [
    {
     "name": "stdout",
     "output_type": "stream",
     "text": [
      "Is ther an null values\n",
      "gross         884\n",
      "imdb_score      0\n",
      "dtype: int64\n",
      "----------------------------------------\n",
      "Null values after drop\n",
      "gross         0\n",
      "imdb_score    0\n",
      "dtype: int64\n"
     ]
    }
   ],
   "source": [
    "# counting nulls before and after droping Na's\n",
    "print(\"Is ther an null values\")\n",
    "print(df3.isnull().sum())\n",
    "df3.dropna(inplace = True)\n",
    "print(\"-\"*40)\n",
    "print(\"Null values after drop\")\n",
    "print(df3.isnull().sum())"
   ]
  },
  {
   "cell_type": "markdown",
   "metadata": {},
   "source": [
    "# Problem 1"
   ]
  },
  {
   "cell_type": "markdown",
   "metadata": {},
   "source": [
    "## A."
   ]
  },
  {
   "cell_type": "code",
   "execution_count": 22,
   "metadata": {},
   "outputs": [],
   "source": [
    "# see the break down of the test and train set\n",
    "import numpy.random as rnd\n",
    "def split_train_test(data, test_ratio):\n",
    "    shuffled_indices = rnd.permutation(len(data))\n",
    "    test_set_size = int(len(data) * test_ratio)\n",
    "    test_ind = shuffled_indices[:test_set_size]\n",
    "    train_ind = shuffled_indices[test_set_size:]\n",
    "    return data.iloc[train_ind], data.iloc[test_ind]"
   ]
  },
  {
   "cell_type": "code",
   "execution_count": 23,
   "metadata": {},
   "outputs": [
    {
     "name": "stdout",
     "output_type": "stream",
     "text": [
      "Train:  3328 Test:  831\n"
     ]
    }
   ],
   "source": [
    "train_set, test_set = split_train_test(df3, 0.2)\n",
    "print(\"Train: \", len(train_set), \"Test: \",len(test_set))"
   ]
  },
  {
   "cell_type": "markdown",
   "metadata": {},
   "source": [
    "#### Run a simple linear regression model"
   ]
  },
  {
   "cell_type": "code",
   "execution_count": 24,
   "metadata": {},
   "outputs": [],
   "source": [
    "from sklearn.model_selection import train_test_split\n",
    "from sklearn.metrics import r2_score"
   ]
  },
  {
   "cell_type": "code",
   "execution_count": 25,
   "metadata": {},
   "outputs": [],
   "source": [
    "x = np.c_[df3['gross']]\n",
    "y = np.c_[df3['imdb_score']]"
   ]
  },
  {
   "cell_type": "code",
   "execution_count": 26,
   "metadata": {},
   "outputs": [],
   "source": [
    "x_train, x_test, y_train, y_test = train_test_split(x,y, test_size = .20,\n",
    "                                                    random_state = 1)"
   ]
  },
  {
   "cell_type": "code",
   "execution_count": 27,
   "metadata": {},
   "outputs": [],
   "source": [
    "from sklearn.linear_model import LinearRegression"
   ]
  },
  {
   "cell_type": "code",
   "execution_count": 28,
   "metadata": {},
   "outputs": [
    {
     "data": {
      "text/plain": [
       "LinearRegression(copy_X=True, fit_intercept=True, n_jobs=1, normalize=False)"
      ]
     },
     "execution_count": 28,
     "metadata": {},
     "output_type": "execute_result"
    }
   ],
   "source": [
    "model = LinearRegression()\n",
    "model.fit(x_train, y_train)"
   ]
  },
  {
   "cell_type": "code",
   "execution_count": 29,
   "metadata": {},
   "outputs": [
    {
     "data": {
      "text/plain": [
       "(6.319469423982901, 3.2544884548484666e-09)"
      ]
     },
     "execution_count": 29,
     "metadata": {},
     "output_type": "execute_result"
    }
   ],
   "source": [
    "t0, t1 = model.intercept_[0], model.coef_[0][0]\n",
    "t0, t1"
   ]
  },
  {
   "cell_type": "code",
   "execution_count": 30,
   "metadata": {},
   "outputs": [],
   "source": [
    "y_pred = model.predict(x_test)"
   ]
  },
  {
   "cell_type": "code",
   "execution_count": 31,
   "metadata": {},
   "outputs": [],
   "source": [
    "from sklearn.metrics import mean_absolute_error, mean_squared_error"
   ]
  },
  {
   "cell_type": "markdown",
   "metadata": {},
   "source": [
    "#### Metrics to see how the model performed "
   ]
  },
  {
   "cell_type": "code",
   "execution_count": 32,
   "metadata": {},
   "outputs": [
    {
     "name": "stdout",
     "output_type": "stream",
     "text": [
      "R squared:  0.01713323961999702\n",
      "MSE:  1.0711606888591172\n",
      "RMSE:  1.034968931349689\n",
      "MAE:  0.814088971829415\n",
      "Model Predicting 53 million in Gross sales : [[6.49195731]]\n"
     ]
    }
   ],
   "source": [
    "print(\"R squared: \", r2_score(y_test, y_pred))\n",
    "print(\"MSE: \", mean_squared_error(y_test, y_pred))\n",
    "print(\"RMSE: \", np.sqrt(mean_squared_error(y_test, y_pred)))\n",
    "print(\"MAE: \",mean_absolute_error(y_test, y_pred))\n",
    "print(\"Model Predicting 53 million in Gross sales :\", model.predict([[53000000]]))"
   ]
  },
  {
   "cell_type": "markdown",
   "metadata": {},
   "source": [
    "#### Goddness of fit plot"
   ]
  },
  {
   "cell_type": "code",
   "execution_count": 33,
   "metadata": {},
   "outputs": [
    {
     "data": {
      "text/plain": [
       "<matplotlib.legend.Legend at 0x1a1943d240>"
      ]
     },
     "execution_count": 33,
     "metadata": {},
     "output_type": "execute_result"
    },
    {
     "data": {
      "image/png": "[encoded data removed]",
      "text/plain": [
       "<Figure size 864x504 with 1 Axes>"
      ]
     },
     "metadata": {},
     "output_type": "display_data"
    }
   ],
   "source": [
    "plt.figure(figsize = (12,7))\n",
    "plt.scatter(x_test, y_test,  color='black')\n",
    "plt.plot(x_test, y_pred,\"b\", label = \"Prediction\")\n",
    "plt.title(\"Goodness of Fit (Test)\")\n",
    "plt.xlabel(\"X\")\n",
    "plt.ylabel(\"Y\")\n",
    "plt.legend()"
   ]
  },
  {
   "cell_type": "markdown",
   "metadata": {},
   "source": [
    "## B."
   ]
  },
  {
   "cell_type": "markdown",
   "metadata": {},
   "source": [
    "### Ridge"
   ]
  },
  {
   "cell_type": "markdown",
   "metadata": {},
   "source": [
    "##### Conducted Ridge regression "
   ]
  },
  {
   "cell_type": "code",
   "execution_count": 34,
   "metadata": {},
   "outputs": [],
   "source": [
    "from sklearn.linear_model import Ridge"
   ]
  },
  {
   "cell_type": "code",
   "execution_count": 35,
   "metadata": {},
   "outputs": [
    {
     "data": {
      "text/plain": [
       "Ridge(alpha=10, copy_X=True, fit_intercept=True, max_iter=None,\n",
       "   normalize=False, random_state=None, solver='auto', tol=0.001)"
      ]
     },
     "execution_count": 35,
     "metadata": {},
     "output_type": "execute_result"
    }
   ],
   "source": [
    "ridge_reg = Ridge(alpha = 10)\n",
    "ridge_reg.fit(x_train, y_train)"
   ]
  },
  {
   "cell_type": "code",
   "execution_count": 36,
   "metadata": {},
   "outputs": [
    {
     "data": {
      "text/plain": [
       "(array([6.31946942]), array([[3.25448845e-09]]))"
      ]
     },
     "execution_count": 36,
     "metadata": {},
     "output_type": "execute_result"
    }
   ],
   "source": [
    "rigt0, rigt1 = ridge_reg.intercept_, ridge_reg.coef_\n",
    "rigt0, rigt1"
   ]
  },
  {
   "cell_type": "code",
   "execution_count": 37,
   "metadata": {},
   "outputs": [],
   "source": [
    "ridge_pred = ridge_reg.predict(x_test)"
   ]
  },
  {
   "cell_type": "markdown",
   "metadata": {},
   "source": [
    "#### Metrics to see how the model performed"
   ]
  },
  {
   "cell_type": "code",
   "execution_count": 38,
   "metadata": {},
   "outputs": [
    {
     "name": "stdout",
     "output_type": "stream",
     "text": [
      "R squared:  0.017133239619997243\n",
      "MSE:  1.071160688859117\n",
      "RMSE:  1.0349689313496888\n",
      "MAE:  0.814088971829415\n",
      "Model Predicting 53 million in Gross sales : [[6.49195731]]\n"
     ]
    }
   ],
   "source": [
    "print(\"R squared: \", r2_score(y_test, ridge_pred))\n",
    "print(\"MSE: \", mean_squared_error(y_test, ridge_pred))\n",
    "print(\"RMSE: \", np.sqrt(mean_squared_error(y_test, ridge_pred)))\n",
    "print(\"MAE: \",mean_absolute_error(y_test, ridge_pred))\n",
    "print(\"Model Predicting 53 million in Gross sales :\", ridge_reg.predict([[53000000]]))"
   ]
  },
  {
   "cell_type": "markdown",
   "metadata": {},
   "source": [
    "### Lasso"
   ]
  },
  {
   "cell_type": "markdown",
   "metadata": {},
   "source": [
    "#### Conducted Lasso regression "
   ]
  },
  {
   "cell_type": "code",
   "execution_count": 39,
   "metadata": {},
   "outputs": [],
   "source": [
    "from sklearn.linear_model import Lasso"
   ]
  },
  {
   "cell_type": "code",
   "execution_count": 40,
   "metadata": {},
   "outputs": [
    {
     "data": {
      "text/plain": [
       "Lasso(alpha=10, copy_X=True, fit_intercept=True, max_iter=1000,\n",
       "   normalize=False, positive=False, precompute=False, random_state=None,\n",
       "   selection='cyclic', tol=0.0001, warm_start=False)"
      ]
     },
     "execution_count": 40,
     "metadata": {},
     "output_type": "execute_result"
    }
   ],
   "source": [
    "lasso_reg = Lasso(alpha = 10)\n",
    "lasso_reg.fit(x_train, y_train)"
   ]
  },
  {
   "cell_type": "code",
   "execution_count": 41,
   "metadata": {},
   "outputs": [
    {
     "data": {
      "text/plain": [
       "(array([6.31946953]), array([3.25448629e-09]))"
      ]
     },
     "execution_count": 41,
     "metadata": {},
     "output_type": "execute_result"
    }
   ],
   "source": [
    "last0, last1 = lasso_reg.intercept_, lasso_reg.coef_\n",
    "last0, last1"
   ]
  },
  {
   "cell_type": "code",
   "execution_count": 42,
   "metadata": {},
   "outputs": [],
   "source": [
    "las_pred = lasso_reg.predict(x_test)"
   ]
  },
  {
   "cell_type": "markdown",
   "metadata": {},
   "source": [
    "#### Metrics to see how the model performed"
   ]
  },
  {
   "cell_type": "code",
   "execution_count": 43,
   "metadata": {},
   "outputs": [
    {
     "name": "stdout",
     "output_type": "stream",
     "text": [
      "R squared:  0.01713325920260733\n",
      "MSE:  1.071160667517341\n",
      "RMSE:  1.0349689210393427\n",
      "MAE:  0.8140889581494268\n",
      "Model Predicting 53 million in Gross sales : [6.4919573]\n"
     ]
    }
   ],
   "source": [
    "print(\"R squared: \", r2_score(y_test, las_pred))\n",
    "print(\"MSE: \", mean_squared_error(y_test, las_pred))\n",
    "print(\"RMSE: \", np.sqrt(mean_squared_error(y_test, las_pred)))\n",
    "print(\"MAE: \",mean_absolute_error(y_test, las_pred))\n",
    "print(\"Model Predicting 53 million in Gross sales :\", lasso_reg.predict([[53000000]]))"
   ]
  },
  {
   "cell_type": "markdown",
   "metadata": {},
   "source": [
    "#### Goodness of fit with all three regressions"
   ]
  },
  {
   "cell_type": "code",
   "execution_count": 44,
   "metadata": {},
   "outputs": [
    {
     "data": {
      "text/plain": [
       "<matplotlib.legend.Legend at 0x1a194b90f0>"
      ]
     },
     "execution_count": 44,
     "metadata": {},
     "output_type": "execute_result"
    },
    {
     "data": {
      "image/png": "[encoded data removed]",
      "text/plain": [
       "<Figure size 864x504 with 1 Axes>"
      ]
     },
     "metadata": {},
     "output_type": "display_data"
    }
   ],
   "source": [
    "plt.figure(figsize = (12,7))\n",
    "plt.scatter(x_test, y_test,  color='black')\n",
    "plt.plot(x_test, y_pred,\"b\", label = \"Linaer Prediction\")\n",
    "plt.plot(x_test, ridge_pred,\"r\", label = \"Ridge Prediction\")\n",
    "plt.plot(x_test, las_pred,\"g\", label = \"Lasso Prediction\")\n",
    "plt.title(\"Goodness of Fit (Test)\")\n",
    "plt.xlabel(\"X\")\n",
    "plt.ylabel(\"Y\")\n",
    "plt.legend()"
   ]
  },
  {
   "cell_type": "markdown",
   "metadata": {},
   "source": [
    "As seen from the graph and the metrics used there wasn't much difference between Linear, Ridge, and Lasso if any at all. Ridge and Lasso had intercepts and coefficients that were slightly different than that of a linear regression. Which leads the metrics to show a very small difference when comparing the models. "
   ]
  },
  {
   "cell_type": "markdown",
   "metadata": {},
   "source": [
    "## C."
   ]
  },
  {
   "cell_type": "markdown",
   "metadata": {},
   "source": [
    "When lambda is zero the estimates produced will be equal to least squares or the linear regression estimates. The smaller the  lambda the more complex the model can be, which could lead to overfitting. The model won't be able to generalize the new data. The idea is to strike a balance between simplicity and complexity in your model when using lambda. "
   ]
  },
  {
   "cell_type": "markdown",
   "metadata": {},
   "source": [
    "## D."
   ]
  },
  {
   "cell_type": "markdown",
   "metadata": {},
   "source": [
    "### Linear Relationship "
   ]
  },
  {
   "cell_type": "code",
   "execution_count": 45,
   "metadata": {},
   "outputs": [
    {
     "data": {
      "text/plain": [
       "Text(0.5,1,'IMDB Rating vs. Gross Sales Revenue')"
      ]
     },
     "execution_count": 45,
     "metadata": {},
     "output_type": "execute_result"
    },
    {
     "data": {
      "image/png": "[encoded data removed]",
      "text/plain": [
       "<Figure size 864x504 with 1 Axes>"
      ]
     },
     "metadata": {},
     "output_type": "display_data"
    }
   ],
   "source": [
    "plt.figure(figsize=(12,7))\n",
    "plt.scatter(df3[\"gross\"], df3[\"imdb_score\"])\n",
    "plt.xlabel(\"Gross Sales Revenue in hundreds of million \")\n",
    "plt.ylabel(\"IMDB rating \")\n",
    "plt.title(\"IMDB Rating vs. Gross Sales Revenue\")"
   ]
  },
  {
   "cell_type": "markdown",
   "metadata": {},
   "source": [
    "As seen from the scatter plot above there is a slight linear relationship between Gross sales and IMDB rating. There seems to be a lot of movies that didn't have great sales and received an average IMDB rating. There is a small trend showing that as the gross sales increases the higher the IMDB rating seems to be. The linear relationship isn't perfect but there is a slight linear relationship. "
   ]
  },
  {
   "cell_type": "markdown",
   "metadata": {},
   "source": [
    "### Normality of Errors"
   ]
  },
  {
   "cell_type": "code",
   "execution_count": 46,
   "metadata": {},
   "outputs": [],
   "source": [
    "residuals = y_pred - y_test"
   ]
  },
  {
   "cell_type": "code",
   "execution_count": 47,
   "metadata": {},
   "outputs": [
    {
     "data": {
      "text/plain": [
       "Text(0.5,1,'Residual Histogram')"
      ]
     },
     "execution_count": 47,
     "metadata": {},
     "output_type": "execute_result"
    },
    {
     "data": {
      "image/png": "[encoded data removed]",
      "text/plain": [
       "<Figure size 864x504 with 1 Axes>"
      ]
     },
     "metadata": {},
     "output_type": "display_data"
    }
   ],
   "source": [
    "plt.figure(figsize = (12,7))\n",
    "sns.distplot(residuals)\n",
    "plt.title(\"Residual Histogram\")"
   ]
  },
  {
   "cell_type": "markdown",
   "metadata": {},
   "source": [
    "Based on the plot above the residuals are normally distributed around zero. The histogram may be a little positively skewed but not much.  I also know that a QQ plot will be another test to see the distribution of the residuals but I could not find away in python that worked for me."
   ]
  },
  {
   "cell_type": "markdown",
   "metadata": {},
   "source": [
    "### Multicollinearity"
   ]
  },
  {
   "cell_type": "markdown",
   "metadata": {},
   "source": [
    "In simple linear regression multicollinearity is not a problem because we only have one independent variable. It should be tested in multiple linear regression. One way to test for multicollinearity is with correlation. If there is a correlation above .80 than there is multicollinearity in the regression model. Another way is to use Variance Inflation Factor (VIF). VIF indicates the degree in which the variance in the regression estimates are increased due to multicollinearity. If you get a value over 10 than multicollinearity is a problem."
   ]
  },
  {
   "cell_type": "markdown",
   "metadata": {},
   "source": [
    "### Homoscedasticity"
   ]
  },
  {
   "cell_type": "code",
   "execution_count": 48,
   "metadata": {},
   "outputs": [
    {
     "data": {
      "text/plain": [
       "Text(0,0.5,'Residual')"
      ]
     },
     "execution_count": 48,
     "metadata": {},
     "output_type": "execute_result"
    },
    {
     "data": {
      "image/png": "[encoded data removed]",
      "text/plain": [
       "<Figure size 864x504 with 1 Axes>"
      ]
     },
     "metadata": {},
     "output_type": "display_data"
    }
   ],
   "source": [
    "plt.figure(figsize = (12,7))\n",
    "sns.regplot(y = residuals, x= x_test, fit_reg = False) \n",
    "plt.axhline(y=0, color = 'r', linestyle = '--')\n",
    "plt.title('Check for Homoscedasticity')\n",
    "plt.xlabel('Fitted Values')\n",
    "plt.ylabel('Residual')"
   ]
  },
  {
   "cell_type": "markdown",
   "metadata": {},
   "source": [
    "Based on the plot above the simple linear model has heteroscedasticity. This can be seen by the cone shape that is present in the plot above. When we test for homoscedasticity of error terms we are testing to determine whether a regression can have predictions that are consistent across all values of the fitted value. This shows that the results from the simple linear model should not be trusted.  As the values of x or the fitted value get smaller there is more variation in the predictions. One way to fix this would be to pick another independent variable. Since it is a simple linear regression that would be easy to do. Another way to fix this is to do a transformation like log. Another reason that there is a cone shape is that there were many points that had gross sales close to zero and not many points greater than 3 (300 million) in the data. "
   ]
  },
  {
   "cell_type": "markdown",
   "metadata": {},
   "source": [
    "## E."
   ]
  },
  {
   "cell_type": "markdown",
   "metadata": {},
   "source": [
    "#### Created new data set for multivariate linear regression "
   ]
  },
  {
   "cell_type": "code",
   "execution_count": 49,
   "metadata": {},
   "outputs": [],
   "source": [
    "df4 = df.dropna()"
   ]
  },
  {
   "cell_type": "code",
   "execution_count": 50,
   "metadata": {},
   "outputs": [
    {
     "data": {
      "text/plain": [
       "((5043, 28), (3756, 28))"
      ]
     },
     "execution_count": 50,
     "metadata": {},
     "output_type": "execute_result"
    }
   ],
   "source": [
    "# compare shape\n",
    "df.shape, df4.shape"
   ]
  },
  {
   "cell_type": "code",
   "execution_count": 51,
   "metadata": {
    "scrolled": true
   },
   "outputs": [
    {
     "data": {
      "text/plain": [
       "Index(['color', 'director_name', 'num_critic_for_reviews', 'duration',\n",
       "       'director_facebook_likes', 'actor_3_facebook_likes', 'actor_2_name',\n",
       "       'actor_1_facebook_likes', 'gross', 'genres', 'actor_1_name',\n",
       "       'movie_title', 'num_voted_users', 'cast_total_facebook_likes',\n",
       "       'actor_3_name', 'facenumber_in_poster', 'plot_keywords',\n",
       "       'movie_imdb_link', 'num_user_for_reviews', 'language', 'country',\n",
       "       'content_rating', 'budget', 'title_year', 'actor_2_facebook_likes',\n",
       "       'imdb_score', 'aspect_ratio', 'movie_facebook_likes'],\n",
       "      dtype='object')"
      ]
     },
     "execution_count": 51,
     "metadata": {},
     "output_type": "execute_result"
    }
   ],
   "source": [
    "df4.columns"
   ]
  },
  {
   "cell_type": "code",
   "execution_count": 52,
   "metadata": {},
   "outputs": [
    {
     "data": {
      "text/plain": [
       "array(['English', 'Mandarin', 'Aboriginal', 'Spanish', 'French',\n",
       "       'Filipino', 'Maya', 'Kazakh', 'Cantonese', 'Japanese', 'Aramaic',\n",
       "       'Italian', 'Dutch', 'Dari', 'German', 'Mongolian', 'Thai',\n",
       "       'Bosnian', 'Korean', 'Hungarian', 'Hindi', 'Danish', 'Portuguese',\n",
       "       'Norwegian', 'Czech', 'Russian', 'None', 'Zulu', 'Hebrew',\n",
       "       'Arabic', 'Vietnamese', 'Indonesian', 'Romanian', 'Persian'],\n",
       "      dtype=object)"
      ]
     },
     "execution_count": 52,
     "metadata": {},
     "output_type": "execute_result"
    }
   ],
   "source": [
    "# Number unique values in Language\n",
    "df4.language.unique()"
   ]
  },
  {
   "cell_type": "code",
   "execution_count": 53,
   "metadata": {},
   "outputs": [
    {
     "data": {
      "text/plain": [
       "array(['USA', 'UK', 'New Zealand', 'Canada', 'Australia', 'Germany',\n",
       "       'China', 'New Line', 'France', 'Japan', 'Spain', 'Hong Kong',\n",
       "       'Czech Republic', 'Peru', 'South Korea', 'Aruba', 'Denmark',\n",
       "       'Ireland', 'South Africa', 'Italy', 'Romania', 'Chile',\n",
       "       'Netherlands', 'Hungary', 'Russia', 'Belgium', 'Greece', 'Taiwan',\n",
       "       'Official site', 'Thailand', 'Iran', 'West Germany', 'Georgia',\n",
       "       'India', 'Mexico', 'Brazil', 'Finland', 'Norway', 'Iceland',\n",
       "       'Argentina', 'Colombia', 'Poland', 'Israel', 'Indonesia',\n",
       "       'Afghanistan'], dtype=object)"
      ]
     },
     "execution_count": 53,
     "metadata": {},
     "output_type": "execute_result"
    }
   ],
   "source": [
    "# Number unique values in country\n",
    "df4.country.unique()"
   ]
  },
  {
   "cell_type": "code",
   "execution_count": 54,
   "metadata": {},
   "outputs": [
    {
     "data": {
      "text/plain": [
       "array(['Color', ' Black and White'], dtype=object)"
      ]
     },
     "execution_count": 54,
     "metadata": {},
     "output_type": "execute_result"
    }
   ],
   "source": [
    "# Number unique values in color\n",
    "df4.color.unique()"
   ]
  },
  {
   "cell_type": "code",
   "execution_count": 55,
   "metadata": {},
   "outputs": [
    {
     "data": {
      "text/plain": [
       "array(['PG-13', 'PG', 'G', 'R', 'Approved', 'NC-17', 'X', 'Not Rated',\n",
       "       'Unrated', 'M', 'GP', 'Passed'], dtype=object)"
      ]
     },
     "execution_count": 55,
     "metadata": {},
     "output_type": "execute_result"
    }
   ],
   "source": [
    "# Number unique values in content rating\n",
    "df4.content_rating.unique()"
   ]
  },
  {
   "cell_type": "markdown",
   "metadata": {},
   "source": [
    "I decided to drop all categorical variables in the data set because at this time I don’t know how to use dummy variables in feature selection. Couldn’t find a way to do this online.  "
   ]
  },
  {
   "cell_type": "code",
   "execution_count": 56,
   "metadata": {},
   "outputs": [],
   "source": [
    "df5 = df4.drop(['director_name', 'actor_2_name','actor_1_name', \n",
    "                'movie_title', 'plot_keywords', 'movie_imdb_link', 'actor_3_name','genres',\n",
    "                'country','language','content_rating','color','title_year' ],axis = 1)"
   ]
  },
  {
   "cell_type": "code",
   "execution_count": 57,
   "metadata": {},
   "outputs": [
    {
     "data": {
      "text/html": [
       "<div>\n",
       "<style scoped>\n",
       "    .dataframe tbody tr th:only-of-type {\n",
       "        vertical-align: middle;\n",
       "    }\n",
       "\n",
       "    .dataframe tbody tr th {\n",
       "        vertical-align: top;\n",
       "    }\n",
       "\n",
       "    .dataframe thead th {\n",
       "        text-align: right;\n",
       "    }\n",
       "</style>\n",
       "<table border=\"1\" class=\"dataframe\">\n",
       "  <thead>\n",
       "    <tr style=\"text-align: right;\">\n",
       "      <th></th>\n",
       "      <th>num_critic_for_reviews</th>\n",
       "      <th>duration</th>\n",
       "      <th>director_facebook_likes</th>\n",
       "      <th>actor_3_facebook_likes</th>\n",
       "      <th>actor_1_facebook_likes</th>\n",
       "      <th>gross</th>\n",
       "      <th>num_voted_users</th>\n",
       "      <th>cast_total_facebook_likes</th>\n",
       "      <th>facenumber_in_poster</th>\n",
       "      <th>num_user_for_reviews</th>\n",
       "      <th>budget</th>\n",
       "      <th>actor_2_facebook_likes</th>\n",
       "      <th>imdb_score</th>\n",
       "      <th>aspect_ratio</th>\n",
       "      <th>movie_facebook_likes</th>\n",
       "    </tr>\n",
       "  </thead>\n",
       "  <tbody>\n",
       "    <tr>\n",
       "      <th>0</th>\n",
       "      <td>723.0</td>\n",
       "      <td>178.0</td>\n",
       "      <td>0.0</td>\n",
       "      <td>855.0</td>\n",
       "      <td>1000.0</td>\n",
       "      <td>760505847.0</td>\n",
       "      <td>886204</td>\n",
       "      <td>4834</td>\n",
       "      <td>0.0</td>\n",
       "      <td>3054.0</td>\n",
       "      <td>237000000.0</td>\n",
       "      <td>936.0</td>\n",
       "      <td>7.9</td>\n",
       "      <td>1.78</td>\n",
       "      <td>33000</td>\n",
       "    </tr>\n",
       "    <tr>\n",
       "      <th>1</th>\n",
       "      <td>302.0</td>\n",
       "      <td>169.0</td>\n",
       "      <td>563.0</td>\n",
       "      <td>1000.0</td>\n",
       "      <td>40000.0</td>\n",
       "      <td>309404152.0</td>\n",
       "      <td>471220</td>\n",
       "      <td>48350</td>\n",
       "      <td>0.0</td>\n",
       "      <td>1238.0</td>\n",
       "      <td>300000000.0</td>\n",
       "      <td>5000.0</td>\n",
       "      <td>7.1</td>\n",
       "      <td>2.35</td>\n",
       "      <td>0</td>\n",
       "    </tr>\n",
       "    <tr>\n",
       "      <th>2</th>\n",
       "      <td>602.0</td>\n",
       "      <td>148.0</td>\n",
       "      <td>0.0</td>\n",
       "      <td>161.0</td>\n",
       "      <td>11000.0</td>\n",
       "      <td>200074175.0</td>\n",
       "      <td>275868</td>\n",
       "      <td>11700</td>\n",
       "      <td>1.0</td>\n",
       "      <td>994.0</td>\n",
       "      <td>245000000.0</td>\n",
       "      <td>393.0</td>\n",
       "      <td>6.8</td>\n",
       "      <td>2.35</td>\n",
       "      <td>85000</td>\n",
       "    </tr>\n",
       "    <tr>\n",
       "      <th>3</th>\n",
       "      <td>813.0</td>\n",
       "      <td>164.0</td>\n",
       "      <td>22000.0</td>\n",
       "      <td>23000.0</td>\n",
       "      <td>27000.0</td>\n",
       "      <td>448130642.0</td>\n",
       "      <td>1144337</td>\n",
       "      <td>106759</td>\n",
       "      <td>0.0</td>\n",
       "      <td>2701.0</td>\n",
       "      <td>250000000.0</td>\n",
       "      <td>23000.0</td>\n",
       "      <td>8.5</td>\n",
       "      <td>2.35</td>\n",
       "      <td>164000</td>\n",
       "    </tr>\n",
       "    <tr>\n",
       "      <th>5</th>\n",
       "      <td>462.0</td>\n",
       "      <td>132.0</td>\n",
       "      <td>475.0</td>\n",
       "      <td>530.0</td>\n",
       "      <td>640.0</td>\n",
       "      <td>73058679.0</td>\n",
       "      <td>212204</td>\n",
       "      <td>1873</td>\n",
       "      <td>1.0</td>\n",
       "      <td>738.0</td>\n",
       "      <td>263700000.0</td>\n",
       "      <td>632.0</td>\n",
       "      <td>6.6</td>\n",
       "      <td>2.35</td>\n",
       "      <td>24000</td>\n",
       "    </tr>\n",
       "  </tbody>\n",
       "</table>\n",
       "</div>"
      ],
      "text/plain": [
       "   num_critic_for_reviews  duration  director_facebook_likes  \\\n",
       "0                   723.0     178.0                      0.0   \n",
       "1                   302.0     169.0                    563.0   \n",
       "2                   602.0     148.0                      0.0   \n",
       "3                   813.0     164.0                  22000.0   \n",
       "5                   462.0     132.0                    475.0   \n",
       "\n",
       "   actor_3_facebook_likes  actor_1_facebook_likes        gross  \\\n",
       "0                   855.0                  1000.0  760505847.0   \n",
       "1                  1000.0                 40000.0  309404152.0   \n",
       "2                   161.0                 11000.0  200074175.0   \n",
       "3                 23000.0                 27000.0  448130642.0   \n",
       "5                   530.0                   640.0   73058679.0   \n",
       "\n",
       "   num_voted_users  cast_total_facebook_likes  facenumber_in_poster  \\\n",
       "0           886204                       4834                   0.0   \n",
       "1           471220                      48350                   0.0   \n",
       "2           275868                      11700                   1.0   \n",
       "3          1144337                     106759                   0.0   \n",
       "5           212204                       1873                   1.0   \n",
       "\n",
       "   num_user_for_reviews       budget  actor_2_facebook_likes  imdb_score  \\\n",
       "0                3054.0  237000000.0                   936.0         7.9   \n",
       "1                1238.0  300000000.0                  5000.0         7.1   \n",
       "2                 994.0  245000000.0                   393.0         6.8   \n",
       "3                2701.0  250000000.0                 23000.0         8.5   \n",
       "5                 738.0  263700000.0                   632.0         6.6   \n",
       "\n",
       "   aspect_ratio  movie_facebook_likes  \n",
       "0          1.78                 33000  \n",
       "1          2.35                     0  \n",
       "2          2.35                 85000  \n",
       "3          2.35                164000  \n",
       "5          2.35                 24000  "
      ]
     },
     "execution_count": 57,
     "metadata": {},
     "output_type": "execute_result"
    }
   ],
   "source": [
    "# new dataset\n",
    "df5.head()"
   ]
  },
  {
   "cell_type": "code",
   "execution_count": 58,
   "metadata": {},
   "outputs": [
    {
     "data": {
      "text/plain": [
       "(3756, 15)"
      ]
     },
     "execution_count": 58,
     "metadata": {},
     "output_type": "execute_result"
    }
   ],
   "source": [
    "df5.shape"
   ]
  },
  {
   "cell_type": "markdown",
   "metadata": {},
   "source": [
    "##### Feature selection with Recursive feature Elimination "
   ]
  },
  {
   "cell_type": "code",
   "execution_count": 59,
   "metadata": {},
   "outputs": [],
   "source": [
    "from sklearn.feature_selection import RFE\n",
    "from sklearn.preprocessing import StandardScaler"
   ]
  },
  {
   "cell_type": "code",
   "execution_count": 60,
   "metadata": {},
   "outputs": [],
   "source": [
    "x = df5.drop('imdb_score', axis = 1)\n",
    "y = df5[['imdb_score']]"
   ]
  },
  {
   "cell_type": "markdown",
   "metadata": {},
   "source": [
    "#### Created train, validation and test sets"
   ]
  },
  {
   "cell_type": "code",
   "execution_count": 61,
   "metadata": {},
   "outputs": [],
   "source": [
    "X_train, x_test, y_train, y_test = train_test_split(x, y, test_size=0.2, \n",
    "                                                    random_state=1)\n",
    "x_train, x_val, y_train, y_val  = train_test_split(X_train, y_train, test_size=0.2, \n",
    "                                                   random_state=1)"
   ]
  },
  {
   "cell_type": "code",
   "execution_count": 62,
   "metadata": {},
   "outputs": [
    {
     "data": {
      "text/plain": [
       "((2403, 14), (601, 14), (752, 14))"
      ]
     },
     "execution_count": 62,
     "metadata": {},
     "output_type": "execute_result"
    }
   ],
   "source": [
    "x_train.shape, x_val.shape, x_test.shape"
   ]
  },
  {
   "cell_type": "markdown",
   "metadata": {},
   "source": [
    "#### Scaled all data for x"
   ]
  },
  {
   "cell_type": "code",
   "execution_count": 63,
   "metadata": {},
   "outputs": [
    {
     "data": {
      "text/html": [
       "<div>\n",
       "<style scoped>\n",
       "    .dataframe tbody tr th:only-of-type {\n",
       "        vertical-align: middle;\n",
       "    }\n",
       "\n",
       "    .dataframe tbody tr th {\n",
       "        vertical-align: top;\n",
       "    }\n",
       "\n",
       "    .dataframe thead th {\n",
       "        text-align: right;\n",
       "    }\n",
       "</style>\n",
       "<table border=\"1\" class=\"dataframe\">\n",
       "  <thead>\n",
       "    <tr style=\"text-align: right;\">\n",
       "      <th></th>\n",
       "      <th>num_critic_for_reviews</th>\n",
       "      <th>duration</th>\n",
       "      <th>director_facebook_likes</th>\n",
       "      <th>actor_3_facebook_likes</th>\n",
       "      <th>actor_1_facebook_likes</th>\n",
       "      <th>gross</th>\n",
       "      <th>num_voted_users</th>\n",
       "      <th>cast_total_facebook_likes</th>\n",
       "      <th>facenumber_in_poster</th>\n",
       "      <th>num_user_for_reviews</th>\n",
       "      <th>budget</th>\n",
       "      <th>actor_2_facebook_likes</th>\n",
       "      <th>aspect_ratio</th>\n",
       "      <th>movie_facebook_likes</th>\n",
       "    </tr>\n",
       "  </thead>\n",
       "  <tbody>\n",
       "    <tr>\n",
       "      <th>0</th>\n",
       "      <td>0.668967</td>\n",
       "      <td>1.968996</td>\n",
       "      <td>-0.264594</td>\n",
       "      <td>-0.081893</td>\n",
       "      <td>-0.462600</td>\n",
       "      <td>0.461775</td>\n",
       "      <td>2.664835</td>\n",
       "      <td>-0.438184</td>\n",
       "      <td>-0.191814</td>\n",
       "      <td>1.845889</td>\n",
       "      <td>-0.202644</td>\n",
       "      <td>-0.298944</td>\n",
       "      <td>-0.669514</td>\n",
       "      <td>0.409434</td>\n",
       "    </tr>\n",
       "    <tr>\n",
       "      <th>1</th>\n",
       "      <td>0.115756</td>\n",
       "      <td>-0.124331</td>\n",
       "      <td>-0.210075</td>\n",
       "      <td>-0.347751</td>\n",
       "      <td>-0.462600</td>\n",
       "      <td>-0.525720</td>\n",
       "      <td>-0.460735</td>\n",
       "      <td>-0.545421</td>\n",
       "      <td>0.292355</td>\n",
       "      <td>0.115666</td>\n",
       "      <td>-0.241425</td>\n",
       "      <td>-0.375506</td>\n",
       "      <td>-0.669514</td>\n",
       "      <td>-0.444742</td>\n",
       "    </tr>\n",
       "    <tr>\n",
       "      <th>2</th>\n",
       "      <td>-0.982650</td>\n",
       "      <td>-0.658797</td>\n",
       "      <td>-0.264594</td>\n",
       "      <td>-0.060352</td>\n",
       "      <td>-0.543612</td>\n",
       "      <td>-0.213384</td>\n",
       "      <td>-0.609381</td>\n",
       "      <td>-0.419579</td>\n",
       "      <td>-0.191814</td>\n",
       "      <td>-0.623025</td>\n",
       "      <td>-0.073115</td>\n",
       "      <td>-0.260247</td>\n",
       "      <td>-0.669514</td>\n",
       "      <td>-0.414466</td>\n",
       "    </tr>\n",
       "    <tr>\n",
       "      <th>3</th>\n",
       "      <td>-1.167053</td>\n",
       "      <td>-0.124331</td>\n",
       "      <td>-0.256517</td>\n",
       "      <td>-0.377228</td>\n",
       "      <td>-0.602183</td>\n",
       "      <td>-0.637578</td>\n",
       "      <td>-0.691525</td>\n",
       "      <td>-0.648743</td>\n",
       "      <td>-0.675983</td>\n",
       "      <td>-0.598236</td>\n",
       "      <td>-0.316902</td>\n",
       "      <td>-0.378419</td>\n",
       "      <td>-1.892678</td>\n",
       "      <td>-0.423103</td>\n",
       "    </tr>\n",
       "    <tr>\n",
       "      <th>4</th>\n",
       "      <td>-0.710053</td>\n",
       "      <td>-0.703336</td>\n",
       "      <td>-0.135701</td>\n",
       "      <td>0.002569</td>\n",
       "      <td>-0.300575</td>\n",
       "      <td>0.078679</td>\n",
       "      <td>-0.116331</td>\n",
       "      <td>-0.330466</td>\n",
       "      <td>-0.191814</td>\n",
       "      <td>-0.347875</td>\n",
       "      <td>0.041677</td>\n",
       "      <td>-0.261079</td>\n",
       "      <td>0.604615</td>\n",
       "      <td>-0.444742</td>\n",
       "    </tr>\n",
       "  </tbody>\n",
       "</table>\n",
       "</div>"
      ],
      "text/plain": [
       "   num_critic_for_reviews  duration  director_facebook_likes  \\\n",
       "0                0.668967  1.968996                -0.264594   \n",
       "1                0.115756 -0.124331                -0.210075   \n",
       "2               -0.982650 -0.658797                -0.264594   \n",
       "3               -1.167053 -0.124331                -0.256517   \n",
       "4               -0.710053 -0.703336                -0.135701   \n",
       "\n",
       "   actor_3_facebook_likes  actor_1_facebook_likes     gross  num_voted_users  \\\n",
       "0               -0.081893               -0.462600  0.461775         2.664835   \n",
       "1               -0.347751               -0.462600 -0.525720        -0.460735   \n",
       "2               -0.060352               -0.543612 -0.213384        -0.609381   \n",
       "3               -0.377228               -0.602183 -0.637578        -0.691525   \n",
       "4                0.002569               -0.300575  0.078679        -0.116331   \n",
       "\n",
       "   cast_total_facebook_likes  facenumber_in_poster  num_user_for_reviews  \\\n",
       "0                  -0.438184             -0.191814              1.845889   \n",
       "1                  -0.545421              0.292355              0.115666   \n",
       "2                  -0.419579             -0.191814             -0.623025   \n",
       "3                  -0.648743             -0.675983             -0.598236   \n",
       "4                  -0.330466             -0.191814             -0.347875   \n",
       "\n",
       "     budget  actor_2_facebook_likes  aspect_ratio  movie_facebook_likes  \n",
       "0 -0.202644               -0.298944     -0.669514              0.409434  \n",
       "1 -0.241425               -0.375506     -0.669514             -0.444742  \n",
       "2 -0.073115               -0.260247     -0.669514             -0.414466  \n",
       "3 -0.316902               -0.378419     -1.892678             -0.423103  \n",
       "4  0.041677               -0.261079      0.604615             -0.444742  "
      ]
     },
     "execution_count": 63,
     "metadata": {},
     "output_type": "execute_result"
    }
   ],
   "source": [
    "### Scaling x_train\n",
    "names = x_train.columns\n",
    "scaler = StandardScaler()\n",
    "x_train = scaler.fit_transform(x_train)\n",
    "x_train = pd.DataFrame(x_train, columns=names)\n",
    "x_train.head()"
   ]
  },
  {
   "cell_type": "code",
   "execution_count": 64,
   "metadata": {},
   "outputs": [
    {
     "data": {
      "text/html": [
       "<div>\n",
       "<style scoped>\n",
       "    .dataframe tbody tr th:only-of-type {\n",
       "        vertical-align: middle;\n",
       "    }\n",
       "\n",
       "    .dataframe tbody tr th {\n",
       "        vertical-align: top;\n",
       "    }\n",
       "\n",
       "    .dataframe thead th {\n",
       "        text-align: right;\n",
       "    }\n",
       "</style>\n",
       "<table border=\"1\" class=\"dataframe\">\n",
       "  <thead>\n",
       "    <tr style=\"text-align: right;\">\n",
       "      <th></th>\n",
       "      <th>num_critic_for_reviews</th>\n",
       "      <th>duration</th>\n",
       "      <th>director_facebook_likes</th>\n",
       "      <th>actor_3_facebook_likes</th>\n",
       "      <th>actor_1_facebook_likes</th>\n",
       "      <th>gross</th>\n",
       "      <th>num_voted_users</th>\n",
       "      <th>cast_total_facebook_likes</th>\n",
       "      <th>facenumber_in_poster</th>\n",
       "      <th>num_user_for_reviews</th>\n",
       "      <th>budget</th>\n",
       "      <th>actor_2_facebook_likes</th>\n",
       "      <th>aspect_ratio</th>\n",
       "      <th>movie_facebook_likes</th>\n",
       "    </tr>\n",
       "  </thead>\n",
       "  <tbody>\n",
       "    <tr>\n",
       "      <th>0</th>\n",
       "      <td>-0.152326</td>\n",
       "      <td>0.154117</td>\n",
       "      <td>-0.220458</td>\n",
       "      <td>-0.058190</td>\n",
       "      <td>0.464344</td>\n",
       "      <td>0.413572</td>\n",
       "      <td>-0.115864</td>\n",
       "      <td>0.374657</td>\n",
       "      <td>0.297158</td>\n",
       "      <td>0.025262</td>\n",
       "      <td>-0.094607</td>\n",
       "      <td>-0.262209</td>\n",
       "      <td>0.890767</td>\n",
       "      <td>-0.476329</td>\n",
       "    </tr>\n",
       "    <tr>\n",
       "      <th>1</th>\n",
       "      <td>-1.247107</td>\n",
       "      <td>-1.270874</td>\n",
       "      <td>-0.105053</td>\n",
       "      <td>-0.263990</td>\n",
       "      <td>-0.695866</td>\n",
       "      <td>-0.699294</td>\n",
       "      <td>-0.643040</td>\n",
       "      <td>-0.681775</td>\n",
       "      <td>-0.147101</td>\n",
       "      <td>-0.718832</td>\n",
       "      <td>-0.116486</td>\n",
       "      <td>-0.420131</td>\n",
       "      <td>-0.940494</td>\n",
       "      <td>-0.451684</td>\n",
       "    </tr>\n",
       "    <tr>\n",
       "      <th>2</th>\n",
       "      <td>1.063140</td>\n",
       "      <td>-0.700877</td>\n",
       "      <td>-0.259037</td>\n",
       "      <td>-0.376989</td>\n",
       "      <td>-0.663573</td>\n",
       "      <td>-0.562391</td>\n",
       "      <td>-0.171363</td>\n",
       "      <td>-0.682963</td>\n",
       "      <td>0.297158</td>\n",
       "      <td>-0.254627</td>\n",
       "      <td>-0.076542</td>\n",
       "      <td>-0.390130</td>\n",
       "      <td>0.890767</td>\n",
       "      <td>0.046908</td>\n",
       "    </tr>\n",
       "    <tr>\n",
       "      <th>3</th>\n",
       "      <td>-1.238486</td>\n",
       "      <td>6.464792</td>\n",
       "      <td>-0.249392</td>\n",
       "      <td>-0.283642</td>\n",
       "      <td>-0.656934</td>\n",
       "      <td>-0.615588</td>\n",
       "      <td>-0.529034</td>\n",
       "      <td>-0.634505</td>\n",
       "      <td>-0.591359</td>\n",
       "      <td>-0.209116</td>\n",
       "      <td>-0.066506</td>\n",
       "      <td>-0.328930</td>\n",
       "      <td>-0.940494</td>\n",
       "      <td>-0.476329</td>\n",
       "    </tr>\n",
       "    <tr>\n",
       "      <th>4</th>\n",
       "      <td>1.821728</td>\n",
       "      <td>-0.008739</td>\n",
       "      <td>-0.157268</td>\n",
       "      <td>-0.084393</td>\n",
       "      <td>2.576925</td>\n",
       "      <td>-0.631727</td>\n",
       "      <td>0.181557</td>\n",
       "      <td>1.731349</td>\n",
       "      <td>-0.591359</td>\n",
       "      <td>-0.147678</td>\n",
       "      <td>-0.109661</td>\n",
       "      <td>-0.017405</td>\n",
       "      <td>-1.636374</td>\n",
       "      <td>0.831764</td>\n",
       "    </tr>\n",
       "  </tbody>\n",
       "</table>\n",
       "</div>"
      ],
      "text/plain": [
       "   num_critic_for_reviews  duration  director_facebook_likes  \\\n",
       "0               -0.152326  0.154117                -0.220458   \n",
       "1               -1.247107 -1.270874                -0.105053   \n",
       "2                1.063140 -0.700877                -0.259037   \n",
       "3               -1.238486  6.464792                -0.249392   \n",
       "4                1.821728 -0.008739                -0.157268   \n",
       "\n",
       "   actor_3_facebook_likes  actor_1_facebook_likes     gross  num_voted_users  \\\n",
       "0               -0.058190                0.464344  0.413572        -0.115864   \n",
       "1               -0.263990               -0.695866 -0.699294        -0.643040   \n",
       "2               -0.376989               -0.663573 -0.562391        -0.171363   \n",
       "3               -0.283642               -0.656934 -0.615588        -0.529034   \n",
       "4               -0.084393                2.576925 -0.631727         0.181557   \n",
       "\n",
       "   cast_total_facebook_likes  facenumber_in_poster  num_user_for_reviews  \\\n",
       "0                   0.374657              0.297158              0.025262   \n",
       "1                  -0.681775             -0.147101             -0.718832   \n",
       "2                  -0.682963              0.297158             -0.254627   \n",
       "3                  -0.634505             -0.591359             -0.209116   \n",
       "4                   1.731349             -0.591359             -0.147678   \n",
       "\n",
       "     budget  actor_2_facebook_likes  aspect_ratio  movie_facebook_likes  \n",
       "0 -0.094607               -0.262209      0.890767             -0.476329  \n",
       "1 -0.116486               -0.420131     -0.940494             -0.451684  \n",
       "2 -0.076542               -0.390130      0.890767              0.046908  \n",
       "3 -0.066506               -0.328930     -0.940494             -0.476329  \n",
       "4 -0.109661               -0.017405     -1.636374              0.831764  "
      ]
     },
     "execution_count": 64,
     "metadata": {},
     "output_type": "execute_result"
    }
   ],
   "source": [
    "### Scaling x_val\n",
    "names = x_val.columns\n",
    "scaler = StandardScaler()\n",
    "x_val = scaler.fit_transform(x_val)\n",
    "x_val = pd.DataFrame(x_val, columns=names)\n",
    "x_val.head()"
   ]
  },
  {
   "cell_type": "code",
   "execution_count": 65,
   "metadata": {},
   "outputs": [
    {
     "data": {
      "text/html": [
       "<div>\n",
       "<style scoped>\n",
       "    .dataframe tbody tr th:only-of-type {\n",
       "        vertical-align: middle;\n",
       "    }\n",
       "\n",
       "    .dataframe tbody tr th {\n",
       "        vertical-align: top;\n",
       "    }\n",
       "\n",
       "    .dataframe thead th {\n",
       "        text-align: right;\n",
       "    }\n",
       "</style>\n",
       "<table border=\"1\" class=\"dataframe\">\n",
       "  <thead>\n",
       "    <tr style=\"text-align: right;\">\n",
       "      <th></th>\n",
       "      <th>num_critic_for_reviews</th>\n",
       "      <th>duration</th>\n",
       "      <th>director_facebook_likes</th>\n",
       "      <th>actor_3_facebook_likes</th>\n",
       "      <th>actor_1_facebook_likes</th>\n",
       "      <th>gross</th>\n",
       "      <th>num_voted_users</th>\n",
       "      <th>cast_total_facebook_likes</th>\n",
       "      <th>facenumber_in_poster</th>\n",
       "      <th>num_user_for_reviews</th>\n",
       "      <th>budget</th>\n",
       "      <th>actor_2_facebook_likes</th>\n",
       "      <th>aspect_ratio</th>\n",
       "      <th>movie_facebook_likes</th>\n",
       "    </tr>\n",
       "  </thead>\n",
       "  <tbody>\n",
       "    <tr>\n",
       "      <th>0</th>\n",
       "      <td>0.613396</td>\n",
       "      <td>-0.379888</td>\n",
       "      <td>0.031083</td>\n",
       "      <td>-0.250030</td>\n",
       "      <td>-0.294983</td>\n",
       "      <td>-0.567379</td>\n",
       "      <td>-0.188833</td>\n",
       "      <td>-0.361277</td>\n",
       "      <td>0.365441</td>\n",
       "      <td>-0.268438</td>\n",
       "      <td>-0.372818</td>\n",
       "      <td>-0.327844</td>\n",
       "      <td>0.906423</td>\n",
       "      <td>-0.391195</td>\n",
       "    </tr>\n",
       "    <tr>\n",
       "      <th>1</th>\n",
       "      <td>-0.643023</td>\n",
       "      <td>-0.287061</td>\n",
       "      <td>-0.260141</td>\n",
       "      <td>-0.327033</td>\n",
       "      <td>-0.295736</td>\n",
       "      <td>-0.704641</td>\n",
       "      <td>-0.568005</td>\n",
       "      <td>-0.377847</td>\n",
       "      <td>-0.765471</td>\n",
       "      <td>-0.467463</td>\n",
       "      <td>-0.628469</td>\n",
       "      <td>-0.360199</td>\n",
       "      <td>-0.973314</td>\n",
       "      <td>-0.349998</td>\n",
       "    </tr>\n",
       "    <tr>\n",
       "      <th>2</th>\n",
       "      <td>-0.410946</td>\n",
       "      <td>1.940794</td>\n",
       "      <td>-0.253081</td>\n",
       "      <td>-0.259166</td>\n",
       "      <td>-0.292208</td>\n",
       "      <td>-0.126547</td>\n",
       "      <td>-0.238111</td>\n",
       "      <td>-0.360418</td>\n",
       "      <td>-0.765471</td>\n",
       "      <td>-0.071839</td>\n",
       "      <td>-0.611425</td>\n",
       "      <td>-0.402236</td>\n",
       "      <td>0.342502</td>\n",
       "      <td>-0.391195</td>\n",
       "    </tr>\n",
       "    <tr>\n",
       "      <th>3</th>\n",
       "      <td>-0.322916</td>\n",
       "      <td>0.548385</td>\n",
       "      <td>-0.218664</td>\n",
       "      <td>4.418016</td>\n",
       "      <td>0.627221</td>\n",
       "      <td>-0.587808</td>\n",
       "      <td>-0.391586</td>\n",
       "      <td>1.398485</td>\n",
       "      <td>0.365441</td>\n",
       "      <td>-0.360669</td>\n",
       "      <td>-0.244993</td>\n",
       "      <td>3.350225</td>\n",
       "      <td>0.906423</td>\n",
       "      <td>-0.391195</td>\n",
       "    </tr>\n",
       "    <tr>\n",
       "      <th>4</th>\n",
       "      <td>-1.283237</td>\n",
       "      <td>-0.890438</td>\n",
       "      <td>-0.256906</td>\n",
       "      <td>-0.163456</td>\n",
       "      <td>-0.300413</td>\n",
       "      <td>-0.715672</td>\n",
       "      <td>-0.681261</td>\n",
       "      <td>-0.333470</td>\n",
       "      <td>0.930897</td>\n",
       "      <td>-0.780564</td>\n",
       "      <td>-0.705164</td>\n",
       "      <td>-0.347716</td>\n",
       "      <td>-0.973314</td>\n",
       "      <td>-0.387652</td>\n",
       "    </tr>\n",
       "  </tbody>\n",
       "</table>\n",
       "</div>"
      ],
      "text/plain": [
       "   num_critic_for_reviews  duration  director_facebook_likes  \\\n",
       "0                0.613396 -0.379888                 0.031083   \n",
       "1               -0.643023 -0.287061                -0.260141   \n",
       "2               -0.410946  1.940794                -0.253081   \n",
       "3               -0.322916  0.548385                -0.218664   \n",
       "4               -1.283237 -0.890438                -0.256906   \n",
       "\n",
       "   actor_3_facebook_likes  actor_1_facebook_likes     gross  num_voted_users  \\\n",
       "0               -0.250030               -0.294983 -0.567379        -0.188833   \n",
       "1               -0.327033               -0.295736 -0.704641        -0.568005   \n",
       "2               -0.259166               -0.292208 -0.126547        -0.238111   \n",
       "3                4.418016                0.627221 -0.587808        -0.391586   \n",
       "4               -0.163456               -0.300413 -0.715672        -0.681261   \n",
       "\n",
       "   cast_total_facebook_likes  facenumber_in_poster  num_user_for_reviews  \\\n",
       "0                  -0.361277              0.365441             -0.268438   \n",
       "1                  -0.377847             -0.765471             -0.467463   \n",
       "2                  -0.360418             -0.765471             -0.071839   \n",
       "3                   1.398485              0.365441             -0.360669   \n",
       "4                  -0.333470              0.930897             -0.780564   \n",
       "\n",
       "     budget  actor_2_facebook_likes  aspect_ratio  movie_facebook_likes  \n",
       "0 -0.372818               -0.327844      0.906423             -0.391195  \n",
       "1 -0.628469               -0.360199     -0.973314             -0.349998  \n",
       "2 -0.611425               -0.402236      0.342502             -0.391195  \n",
       "3 -0.244993                3.350225      0.906423             -0.391195  \n",
       "4 -0.705164               -0.347716     -0.973314             -0.387652  "
      ]
     },
     "execution_count": 65,
     "metadata": {},
     "output_type": "execute_result"
    }
   ],
   "source": [
    "### Scaling x_test\n",
    "names = x_test.columns\n",
    "scaler = StandardScaler()\n",
    "x_test = scaler.fit_transform(x_test)\n",
    "x_test = pd.DataFrame(x_test, columns=names)\n",
    "x_test.head()"
   ]
  },
  {
   "cell_type": "code",
   "execution_count": 66,
   "metadata": {},
   "outputs": [],
   "source": [
    "### Runing Recursive Feature Elimination \n",
    "model2 = LinearRegression()\n",
    "rfe = RFE(model2, n_features_to_select=7 )\n",
    "rfe = rfe.fit(x_train, y_train)"
   ]
  },
  {
   "cell_type": "code",
   "execution_count": 67,
   "metadata": {},
   "outputs": [
    {
     "data": {
      "text/html": [
       "<div>\n",
       "<style scoped>\n",
       "    .dataframe tbody tr th:only-of-type {\n",
       "        vertical-align: middle;\n",
       "    }\n",
       "\n",
       "    .dataframe tbody tr th {\n",
       "        vertical-align: top;\n",
       "    }\n",
       "\n",
       "    .dataframe thead th {\n",
       "        text-align: right;\n",
       "    }\n",
       "</style>\n",
       "<table border=\"1\" class=\"dataframe\">\n",
       "  <thead>\n",
       "    <tr style=\"text-align: right;\">\n",
       "      <th></th>\n",
       "      <th>Feature</th>\n",
       "      <th>Ranking</th>\n",
       "    </tr>\n",
       "  </thead>\n",
       "  <tbody>\n",
       "    <tr>\n",
       "      <th>1</th>\n",
       "      <td>duration</td>\n",
       "      <td>1</td>\n",
       "    </tr>\n",
       "    <tr>\n",
       "      <th>3</th>\n",
       "      <td>actor_3_facebook_likes</td>\n",
       "      <td>1</td>\n",
       "    </tr>\n",
       "    <tr>\n",
       "      <th>4</th>\n",
       "      <td>actor_1_facebook_likes</td>\n",
       "      <td>1</td>\n",
       "    </tr>\n",
       "    <tr>\n",
       "      <th>6</th>\n",
       "      <td>num_voted_users</td>\n",
       "      <td>1</td>\n",
       "    </tr>\n",
       "    <tr>\n",
       "      <th>7</th>\n",
       "      <td>cast_total_facebook_likes</td>\n",
       "      <td>1</td>\n",
       "    </tr>\n",
       "    <tr>\n",
       "      <th>9</th>\n",
       "      <td>num_user_for_reviews</td>\n",
       "      <td>1</td>\n",
       "    </tr>\n",
       "    <tr>\n",
       "      <th>11</th>\n",
       "      <td>actor_2_facebook_likes</td>\n",
       "      <td>1</td>\n",
       "    </tr>\n",
       "    <tr>\n",
       "      <th>0</th>\n",
       "      <td>num_critic_for_reviews</td>\n",
       "      <td>2</td>\n",
       "    </tr>\n",
       "    <tr>\n",
       "      <th>5</th>\n",
       "      <td>gross</td>\n",
       "      <td>3</td>\n",
       "    </tr>\n",
       "    <tr>\n",
       "      <th>13</th>\n",
       "      <td>movie_facebook_likes</td>\n",
       "      <td>4</td>\n",
       "    </tr>\n",
       "    <tr>\n",
       "      <th>12</th>\n",
       "      <td>aspect_ratio</td>\n",
       "      <td>5</td>\n",
       "    </tr>\n",
       "    <tr>\n",
       "      <th>8</th>\n",
       "      <td>facenumber_in_poster</td>\n",
       "      <td>6</td>\n",
       "    </tr>\n",
       "    <tr>\n",
       "      <th>2</th>\n",
       "      <td>director_facebook_likes</td>\n",
       "      <td>7</td>\n",
       "    </tr>\n",
       "    <tr>\n",
       "      <th>10</th>\n",
       "      <td>budget</td>\n",
       "      <td>8</td>\n",
       "    </tr>\n",
       "  </tbody>\n",
       "</table>\n",
       "</div>"
      ],
      "text/plain": [
       "                      Feature  Ranking\n",
       "1                    duration        1\n",
       "3      actor_3_facebook_likes        1\n",
       "4      actor_1_facebook_likes        1\n",
       "6             num_voted_users        1\n",
       "7   cast_total_facebook_likes        1\n",
       "9        num_user_for_reviews        1\n",
       "11     actor_2_facebook_likes        1\n",
       "0      num_critic_for_reviews        2\n",
       "5                       gross        3\n",
       "13       movie_facebook_likes        4\n",
       "12               aspect_ratio        5\n",
       "8        facenumber_in_poster        6\n",
       "2     director_facebook_likes        7\n",
       "10                     budget        8"
      ]
     },
     "execution_count": 67,
     "metadata": {},
     "output_type": "execute_result"
    }
   ],
   "source": [
    "# Rnking features\n",
    "selected_features = pd.DataFrame({'Feature':list(x.columns),'Ranking':rfe.ranking_})\n",
    "selected_features.sort_values(by='Ranking')"
   ]
  },
  {
   "cell_type": "markdown",
   "metadata": {},
   "source": [
    "##### Taking features that were selected"
   ]
  },
  {
   "cell_type": "code",
   "execution_count": 68,
   "metadata": {},
   "outputs": [],
   "source": [
    "x_train = x_train[['duration','actor_3_facebook_likes','actor_1_facebook_likes','num_voted_users',\n",
    "                  'cast_total_facebook_likes',\n",
    "                   'num_user_for_reviews','actor_2_facebook_likes']]"
   ]
  },
  {
   "cell_type": "code",
   "execution_count": 69,
   "metadata": {},
   "outputs": [],
   "source": [
    "x_val = x_val[['duration','actor_3_facebook_likes','actor_1_facebook_likes','num_voted_users',\n",
    "                  'cast_total_facebook_likes',\n",
    "               'num_user_for_reviews','actor_2_facebook_likes']]"
   ]
  },
  {
   "cell_type": "code",
   "execution_count": 70,
   "metadata": {},
   "outputs": [],
   "source": [
    "x_test = x_test[['duration','actor_3_facebook_likes','actor_1_facebook_likes','num_voted_users',\n",
    "                  'cast_total_facebook_likes',\n",
    "                 'num_user_for_reviews','actor_2_facebook_likes']]"
   ]
  },
  {
   "cell_type": "markdown",
   "metadata": {},
   "source": [
    "#### Running Linear Regression"
   ]
  },
  {
   "cell_type": "code",
   "execution_count": 71,
   "metadata": {},
   "outputs": [
    {
     "data": {
      "text/plain": [
       "LinearRegression(copy_X=True, fit_intercept=True, n_jobs=1, normalize=False)"
      ]
     },
     "execution_count": 71,
     "metadata": {},
     "output_type": "execute_result"
    }
   ],
   "source": [
    "model2 = LinearRegression()\n",
    "model2.fit(x_train, y_train)"
   ]
  },
  {
   "cell_type": "code",
   "execution_count": 72,
   "metadata": {},
   "outputs": [
    {
     "data": {
      "text/plain": [
       "(array([6.45813566]),\n",
       " array([[ 0.25554174,  0.23899235,  1.45487168,  0.57950283, -1.94881231,\n",
       "         -0.19527531,  0.57021478]]))"
      ]
     },
     "execution_count": 72,
     "metadata": {},
     "output_type": "execute_result"
    }
   ],
   "source": [
    "model2.intercept_,model2.coef_"
   ]
  },
  {
   "cell_type": "code",
   "execution_count": 73,
   "metadata": {},
   "outputs": [],
   "source": [
    "y_pred_val = model2.predict(x_val)"
   ]
  },
  {
   "cell_type": "code",
   "execution_count": 74,
   "metadata": {},
   "outputs": [
    {
     "name": "stdout",
     "output_type": "stream",
     "text": [
      "R squared:  0.3270029752986977\n",
      "MSE:  0.7715499740699578\n",
      "RMSE:  0.8783791744286507\n",
      "MAE:  0.6987424901775673\n"
     ]
    }
   ],
   "source": [
    "### Metrics\n",
    "print(\"R squared: \", r2_score(y_val, y_pred_val))\n",
    "print(\"MSE: \", mean_squared_error(y_val, y_pred_val))\n",
    "print(\"RMSE: \", np.sqrt(mean_squared_error(y_val, y_pred_val)))\n",
    "print(\"MAE: \",mean_absolute_error(y_val, y_pred_val))"
   ]
  },
  {
   "cell_type": "markdown",
   "metadata": {},
   "source": [
    "### Ridge"
   ]
  },
  {
   "cell_type": "markdown",
   "metadata": {},
   "source": [
    "#### Conducting Ridge regression"
   ]
  },
  {
   "cell_type": "code",
   "execution_count": 75,
   "metadata": {},
   "outputs": [
    {
     "data": {
      "text/plain": [
       "Ridge(alpha=100, copy_X=True, fit_intercept=True, max_iter=None,\n",
       "   normalize=False, random_state=None, solver='auto', tol=0.001)"
      ]
     },
     "execution_count": 75,
     "metadata": {},
     "output_type": "execute_result"
    }
   ],
   "source": [
    "ridge_reg2 = Ridge(alpha = 100)\n",
    "ridge_reg2.fit(x_train, y_train)"
   ]
  },
  {
   "cell_type": "code",
   "execution_count": 76,
   "metadata": {},
   "outputs": [
    {
     "data": {
      "text/plain": [
       "(array([6.45813566]),\n",
       " array([[ 0.24253224, -0.051933  ,  0.07511068,  0.51355333, -0.09940003,\n",
       "         -0.14202163,  0.03255479]]))"
      ]
     },
     "execution_count": 76,
     "metadata": {},
     "output_type": "execute_result"
    }
   ],
   "source": [
    "ridge_reg2.intercept_, ridge_reg2.coef_"
   ]
  },
  {
   "cell_type": "code",
   "execution_count": 77,
   "metadata": {},
   "outputs": [],
   "source": [
    "ridge2_pred = ridge_reg2.predict(x_val)"
   ]
  },
  {
   "cell_type": "code",
   "execution_count": 78,
   "metadata": {},
   "outputs": [
    {
     "name": "stdout",
     "output_type": "stream",
     "text": [
      "R squared:  0.31142761543843034\n",
      "MSE:  0.7894061726195029\n",
      "RMSE:  0.8884853249319894\n",
      "MAE:  0.7040135766857608\n"
     ]
    }
   ],
   "source": [
    "### Metrics\n",
    "print(\"R squared: \", r2_score(y_val, ridge2_pred))\n",
    "print(\"MSE: \", mean_squared_error(y_val, ridge2_pred))\n",
    "print(\"RMSE: \", np.sqrt(mean_squared_error(y_val, ridge2_pred)))\n",
    "print(\"MAE: \",mean_absolute_error(y_val, ridge2_pred))"
   ]
  },
  {
   "cell_type": "markdown",
   "metadata": {},
   "source": [
    "## Lasso "
   ]
  },
  {
   "cell_type": "markdown",
   "metadata": {},
   "source": [
    "#### Conducted Lasso Regression"
   ]
  },
  {
   "cell_type": "code",
   "execution_count": 79,
   "metadata": {},
   "outputs": [
    {
     "data": {
      "text/plain": [
       "Lasso(alpha=0.01, copy_X=True, fit_intercept=True, max_iter=1000,\n",
       "   normalize=False, positive=False, precompute=False, random_state=None,\n",
       "   selection='cyclic', tol=0.0001, warm_start=False)"
      ]
     },
     "execution_count": 79,
     "metadata": {},
     "output_type": "execute_result"
    }
   ],
   "source": [
    "lasso2_reg = Lasso(alpha =1e-2)\n",
    "lasso2_reg.fit(x_train, y_train)"
   ]
  },
  {
   "cell_type": "code",
   "execution_count": 80,
   "metadata": {},
   "outputs": [
    {
     "data": {
      "text/plain": [
       "(array([6.45813566]),\n",
       " array([ 0.2389022 , -0.06090759,  0.        ,  0.5322832 , -0.        ,\n",
       "        -0.15153125, -0.        ]))"
      ]
     },
     "execution_count": 80,
     "metadata": {},
     "output_type": "execute_result"
    }
   ],
   "source": [
    "lasso2_reg.intercept_, lasso2_reg.coef_"
   ]
  },
  {
   "cell_type": "code",
   "execution_count": 81,
   "metadata": {},
   "outputs": [],
   "source": [
    "lasso2_pred = lasso2_reg.predict(x_val)"
   ]
  },
  {
   "cell_type": "code",
   "execution_count": 82,
   "metadata": {},
   "outputs": [
    {
     "name": "stdout",
     "output_type": "stream",
     "text": [
      "R squared:  0.3105339982826838\n",
      "MSE:  0.7904306500956859\n",
      "RMSE:  0.889061668331104\n",
      "MAE:  0.7036226610869436\n"
     ]
    }
   ],
   "source": [
    "### Metrics\n",
    "print(\"R squared: \", r2_score(y_val, lasso2_pred))\n",
    "print(\"MSE: \", mean_squared_error(y_val, lasso2_pred))\n",
    "print(\"RMSE: \", np.sqrt(mean_squared_error(y_val, lasso2_pred)))\n",
    "print(\"MAE: \",mean_absolute_error(y_val,lasso2_pred))"
   ]
  },
  {
   "cell_type": "markdown",
   "metadata": {},
   "source": [
    "After looking at all three models and how they proformed on the validation set  the linear regression model seemed to do the best with the highest R squared and the lowest error metrics. I will use the linear regression model on the test data "
   ]
  },
  {
   "cell_type": "markdown",
   "metadata": {},
   "source": [
    "**Adding the validation set back to the training set to train the linear regression model on all the training data before it is tested on the test set**"
   ]
  },
  {
   "cell_type": "code",
   "execution_count": 83,
   "metadata": {},
   "outputs": [],
   "source": [
    "new_x_train = x_train.append(x_val)\n",
    "new_y_train = y_train.append(y_val)"
   ]
  },
  {
   "cell_type": "code",
   "execution_count": 84,
   "metadata": {},
   "outputs": [
    {
     "data": {
      "text/plain": [
       "((3004, 7), (3004, 1))"
      ]
     },
     "execution_count": 84,
     "metadata": {},
     "output_type": "execute_result"
    }
   ],
   "source": [
    "new_x_train.shape, new_y_train.shape"
   ]
  },
  {
   "cell_type": "code",
   "execution_count": 85,
   "metadata": {},
   "outputs": [
    {
     "data": {
      "text/plain": [
       "LinearRegression(copy_X=True, fit_intercept=True, n_jobs=1, normalize=False)"
      ]
     },
     "execution_count": 85,
     "metadata": {},
     "output_type": "execute_result"
    }
   ],
   "source": [
    "model2 = LinearRegression()\n",
    "model2.fit(new_x_train, new_y_train)"
   ]
  },
  {
   "cell_type": "code",
   "execution_count": 86,
   "metadata": {},
   "outputs": [
    {
     "data": {
      "text/plain": [
       "(array([6.46934088]),\n",
       " array([[ 0.2634569 ,  0.23593272,  1.40365499,  0.58159595, -1.89470617,\n",
       "         -0.19160063,  0.55953274]]))"
      ]
     },
     "execution_count": 86,
     "metadata": {},
     "output_type": "execute_result"
    }
   ],
   "source": [
    "model2.intercept_,model2.coef_"
   ]
  },
  {
   "cell_type": "markdown",
   "metadata": {},
   "source": [
    "### Test Data"
   ]
  },
  {
   "cell_type": "code",
   "execution_count": 87,
   "metadata": {},
   "outputs": [],
   "source": [
    "y_test_pred = model2.predict(x_test)"
   ]
  },
  {
   "cell_type": "code",
   "execution_count": 88,
   "metadata": {},
   "outputs": [
    {
     "name": "stdout",
     "output_type": "stream",
     "text": [
      "R squared:  0.17413072392615836\n",
      "MSE:  0.9871327153900344\n",
      "RMSE:  0.9935455275879583\n",
      "MAE:  0.7356705338284566\n"
     ]
    }
   ],
   "source": [
    "### Metrics\n",
    "print(\"R squared: \", r2_score(y_test,y_test_pred))\n",
    "print(\"MSE: \", mean_squared_error(y_test, y_test_pred))\n",
    "print(\"RMSE: \", np.sqrt(mean_squared_error(y_test, y_test_pred)))\n",
    "print(\"MAE: \",mean_absolute_error(y_test,y_test_pred))"
   ]
  },
  {
   "cell_type": "markdown",
   "metadata": {},
   "source": [
    "This linear model did not do very good on the test data. The R squared was significantly lower with the test set than the validation set. The MSE and RMSE was much higher with the test set. The only metric that didn't move to much was MAE which moved only a couple of points higher from the validation set to the test set. A better choice could have been the Ridge or Lasso models because these models are more generalized models.  "
   ]
  },
  {
   "cell_type": "markdown",
   "metadata": {},
   "source": [
    "## 2."
   ]
  },
  {
   "cell_type": "markdown",
   "metadata": {},
   "source": [
    "### Batch Gradient Descent"
   ]
  },
  {
   "cell_type": "markdown",
   "metadata": {},
   "source": [
    "Batch Gradient Descent calculates the error for each observation in the training data. If there is a lot of data in the data set than batch gradient Descent becomes very costly because it has to go through the whole dataset. Batch Gradient Descent will do less walking around the minimum than min-batch and Stochastic but it will take longer to get to the minimum."
   ]
  },
  {
   "cell_type": "markdown",
   "metadata": {},
   "source": [
    "### Mini-Batch Gradient Descent"
   ]
  },
  {
   "cell_type": "markdown",
   "metadata": {},
   "source": [
    "In mini-batch gradient descent we first divide the training data into small random batchs. The batchs are between 30-500 depending on the size of the problem. Next we would perform one update per mini-batch. Mini-batch will walk around a bit closer to the minimum than Stochastic Gradient Descent which I will cover next. "
   ]
  },
  {
   "cell_type": "markdown",
   "metadata": {},
   "source": [
    "### Stochastic Gradient Descent \n"
   ]
  },
  {
   "cell_type": "markdown",
   "metadata": {},
   "source": [
    "Stochastic Gradient Descent picks a instance at random in the training data at every step and takes the gradients based on the single instance. This will make the algorithm much faster and easier to train on large data sets. The cost function will bounce around only getting smaller on average. It will find the minimum over time but once it gets there it will bounce around never settling down. One way to have it settle is to gradually reduce the learning rate. "
   ]
  },
  {
   "cell_type": "markdown",
   "metadata": {},
   "source": [
    "### Mathematical Notations \n",
    "**from:** https://www.hackerearth.com/blog/machine-learning/3-types-gradient-descent-algorithms-small-large-data-sets/\n",
    "\n",
    "Mathematical notations can be found at this link or on the last page"
   ]
  },
  {
   "cell_type": "markdown",
   "metadata": {},
   "source": [
    "## Other Optimization Algorithms"
   ]
  },
  {
   "cell_type": "markdown",
   "metadata": {},
   "source": [
    "### Adagrad"
   ]
  },
  {
   "cell_type": "markdown",
   "metadata": {},
   "source": [
    "Adagrad adapts the learning rate to the parameters. Smaller updates are performed on parameters associated with frequently occurring features. Larger updates happen on parameters associated with infrequent features. Adagrad is suited to work with sparse data.  Basically Adagrad uses different learning rates for every parameter at every step."
   ]
  },
  {
   "cell_type": "markdown",
   "metadata": {},
   "source": [
    "### Adadelta"
   ]
  },
  {
   "cell_type": "markdown",
   "metadata": {},
   "source": [
    "Adadelta is just an extension of Adagrad. Instead of taking all the past squared gradients it only takes the accumulated past gradients from some fixed size. The difference between Adagrad and Adadelta is that Adadelta takes into account the scale learning rate based on the historical gradient for a recent window not like Adagrad which takes in the whole history."
   ]
  },
  {
   "cell_type": "markdown",
   "metadata": {},
   "source": [
    "### Adaptive Moment Estimation (Adam)"
   ]
  },
  {
   "cell_type": "markdown",
   "metadata": {},
   "source": [
    "Adam is a method that computes adaptive learning rates for each parameter, which means Adam finds individual learning rates for each parameter. Adam uses the squared gradients to scale the learning rate and also finds a moving average of the gradient instead of gradient itself. It sounds like Adam uses momentum, but in Adam the ball is heavy and has friction when rolling down the hill. This leads Adam to prefer a flat minima in the error surface. "
   ]
  },
  {
   "cell_type": "markdown",
   "metadata": {},
   "source": [
    "## Stochastic Gradient Descent"
   ]
  },
  {
   "cell_type": "markdown",
   "metadata": {},
   "source": [
    "![](sdg.png)"
   ]
  },
  {
   "cell_type": "markdown",
   "metadata": {},
   "source": [
    "## Batch Gradient Descent"
   ]
  },
  {
   "cell_type": "markdown",
   "metadata": {},
   "source": [
    "![](Batch.png)"
   ]
  },
  {
   "cell_type": "markdown",
   "metadata": {},
   "source": [
    "## Mini-Batch Gradient Descent"
   ]
  },
  {
   "cell_type": "markdown",
   "metadata": {},
   "source": [
    "![](min.png)"
   ]
  }
 ],
 "metadata": {
  "kernelspec": {
   "display_name": "Python 3",
   "language": "python",
   "name": "python3"
  },
  "language_info": {
   "codemirror_mode": {
    "name": "ipython",
    "version": 3
   },
   "file_extension": ".py",
   "mimetype": "text/x-python",
   "name": "python",
   "nbconvert_exporter": "python",
   "pygments_lexer": "ipython3",
   "version": "3.6.5"
  }
 },
 "nbformat": 4,
 "nbformat_minor": 2
}
